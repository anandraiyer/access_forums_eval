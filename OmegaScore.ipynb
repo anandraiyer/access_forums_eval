{
  "nbformat": 4,
  "nbformat_minor": 0,
  "metadata": {
    "colab": {
      "name": "OmegaScore.ipynb",
      "provenance": [],
      "collapsed_sections": [],
      "authorship_tag": "ABX9TyPmXZ6s8ZBybcD9QeAF1WfA",
      "include_colab_link": true
    },
    "kernelspec": {
      "name": "python3",
      "display_name": "Python 3"
    },
    "language_info": {
      "name": "python"
    }
  },
  "cells": [
    {
      "cell_type": "markdown",
      "metadata": {
        "id": "view-in-github",
        "colab_type": "text"
      },
      "source": [
        "<a href=\"https://colab.research.google.com/github/anandraiyer/access_forums_eval/blob/main/OmegaScore.ipynb\" target=\"_parent\"><img src=\"https://colab.research.google.com/assets/colab-badge.svg\" alt=\"Open In Colab\"/></a>"
      ]
    },
    {
      "cell_type": "code",
      "metadata": {
        "id": "1JJYIu6Tv_Va"
      },
      "source": [
        "import pandas as pd\n",
        "import numpy as np\n",
        "import math\n",
        "from itertools import combinations"
      ],
      "execution_count": 8,
      "outputs": []
    },
    {
      "cell_type": "code",
      "metadata": {
        "id": "3ukGdnXRwBGI"
      },
      "source": [
        "def get_all_posts(s1,s2={'E':{}}):\n",
        "# This function returns a set of all the posts in the union of all the input clusters in the two input clusterings.\n",
        "# Input : \n",
        "# s1 : clustering, a dictionary representing a set of sets\n",
        "# s2 : (optional) clustering, a dictionary representing a set of sets. \n",
        "# Output :\n",
        "# u : a universal set with all the posts in the thread\n",
        "  u = set([])\n",
        "  for _,v in s1.items():\n",
        "    u = u.union(set(v))\n",
        "  for _,v in s2.items():\n",
        "    u = u.union(set(v))\n",
        "  return(u)"
      ],
      "execution_count": 9,
      "outputs": []
    },
    {
      "cell_type": "code",
      "metadata": {
        "id": "EbNKr1d6LT7i"
      },
      "source": [
        "def create_contingency_table_for_omega_index(s1,s2):\n",
        "# This function creates the contingency table used to calculate the omega index\n",
        "# Input : \n",
        "# s1 : clustering, a dictionary representing a set of sets.\n",
        "# s2 : clustering, a dictionary representing a set of sets. \n",
        "# Output :\n",
        "# table : numpy nd-array with contingency table for omega index calculation.\n",
        "# sum_rows : numpy array with sum of each row in contingency table.\n",
        "# sum_cols : numpy array with sum of each column in contingency table.\n",
        "# agreement : numpy array with diagonal elements of the contingency table.\n",
        "# J : Number of clusters in input s1 \n",
        "# K : Number of clusters in input s2\n",
        "\n",
        "  posts = get_all_posts(s1,s2)\n",
        "  n = len(posts)\n",
        "  all_pairs = list(combinations(posts,2)) # get all nC2 pairs of posts. \n",
        "  if len(all_pairs) == (n*(n-1.0)/2.0):\n",
        "    s1_count = {}\n",
        "    s2_count = {}\n",
        "    cluster1_count = {}\n",
        "    cluster2_count = {}\n",
        "    J = len(s1.items())\n",
        "    K = len(s2.items())\n",
        "    \n",
        "    for (a,b) in all_pairs:\n",
        "      counter = 0\n",
        "      for _,si in s1.items():\n",
        "        if (a in si) and (b in si):\n",
        "          #Count all pairs that occur together in the same cluster\n",
        "          counter = counter + 1\n",
        "      s1_count[(a,b)] = counter\n",
        "      if counter in cluster1_count:\n",
        "        #Dictionary with Count of Clusters in s1 that pairs occur together in and set of the pairs\n",
        "        #eg - {1 : {(1,2),(3,4)}} means the pairs (1,2) and (3,4) occur together in 1 cluster in s1.\n",
        "        cluster1_count[counter] = cluster1_count.get(counter).union(set([(a,b)]))\n",
        "      else:\n",
        "        cluster1_count[counter] = set([(a,b)])\n",
        "      counter = 0\n",
        "      for _,si in s2.items():\n",
        "        if (a in si) and (b in si):\n",
        "          counter = counter + 1\n",
        "      s2_count[(a,b)] = counter\n",
        "      if counter in cluster2_count:\n",
        "        #Dictionary with Count of Clusters in s2 that pairs occur together in and set of the pairs\n",
        "        #eg - {1 : {(1,2),(3,4)}} means the pairs (1,2) and (3,4) occur together in 1 cluster in s2.\n",
        "        cluster2_count[counter] = cluster2_count.get(counter).union(set([(a,b)]))\n",
        "      else:\n",
        "        cluster2_count[counter] = set([(a,b)])\n",
        "    \n",
        "    table = []\n",
        "    agreement = []\n",
        "\n",
        "  \n",
        "    for j in range(J+1):\n",
        "      table_row = []\n",
        "      for k in range(K+1):\n",
        "        #Get a count of all pairs of posts that occur together in j clusters in s1 and k clusters in s2. \n",
        "        n_jk = len(cluster1_count.get(j,set([])).intersection(cluster2_count.get(k,set([]))))\n",
        "        if j == k:\n",
        "          #Diagonal Elements are added to Agreement List\n",
        "          agreement.append(n_jk)\n",
        "        table_row.append(n_jk)\n",
        "      #Constructing the Contingency Table one row at a time  \n",
        "      table.append(table_row)\n",
        "    table = np.array(table)\n",
        "    #Get Row and Column Sum of Contingency Table\n",
        "    sum_rows = np.sum(table, axis = 1)\n",
        "    sum_cols = np.sum(table, axis = 0)\n",
        "\n",
        "    return (table,sum_rows,sum_cols,agreement,J,K)\n",
        "  else:\n",
        "    PRINT(\"ERROR\")"
      ],
      "execution_count": 10,
      "outputs": []
    },
    {
      "cell_type": "code",
      "metadata": {
        "id": "w8E22AomLZWC"
      },
      "source": [
        "def get_omega_score(s1,s2):\n",
        "# Extension of Adjusted Rand Index for soft clusters\n",
        "# Refer : https://drive.google.com/file/d/1Mm8TI8870uxhVFuzJjw41UjQMjAiOSf7/view?usp=sharing\n",
        "# Input : \n",
        "# s1 : clustering, a dictionary representing a set of sets.\n",
        "# s2 : clustering, a dictionary representing a set of sets. \n",
        "# Output :\n",
        "# omega_score : similarity between clusterings s1 and s2.\n",
        "  \n",
        "  #Get table, rowsum, colsum, agreement and J and K indices from s1 and s2 using helper function.\n",
        "  table, rowsum, colsum,agreement,J,K = create_contingency_table_for_omega_index(s1,s2)\n",
        "  rowN = np.sum(rowsum)\n",
        "  colN = np.sum(colsum)\n",
        "  if rowN == colN:\n",
        "    N = rowN\n",
        "  else:\n",
        "    print('Error',rowN, colN,s1,s2,table)\n",
        "  print('Contingency Table,', 'Row Sums,', 'Column Sums,', 'Agreement,', 'N,', 'J,', 'K')\n",
        "  print(table, rowsum, colsum,agreement,N,J,K)\n",
        "  min_jk = min(J,K) #Minimum from J and K for upper bound on Summation\n",
        "  #Calculate Unadjusted Rand Index\n",
        "  unadjusted_rand_index = 0.0\n",
        "  for i in range(min_jk+1):\n",
        "    unadjusted_rand_index = unadjusted_rand_index + (agreement[i] / N)\n",
        "  #Calculate Expected Rand Index\n",
        "  expected_rand_index = 0.0\n",
        "  for i in range(min_jk+1):\n",
        "    expected_rand_index = expected_rand_index + ((rowsum[i] * colsum[i]) / (N * N))\n",
        "  #Calculate Omega Index\n",
        "  omega_score = (unadjusted_rand_index - expected_rand_index)/(1 - expected_rand_index)\n",
        "  print('Unadjusted Rand Index',unadjusted_rand_index)\n",
        "  print('Expected Rand Index',expected_rand_index)\n",
        "  print('Unadjusted Rand Index - Expected Rand Index = ', unadjusted_rand_index - expected_rand_index)\n",
        "  print('1 - expected_rand_index = ',1 - expected_rand_index)\n",
        "  print('Omega Score : ', omega_score)\n",
        "  if omega_score < 0 :\n",
        "    #No similarity between s1 and s2 \n",
        "    omega_score = 0.0\n",
        "  return round(omega_score,2)"
      ],
      "execution_count": 36,
      "outputs": []
    },
    {
      "cell_type": "code",
      "metadata": {
        "colab": {
          "base_uri": "https://localhost:8080/"
        },
        "id": "DCbAAaPPxPwE",
        "outputId": "d465fc89-90e8-44fe-9995-2e8b704e1514"
      },
      "source": [
        "gold = {'C1':{1,2,3,4},'C2':{4,5,6,7},'C3':{8,9},'C4':{10}}\n",
        "pred = {'D1':{1,2,3,4},'D2':{3,4,5,6,7},'D3':{8,9,10}}\n",
        "#Example in the paper , Output is 0.71\n",
        "omega = get_omega_score(gold,pred)"
      ],
      "execution_count": 37,
      "outputs": [
        {
          "output_type": "stream",
          "name": "stdout",
          "text": [
            "Contingency Table, Row Sums, Column Sums, Agreement, N, J, K\n",
            "[[27  5  0  0]\n",
            " [ 0 12  1  0]\n",
            " [ 0  0  0  0]\n",
            " [ 0  0  0  0]\n",
            " [ 0  0  0  0]] [32 13  0  0  0] [27 17  1  0] [27, 12, 0, 0] 45 4 3\n",
            "Unadjusted Rand Index 0.8666666666666667\n",
            "Expected Rand Index 0.5358024691358025\n",
            "Unadjusted Rand Index - Expected Rand Index =  0.33086419753086416\n",
            "1 - expected_rand_index =  0.46419753086419746\n",
            "Omega Score :  0.7127659574468085\n"
          ]
        }
      ]
    },
    {
      "cell_type": "code",
      "metadata": {
        "colab": {
          "base_uri": "https://localhost:8080/"
        },
        "id": "2yEq_ksPxpjD",
        "outputId": "b314f105-8919-4587-cd08-2a352e620f7d"
      },
      "source": [
        "print(omega)"
      ],
      "execution_count": 38,
      "outputs": [
        {
          "output_type": "stream",
          "name": "stdout",
          "text": [
            "0.71\n"
          ]
        }
      ]
    },
    {
      "cell_type": "code",
      "metadata": {
        "colab": {
          "base_uri": "https://localhost:8080/"
        },
        "id": "PBQDiT8airVX",
        "outputId": "8c3753b0-e861-46ad-e35e-17a1c06bf08a"
      },
      "source": [
        "omega = get_omega_score(gold,gold)"
      ],
      "execution_count": 39,
      "outputs": [
        {
          "output_type": "stream",
          "name": "stdout",
          "text": [
            "Contingency Table, Row Sums, Column Sums, Agreement, N, J, K\n",
            "[[32  0  0  0  0]\n",
            " [ 0 13  0  0  0]\n",
            " [ 0  0  0  0  0]\n",
            " [ 0  0  0  0  0]\n",
            " [ 0  0  0  0  0]] [32 13  0  0  0] [32 13  0  0  0] [32, 13, 0, 0, 0] 45 4 4\n",
            "Unadjusted Rand Index 1.0\n",
            "Expected Rand Index 0.5891358024691358\n",
            "Unadjusted Rand Index - Expected Rand Index =  0.41086419753086423\n",
            "1 - expected_rand_index =  0.41086419753086423\n",
            "Omega Score :  1.0\n"
          ]
        }
      ]
    },
    {
      "cell_type": "code",
      "metadata": {
        "colab": {
          "base_uri": "https://localhost:8080/"
        },
        "id": "fAelmo1gk3XD",
        "outputId": "a000f1fa-033b-4dae-d445-9e013be6289b"
      },
      "source": [
        "print(omega)"
      ],
      "execution_count": 40,
      "outputs": [
        {
          "output_type": "stream",
          "name": "stdout",
          "text": [
            "1.0\n"
          ]
        }
      ]
    },
    {
      "cell_type": "code",
      "metadata": {
        "colab": {
          "base_uri": "https://localhost:8080/"
        },
        "id": "6LK9dVAEk52a",
        "outputId": "7bcccf7b-b0a5-498e-eb65-bd9761000246"
      },
      "source": [
        "omega = get_omega_score(gold,{'E1':{}})"
      ],
      "execution_count": 41,
      "outputs": [
        {
          "output_type": "stream",
          "name": "stdout",
          "text": [
            "Contingency Table, Row Sums, Column Sums, Agreement, N, J, K\n",
            "[[32  0]\n",
            " [13  0]\n",
            " [ 0  0]\n",
            " [ 0  0]\n",
            " [ 0  0]] [32 13  0  0  0] [45  0] [32, 0] 45 4 1\n",
            "Unadjusted Rand Index 0.7111111111111111\n",
            "Expected Rand Index 0.7111111111111111\n",
            "Unadjusted Rand Index - Expected Rand Index =  0.0\n",
            "1 - expected_rand_index =  0.28888888888888886\n",
            "Omega Score :  0.0\n"
          ]
        }
      ]
    },
    {
      "cell_type": "code",
      "metadata": {
        "colab": {
          "base_uri": "https://localhost:8080/"
        },
        "id": "25iRwdbilDdf",
        "outputId": "1fc424d2-95a1-4113-9886-2fd71a562250"
      },
      "source": [
        "print(omega)"
      ],
      "execution_count": 35,
      "outputs": [
        {
          "output_type": "stream",
          "name": "stdout",
          "text": [
            "0.0\n"
          ]
        }
      ]
    },
    {
      "cell_type": "code",
      "metadata": {
        "id": "8LBlONWYouLc"
      },
      "source": [
        ""
      ],
      "execution_count": null,
      "outputs": []
    }
  ]
}