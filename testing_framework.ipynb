{
  "nbformat": 4,
  "nbformat_minor": 0,
  "metadata": {
    "colab": {
      "name": "testing_framework.ipynb",
      "provenance": [],
      "collapsed_sections": [],
      "machine_shape": "hm",
      "mount_file_id": "1eTQQMou4g88EYXZePTS4YqKeF4qY0J1K",
      "authorship_tag": "ABX9TyPjeXcAAbffx2bf3Pre8G7V",
      "include_colab_link": true
    },
    "kernelspec": {
      "display_name": "Python 3",
      "name": "python3"
    },
    "language_info": {
      "name": "python"
    }
  },
  "cells": [
    {
      "cell_type": "markdown",
      "metadata": {
        "id": "view-in-github",
        "colab_type": "text"
      },
      "source": [
        "<a href=\"https://colab.research.google.com/github/anandraiyer/access_forums_eval/blob/main/testing_framework.ipynb\" target=\"_parent\"><img src=\"https://colab.research.google.com/assets/colab-badge.svg\" alt=\"Open In Colab\"/></a>"
      ]
    },
    {
      "cell_type": "code",
      "metadata": {
        "id": "4KSgOPNxnoZl"
      },
      "source": [
        "import pandas as pd\n",
        "import numpy as np\n",
        "import math\n",
        "from itertools import combinations\n",
        "from itertools import chain\n",
        "from itertools import product\n",
        "from itertools import starmap\n",
        "from functools import partial\n",
        "import networkx as nx"
      ],
      "execution_count": 1,
      "outputs": []
    },
    {
      "cell_type": "code",
      "metadata": {
        "id": "oiKlFa2un4X6"
      },
      "source": [
        "#The ground truth is stored here\n",
        "data = pd.read_csv('/content/drive/MyDrive/final.csv')"
      ],
      "execution_count": 2,
      "outputs": []
    },
    {
      "cell_type": "code",
      "metadata": {
        "colab": {
          "base_uri": "https://localhost:8080/"
        },
        "id": "87O6SXfhoAEn",
        "outputId": "92fac78a-d01b-47e0-ad0b-0c67ef94240a"
      },
      "source": [
        "data.columns"
      ],
      "execution_count": 3,
      "outputs": [
        {
          "output_type": "execute_result",
          "data": {
            "text/plain": [
              "Index(['Thread', 'DateTime', 'Author', 'Post', 'ParentPosts', 'PostID',\n",
              "       'ThreadID', 'AuthorID', 'OriginID', 'DialogAct', 'ParentID_List'],\n",
              "      dtype='object')"
            ]
          },
          "metadata": {},
          "execution_count": 3
        }
      ]
    },
    {
      "cell_type": "code",
      "metadata": {
        "id": "N_s_nT-VoBuQ"
      },
      "source": [
        "df = data[['Thread','ThreadID','PostID','DateTime','Author','Post','ParentID_List']]"
      ],
      "execution_count": 4,
      "outputs": []
    },
    {
      "cell_type": "code",
      "metadata": {
        "id": "6jibkLsrhqpQ"
      },
      "source": [
        "thread_pid_author_dic = {}\n",
        "for i in range(max(df['ThreadID'])+1):\n",
        "  temp = df[df['ThreadID']==i]\n",
        "  authors = list(temp['Author'])\n",
        "  if (len(authors)> 0):\n",
        "    for j in range(len(authors)):\n",
        "      thread_pid_author_dic[(i,j)] = authors[j]"
      ],
      "execution_count": 5,
      "outputs": []
    },
    {
      "cell_type": "code",
      "metadata": {
        "id": "VvU4f4YwG61-"
      },
      "source": [
        "def get_conversation_dag(tid):\n",
        "  #Returns the Directed Acyclic Graph representing the Thread. Here nodes are messages and edges capture the 'reply to' relationship.\n",
        "  #Use this function to calculate metrics using networkx library on graphs downstream.\n",
        "  temp = df[df['ThreadID']==tid]\n",
        "\n",
        "  threads = list(temp['Thread'])\n",
        "  postids = list(temp['PostID'])\n",
        "  posts = list(temp['Post'])\n",
        "  datetimes = list(temp['DateTime'])\n",
        "  authors = list(temp['Author'])\n",
        "  parentids = list(temp['ParentID_List'])\n",
        "\n",
        "  G = nx.DiGraph()\n",
        "  G.add_nodes_from(posts)\n",
        "\n",
        "  edges = []\n",
        "  for i in range(len(postids)):\n",
        "    parent = parentids[i]\n",
        "    child = postids[i]\n",
        "\n",
        "    if parent == \"-1\":\n",
        "      continue\n",
        "    else:\n",
        "      if parent == \"[]\":\n",
        "        if i > 1:\n",
        "          parent = \"[\"+str(postids[i-1])+\"]\"\n",
        "        else:\n",
        "          parent = \"[\"+str(postids[0])+\"]\"\n",
        "      parent = int(parent[1:-1])\n",
        "    edges.append((parent,child))\n",
        "  G.add_edges_from(edges)\n",
        "  return G"
      ],
      "execution_count": 6,
      "outputs": []
    },
    {
      "cell_type": "code",
      "metadata": {
        "id": "Q78OSDuQpAB4"
      },
      "source": [
        "def get_subthreads(tid):\n",
        "  #Get a list of lists. Given a thread id get all the subthreads.\n",
        "  temp = df[df['ThreadID']==tid]\n",
        "\n",
        "  threads = list(temp['Thread'])\n",
        "  postids = list(temp['PostID'])\n",
        "  if len(postids)<2:\n",
        "    return (postids)\n",
        "  posts = list(temp['Post'])\n",
        "  datetimes = list(temp['DateTime'])\n",
        "  authors = list(temp['Author'])\n",
        "  parentids = list(temp['ParentID_List'])\n",
        "\n",
        "  G = nx.DiGraph()\n",
        "  G.add_nodes_from(posts)\n",
        "\n",
        "  edges = []\n",
        "  for i in range(len(postids)):\n",
        "    parent = parentids[i]\n",
        "    child = postids[i]\n",
        "\n",
        "    if parent == \"-1\":\n",
        "      continue  \n",
        "    else:\n",
        "      if parent == \"[]\":\n",
        "        if i > 1:\n",
        "          parent = \"[\"+str(postids[i-1])+\"]\"\n",
        "        else:\n",
        "          parent = \"[\"+str(postids[0])+\"]\"\n",
        "      parent = int(parent[1:-1])\n",
        "    edges.append((parent,child))\n",
        "  G.add_edges_from(edges)\n",
        "  chaini = chain.from_iterable\n",
        "  roots = (n for n,d in G.in_degree() if d==0)\n",
        "  leaves = (n for n,d in G.out_degree() if d==0)\n",
        "  all_paths = partial(nx.all_simple_paths, G)\n",
        "  ans = list(chaini(starmap(all_paths, product(roots, leaves))))\n",
        "  return(ans)"
      ],
      "execution_count": 7,
      "outputs": []
    },
    {
      "cell_type": "code",
      "metadata": {
        "id": "hcoRgdChyewT"
      },
      "source": [
        "def get_list_subthreads(cluster_name,threadID):\n",
        "  conversations = []\n",
        "  for i, val in enumerate(get_subthreads(threadID)):\n",
        "    conversations.append(cluster_name+str(i)+\":\"+str(val)[1:-1].replace(',',''))\n",
        "  return conversations"
      ],
      "execution_count": 8,
      "outputs": []
    },
    {
      "cell_type": "code",
      "metadata": {
        "id": "ngkTHaugyE54"
      },
      "source": [
        "def get_n(s1,s2={'E':{}}):\n",
        "  #size of dataset D. Total number of posts in a thread.\n",
        "  u = set([])\n",
        "  for _,v in s1.items():\n",
        "    u = u.union(set(v))\n",
        "  for _,v in s2.items():\n",
        "    u = u.union(set(v))\n",
        "  return(len(u))"
      ],
      "execution_count": 9,
      "outputs": []
    },
    {
      "cell_type": "code",
      "metadata": {
        "id": "_A8nRpNZMuxF"
      },
      "source": [
        "def get_length_clustering(s):\n",
        "  #Get length of each clustering within a cluster s = {s1,s2,s3}, here we return [len(s1),len(s2)...]\n",
        "  list_len = []\n",
        "  for _,v in s.items():\n",
        "    list_len.append(len(v))\n",
        "  return(list_len)"
      ],
      "execution_count": 10,
      "outputs": []
    },
    {
      "cell_type": "code",
      "metadata": {
        "id": "IRiDqXHAl1Q9"
      },
      "source": [
        "def get_points(s):\n",
        "  #Get all points in each cluster in the clustering s\n",
        "  u = set([])\n",
        "  for _,v in s.items():\n",
        "    u = u.union(set(v))\n",
        "  return(u)"
      ],
      "execution_count": 11,
      "outputs": []
    },
    {
      "cell_type": "code",
      "metadata": {
        "id": "gaHGh8jtyMon"
      },
      "source": [
        "def get_points(s1,s2={'E':{}}):\n",
        "  #Get all points in each cluster in the clustering s\n",
        "  u = set([])\n",
        "  for _,v in s1.items():\n",
        "    u = u.union(set(v))\n",
        "  for _,v in s2.items():\n",
        "    u = u.union(set(v))\n",
        "  return(u)"
      ],
      "execution_count": 12,
      "outputs": []
    },
    {
      "cell_type": "code",
      "metadata": {
        "id": "SPldSHLuFzmM"
      },
      "source": [
        "def create_contingency_table(gold, auto):\n",
        "  #Refer https://en.wikipedia.org/wiki/Rand_index#The_contingency_table\n",
        "  #https://people.eng.unimelb.edu.au/baileyj/papers/yanglei.pdf\n",
        "  #Generalization for Soft Clusters : http://derektanderson.com/pdfs/05482124.pdf\n",
        "  table = []\n",
        "  names_gold = []\n",
        "  names_auto = []\n",
        "  for i, _ in gold.items():\n",
        "    names_gold.append(i)\n",
        "  for i, _ in auto.items():\n",
        "    names_auto.append(i)\n",
        "  for i, v1 in gold.items():\n",
        "    table_row = []\n",
        "    for j, v2 in auto.items():\n",
        "      table_row.append(len(v1.intersection(v2)))\n",
        "    table.append(table_row)\n",
        "  table = np.array(table)\n",
        "  sum_rows = np.sum(table, axis = 1)\n",
        "  sum_cols = np.sum(table, axis = 0)\n",
        "  n = get_n(gold)\n",
        "  #Generalization for soft clusterings\n",
        "  n_max = np.sum(sum_rows)\n",
        "  phi = n/n_max\n",
        "  table = np.multiply(phi,table)\n",
        "  sum_rows = np.sum(table, axis = 1)\n",
        "  sum_cols = np.sum(table, axis = 0)\n",
        "  return table, sum_rows, sum_cols, names_gold, names_auto"
      ],
      "execution_count": 13,
      "outputs": []
    },
    {
      "cell_type": "code",
      "metadata": {
        "id": "4RHKw3-WVIRF"
      },
      "source": [
        "def get_information_entropy(s1,s2):\n",
        "  c,c_rows,c_cols,g_name, a_name = create_contingency_table(s1,s2)\n",
        "  H_u = 0.0\n",
        "  H_v = 0.0\n",
        "  total = get_n(s1)\n",
        "  for i in range(len(c_rows)):\n",
        "    if c_rows[i] > 0:\n",
        "      H_u = H_u - ((c_rows[i]/total) * math.log(c_rows[i]/total,2))\n",
        "  for i in range(len(c_cols)):\n",
        "    if c_cols[i] > 0:\n",
        "      H_v = H_v - ((c_cols[i]/total) * math.log(c_cols[i]/total,2))\n",
        "  return (H_u,H_v)"
      ],
      "execution_count": 14,
      "outputs": []
    },
    {
      "cell_type": "code",
      "metadata": {
        "id": "5gMEA7KEOJdC"
      },
      "source": [
        "def get_mi(s1,s2):\n",
        "  c,c_rows,c_cols,g_name, a_name = create_contingency_table(s1,s2)\n",
        "  I_uv = 0.0\n",
        "  total = get_n(s1)\n",
        "  for i in range(len(c_rows)):\n",
        "    for j in range(len(c_cols)):\n",
        "      if c[i][j] > 0:\n",
        "        I_uv = I_uv + ((c[i][j] / total) * math.log((c[i][j] * total) / (c_rows[i] * c_cols[j]), 2.0))\n",
        "      else:\n",
        "        continue\n",
        "  return(I_uv)"
      ],
      "execution_count": 15,
      "outputs": []
    },
    {
      "cell_type": "code",
      "metadata": {
        "id": "tZMlYZ_ZOJxh"
      },
      "source": [
        "def get_joint_entropy(s1,s2):\n",
        "  c,c_rows,c_cols,g_name, a_name = create_contingency_table(s1,s2)\n",
        "  H_uv = 0.0\n",
        "  total = get_n(s1)\n",
        "  for i in range(len(c_rows)):\n",
        "    for j in range(len(c_cols)):\n",
        "      if c[i][j] > 0:\n",
        "        H_uv = H_uv - ((c[i][j] / total) * math.log(c[i][j] / total, 2.0))\n",
        "      else:\n",
        "        continue\n",
        "  return(H_uv)"
      ],
      "execution_count": 16,
      "outputs": []
    },
    {
      "cell_type": "code",
      "metadata": {
        "id": "AvdiSdDeF0DH"
      },
      "source": [
        "def get_vi(s1,s2):\n",
        "  #Refer : Original Paper : https://sites.stat.washington.edu/mmp/Papers/compare-colt.pdf\n",
        "  #Refer : Code from Kummerfeld : https://github.com/jkkummerfeld/irc-disentanglement/blob/master/tools/evaluation/conversation-eval.py\n",
        "  #Refer : *IMP* Adjustment for Soft Clusterings -> https://people.eng.unimelb.edu.au/baileyj/papers/yanglei.pdf\n",
        "  H_uv = get_joint_entropy(s1,s2)\n",
        "  I_uv = get_mi(s1,s2)\n",
        "  #H_u,H_v = get_information_entropy(s1,s2)\n",
        "  VI = H_uv - I_uv\n",
        "  #VI = H_u + H_v - 2*I_uv (Equivalent Formula)\n",
        "  return(VI)"
      ],
      "execution_count": 17,
      "outputs": []
    },
    {
      "cell_type": "code",
      "metadata": {
        "id": "8PsUHql0OJKw"
      },
      "source": [
        "def get_one_minus_scaled_vi(s1,s2):\n",
        "  c,c_rows,c_cols,g_name, a_name = create_contingency_table(s1,s2)\n",
        "  VI = get_vi(s1,s2)\n",
        "  n = np.sum(c_rows)\n",
        "  max_score = math.log(n, 2.0)\n",
        "  scaled_VI = VI / max_score\n",
        "  \n",
        "  return round(1 - scaled_VI,3)"
      ],
      "execution_count": 18,
      "outputs": []
    },
    {
      "cell_type": "code",
      "metadata": {
        "id": "nU7LTm1YU9og"
      },
      "source": [
        "def get_normalized_vi(s1,s2):\n",
        "  H_uv = get_joint_entropy(s1,s2)\n",
        "  I_uv = get_mi(s1,s2)\n",
        "  NVI = 1 - (I_uv / H_uv)\n",
        "  return (round(NVI,3))"
      ],
      "execution_count": 19,
      "outputs": []
    },
    {
      "cell_type": "code",
      "metadata": {
        "id": "V-leUyOU2JF1"
      },
      "source": [
        "def get_normalized_information_distance(s1,s2):\n",
        "  I_uv = get_mi(s1,s2)\n",
        "  H_u,H_v = get_information_entropy(s1,s2)\n",
        "  nid = 1 - (I_uv / max(H_u,H_v))\n",
        "  return (round(nid,3))"
      ],
      "execution_count": 20,
      "outputs": []
    },
    {
      "cell_type": "code",
      "metadata": {
        "id": "QZX2ZqfEU91g"
      },
      "source": [
        "def get_nmi_joint(s1,s2):\n",
        "  H_uv = get_joint_entropy(s1,s2)\n",
        "  I_uv = get_mi(s1,s2)\n",
        "  nmi = (I_uv / H_uv)\n",
        "  return (round(nmi,3))"
      ],
      "execution_count": 21,
      "outputs": []
    },
    {
      "cell_type": "code",
      "metadata": {
        "id": "-HslVTZzU-Bw"
      },
      "source": [
        "def get_nmi_max(s1,s2):\n",
        "  H_u,H_v = get_information_entropy(s1,s2)\n",
        "  I_uv = get_mi(s1,s2)\n",
        "  nmi = (I_uv / max(H_u,H_v))\n",
        "  return (round(nmi,3))"
      ],
      "execution_count": 22,
      "outputs": []
    },
    {
      "cell_type": "code",
      "metadata": {
        "id": "Iwk2GQbSU-MV"
      },
      "source": [
        "def get_nmi_sum(s1,s2):\n",
        "  H_u,H_v = get_information_entropy(s1,s2)\n",
        "  I_uv = get_mi(s1,s2)\n",
        "  nmi = (I_uv / (H_u + H_v))\n",
        "  return (round(nmi,3))"
      ],
      "execution_count": 23,
      "outputs": []
    },
    {
      "cell_type": "code",
      "metadata": {
        "id": "rgY-Gd3bU-Yr"
      },
      "source": [
        "def get_nmi_sqrt(s1,s2):\n",
        "  H_u,H_v = get_information_entropy(s1,s2)\n",
        "  I_uv = get_mi(s1,s2)\n",
        "  nmi = (I_uv / math.sqrt(H_u * H_v))\n",
        "  return (round(nmi,3))"
      ],
      "execution_count": 24,
      "outputs": []
    },
    {
      "cell_type": "code",
      "metadata": {
        "id": "6KGL-b8TaDRk"
      },
      "source": [
        "def get_nmi_min(s1,s2):\n",
        "  H_u,H_v = get_information_entropy(s1,s2)\n",
        "  I_uv = get_mi(s1,s2)\n",
        "  nmi = (I_uv / min(H_u,H_v))\n",
        "  return (round(nmi,3))"
      ],
      "execution_count": 25,
      "outputs": []
    },
    {
      "cell_type": "code",
      "metadata": {
        "id": "B9eiDD19cm9n"
      },
      "source": [
        "def overlap(s1,s2):\n",
        "  a = set(s1)\n",
        "  b = set(s2)\n",
        "  oc = len(a.intersection(b)) / len(a)\n",
        "  return (oc * 100)"
      ],
      "execution_count": 26,
      "outputs": []
    },
    {
      "cell_type": "code",
      "metadata": {
        "id": "ekGlj84Kruve"
      },
      "source": [
        "def get_one_to_one(s1,s2):\n",
        "  #https://aclanthology.org/P08-1095.pdf \n",
        "  s1_vertex_names = []\n",
        "  s1_vertex_values = []\n",
        "  s1_dic = {}\n",
        "  for s1_name,s1_val in s1.items():\n",
        "    s1_vertex_names.append('Gold'+s1_name)\n",
        "    s1_vertex_values.append(s1_val)\n",
        "    s1_dic['Gold'+s1_name] = s1_val\n",
        "  s2_vertex_names = []\n",
        "  s2_vertex_values = []\n",
        "  s2_dic = {}\n",
        "  for s2_name,s2_val in s2.items():\n",
        "    s2_vertex_names.append('Pred'+s2_name)\n",
        "    s2_vertex_values.append(s2_val)\n",
        "    s2_dic['Pred'+s2_name] = s2_val\n",
        "\n",
        "  B = nx.Graph()\n",
        "  B.add_nodes_from(s1_vertex_names, bipartite=0)\n",
        "  B.add_nodes_from(s2_vertex_names, bipartite=1)\n",
        "\n",
        "  table = []\n",
        "  for i in range(len(s1_vertex_values)):\n",
        "    table_row = []\n",
        "    for j in range(len(s2_vertex_values)):\n",
        "      per_olap = overlap(s1_vertex_values[i],s2_vertex_values[j])\n",
        "      table_row.append(per_olap)\n",
        "      B.add_edge(s1_vertex_names[i],s2_vertex_names[j], weight = per_olap)\n",
        "    table.append(table_row)\n",
        "  table = np.array(table)\n",
        "\n",
        "  maxmatch = nx.algorithms.matching.max_weight_matching(B)\n",
        "  oto = 0.0\n",
        "  for a,b in maxmatch:\n",
        "    if a[0:4]=='Gold' and b[0:4]=='Gold':\n",
        "      continue\n",
        "    if a[0:4]=='Pred' and b[0:4]=='Pred':\n",
        "      continue\n",
        "    if a[0:4]!='Gold':\n",
        "      temp = a \n",
        "      a = b\n",
        "      b = temp\n",
        "    ov = overlap(s1_dic.get(a),s2_dic.get(b))\n",
        "    oto = oto + ov\n",
        "  oto = oto/len(s1_vertex_names)\n",
        "  return oto"
      ],
      "execution_count": 27,
      "outputs": []
    },
    {
      "cell_type": "code",
      "metadata": {
        "colab": {
          "base_uri": "https://localhost:8080/"
        },
        "id": "Fe5UubPro2Hx",
        "outputId": "b69916da-010e-4a21-9769-1b615c4cfc53"
      },
      "source": [
        "s1 = {'C1':{1,2,3,4},'C2':{4,5,6,7},'C3':{8,9},'C4':{10}}\n",
        "s2 = {'D1':{1,2,3,4},'D2':{3,4,5,6,7},'D3':{8,9,10}}\n",
        "get_one_to_one(s1,s2)"
      ],
      "execution_count": 28,
      "outputs": [
        {
          "output_type": "execute_result",
          "data": {
            "text/plain": [
              "75.0"
            ]
          },
          "metadata": {},
          "execution_count": 28
        }
      ]
    },
    {
      "cell_type": "code",
      "metadata": {
        "id": "xzdar5Rlymzv"
      },
      "source": [
        "def create_contingency_table_for_omega_index(s1,s2):\n",
        "  n = get_n(s1,s2)\n",
        "  all_points = get_points(s1,s2)\n",
        "  all_pairs = list(combinations(all_points,2))\n",
        "  if len(all_pairs) == (n*(n-1.0)/2.0):\n",
        "    s1_count = {}\n",
        "    s2_count = {}\n",
        "    cluster1_count = {}\n",
        "    cluster2_count = {}\n",
        "    J = len(s1.items())\n",
        "    K = len(s2.items())\n",
        "    \n",
        "    for (a,b) in all_pairs:\n",
        "      counter = 0\n",
        "      for _,si in s1.items():\n",
        "        if (a in si) and (b in si):\n",
        "          counter = counter + 1\n",
        "      s1_count[(a,b)] = counter\n",
        "      if counter in cluster1_count:\n",
        "        cluster1_count[counter] = cluster1_count.get(counter).union(set([(a,b)]))\n",
        "      else:\n",
        "        cluster1_count[counter] = set([(a,b)])\n",
        "      counter = 0\n",
        "      for _,si in s2.items():\n",
        "        if (a in si) and (b in si):\n",
        "          counter = counter + 1\n",
        "      s2_count[(a,b)] = counter\n",
        "      if counter in cluster2_count:\n",
        "        cluster2_count[counter] = cluster2_count.get(counter).union(set([(a,b)]))\n",
        "      else:\n",
        "        cluster2_count[counter] = set([(a,b)])\n",
        "    \n",
        "    table = []\n",
        "    agreement = []\n",
        "\n",
        "  \n",
        "    for j in range(J+1):\n",
        "      table_row = []\n",
        "      for k in range(K+1):\n",
        "        n_jk = len(cluster1_count.get(j,set([])).intersection(cluster2_count.get(k,set([]))))\n",
        "        if j == k:\n",
        "          agreement.append(n_jk)\n",
        "        table_row.append(n_jk)\n",
        "      table.append(table_row)\n",
        "    table = np.array(table)\n",
        "    sum_rows = np.sum(table, axis = 1)\n",
        "    sum_cols = np.sum(table, axis = 0)\n",
        "\n",
        "    return (table,sum_rows,sum_cols,agreement,J,K)\n",
        "  else:\n",
        "    PRINT(\"ERROR\")"
      ],
      "execution_count": 29,
      "outputs": []
    },
    {
      "cell_type": "code",
      "metadata": {
        "id": "0jFu97uHynTK"
      },
      "source": [
        "def get_omega_score(s1,s2):\n",
        "  #Extension of Adjusted Rand Index\n",
        "  #Valid for overlapping clusters\n",
        "  #Refer : http://dx.doi.org/10.1207/s15327906mbr2302_6\n",
        "  table, rowsum, colsum,agreement,J,K = create_contingency_table_for_omega_index(s1,s2)\n",
        "  rowN = np.sum(rowsum)\n",
        "  colN = np.sum(colsum)\n",
        "  if rowN == colN:\n",
        "    N = rowN\n",
        "  else:\n",
        "    print('Error',rowN, colN,s1,s2,table)\n",
        "  #print(table, sum_rows, sum_cols,agreement,N,J,K)\n",
        "  min_jk = min(J,K)\n",
        "  unadjusted_rand_index = 0.0\n",
        "  for i in range(min_jk+1):\n",
        "    unadjusted_rand_index = unadjusted_rand_index + (agreement[i] / N)\n",
        "  \n",
        "\n",
        "  expected_rand_index = 0.0\n",
        "  for i in range(min_jk+1):\n",
        "    expected_rand_index = expected_rand_index + ((rowsum[i] * colsum[i]) / (N * N))\n",
        "  \n",
        "  #omega_score = ((N * unadjusted_rand_index) - expected_rand_index)/((N*N) - expected_rand_index)\n",
        "  \n",
        "  omega_score = (unadjusted_rand_index - expected_rand_index)/(1 - expected_rand_index)\n",
        "  if omega_score < 0 :\n",
        "    omega_score = 0\n",
        "    #No agreement between s1 and s2\n",
        "  return round(omega_score,2)"
      ],
      "execution_count": 30,
      "outputs": []
    },
    {
      "cell_type": "code",
      "metadata": {
        "id": "XWVlG5JVJt8l"
      },
      "source": [
        "def create_shen_precision_table(s1, s2):\n",
        "  #Definition : https://www.microsoft.com/en-us/research/wp-content/uploads/2006/01/p35-shen.pdf (pg 40)\n",
        "  table = []\n",
        "  contingency,rows_sums,col_sums,gold_name,auto_name = create_contingency_table(s1,s2)\n",
        "  X = rows_sums\n",
        "  Y = col_sums\n",
        "\n",
        "  a = 0\n",
        "  b = 0\n",
        "  for i, v1 in s1.items():\n",
        "    table_row = []\n",
        "    n_i = X[a]\n",
        "    b = 0\n",
        "    for j, v2 in s2.items():\n",
        "      n_j = Y[b]\n",
        "      if(n_j == 0):\n",
        "        table_row.append(0)\n",
        "      else:\n",
        "        table_row.append(len(v1.intersection(v2))/n_j)\n",
        "      b = b+1\n",
        "    table.append(table_row)\n",
        "    a=a+1\n",
        "  table = np.array(table)\n",
        "  \n",
        "  return table"
      ],
      "execution_count": 31,
      "outputs": []
    },
    {
      "cell_type": "code",
      "metadata": {
        "id": "Yxs9EdkRJuSm"
      },
      "source": [
        "def create_shen_recall_table(s1, s2):\n",
        "  #Definition : https://www.microsoft.com/en-us/research/wp-content/uploads/2006/01/p35-shen.pdf (pg 40)\n",
        "  table = []\n",
        "  contingency,rows_sums,col_sums,gold_name,auto_name = create_contingency_table(s1,s2)\n",
        "  X = rows_sums\n",
        "  Y = col_sums\n",
        "\n",
        "  a = 0\n",
        "  b = 0\n",
        "  for i, v1 in s1.items():\n",
        "    table_row = []\n",
        "    n_i = X[a]\n",
        "    b = 0\n",
        "    for j, v2 in s2.items():\n",
        "      n_j = Y[b]\n",
        "      if n_i == 0:\n",
        "        table_row.append(0)\n",
        "      else:\n",
        "        table_row.append(len(v1.intersection(v2))/n_i)\n",
        "      b = b+1\n",
        "    table.append(table_row)\n",
        "    a=a+1\n",
        "  table = np.array(table)\n",
        "  \n",
        "  return table"
      ],
      "execution_count": 32,
      "outputs": []
    },
    {
      "cell_type": "code",
      "metadata": {
        "id": "45xR_bhSJuc2"
      },
      "source": [
        "def create_shen_F_table(s1, s2):\n",
        "  #Definition : https://www.microsoft.com/en-us/research/wp-content/uploads/2006/01/p35-shen.pdf (pg 40)\n",
        "  prec_table = create_shen_precision_table(s1,s2)\n",
        "  recall_table = create_shen_recall_table(s1,s2)\n",
        "  contingency,rows_sums,col_sums,gold_name,auto_name = create_contingency_table(s1,s2)\n",
        "  X = rows_sums\n",
        "  Y = col_sums\n",
        "  table = []\n",
        "\n",
        "  a = 0\n",
        "  b = 0\n",
        "  max_f = []\n",
        "  for i, v1 in s1.items():\n",
        "    table_row = []\n",
        "    n_i = X[a]\n",
        "    b = 0\n",
        "    for j, v2 in s2.items():\n",
        "      n_j = Y[b]\n",
        "      if (prec_table[a][b] + recall_table[a][b]) != 0:\n",
        "        f = (2 * prec_table[a][b] * recall_table[a][b])/(prec_table[a][b] + recall_table[a][b])\n",
        "      else:\n",
        "        f = 0\n",
        "      table_row.append(f)\n",
        "      b = b+1\n",
        "    #Select Max_{j} F(i,j) for every row i\n",
        "    table.append((np.argmax(table_row),max(table_row)))\n",
        "    a=a+1\n",
        "\n",
        "  return table"
      ],
      "execution_count": 33,
      "outputs": []
    },
    {
      "cell_type": "code",
      "metadata": {
        "id": "aJo_NhkX5Kgd"
      },
      "source": [
        "def get_shen_f1(s1,s2):\n",
        "  #Refer : https://github.com/jkkummerfeld/irc-disentanglement/blob/master/tools/evaluation/conversation-eval.py\n",
        "  #Definition : https://www.microsoft.com/en-us/research/wp-content/uploads/2006/01/p35-shen.pdf (pg 40)\n",
        "  contingency,rows_sums,col_sums,gold_name,auto_name = create_contingency_table(s1,s2)\n",
        "  X = rows_sums\n",
        "  Y = col_sums\n",
        "  table = create_shen_F_table(s1,s2)\n",
        "  f_table = []\n",
        "  f_table_index = []\n",
        "  \n",
        "  sum_f = 0.0\n",
        "  n = np.sum(Y)\n",
        "\n",
        "  for (a,b) in table:\n",
        "    if a not in f_table_index:\n",
        "      f_table.append(b)\n",
        "      f_table_index.append(a)\n",
        "    else:\n",
        "      continue\n",
        "\n",
        "  for i in range(len(f_table)):\n",
        "      sum_f = sum_f + ((X[i]) * f_table[i])\n",
        "  sum_f = sum_f / n\n",
        "  if sum_f > 1:\n",
        "        sum_f = 1.0\n",
        "  return(round(sum_f,3))"
      ],
      "execution_count": 34,
      "outputs": []
    },
    {
      "cell_type": "code",
      "metadata": {
        "id": "MsFtHM7u_t1v"
      },
      "source": [
        "model1_test = pd.read_csv('/content/drive/MyDrive/inference.forum.test.out', header=None) #2019 ACL Model by Kummerfeld et al. trained on IRC\n",
        "model2_test = pd.read_csv('/content/drive/MyDrive/inference.forum.test.1.out', header=None) #2019 ACL Model by Kummerfeld et al. trained on Forum\n",
        "model3_test = pd.read_csv('/content/drive/MyDrive/inference-forum.ptr.out', header=None) #2020 EMNLP Model by Yu et al. trained on IRC\n",
        "model4_test = pd.read_csv('/content/drive/MyDrive/train.forum.ptr.test.3.out', header=None) #2020 EMNLP Model by Yu et al. trained on Forum\n",
        "model5_test = pd.read_csv('/content/drive/MyDrive/inference-date.out', header=None) #2020 EMNLP Model by Yu et al. trained on Forum date features changed\n",
        "model6_test = pd.read_csv('/content/drive/MyDrive/inference-segmentation.forum.test.out', header=None) #2020 EMNLP Model by Yu et al. trained on Forum Segmentation and Removed punctuation\n",
        "model7_test = pd.read_csv('/content/drive/MyDrive/infer-forum-contraction.out', header=None) #2020 EMNLP Model by Yu et al. trained on Forum Segmentation and Removed punctuation\n",
        "model8_test = pd.read_csv('/content/drive/MyDrive/inference-measure.out', header=None) #2020 EMNLP Model by Yu et al. New Forum Features\n"
      ],
      "execution_count": 35,
      "outputs": []
    },
    {
      "cell_type": "code",
      "metadata": {
        "id": "uxZFGh7mD64z"
      },
      "source": [
        "threadID_list = []\n",
        "parent_list = []\n",
        "child_list = []\n",
        "for i in list(model1_test[0]):\n",
        "  if i[0]=='#':\n",
        "    continue\n",
        "  else:\n",
        "    path = i.split(':')\n",
        "    thread = path[0].split('.')\n",
        "    threadID = thread[3]\n",
        "    anno = path[1].split(' ')\n",
        "    parent = anno[1]\n",
        "    child = anno[0]\n",
        "    threadID_list.append(int(threadID))\n",
        "    parent_list.append(int(parent))\n",
        "    child_list.append(int(child))\n",
        "preds = pd.DataFrame()\n",
        "preds['ThreadID'] = threadID_list\n",
        "preds['P'] = parent_list\n",
        "preds['C'] = child_list\n",
        "preds = preds[preds['P']!=preds['C']]\n",
        "preds = preds.sort_values(['ThreadID','P','C'])\n",
        "preds = preds.reset_index(drop=True)"
      ],
      "execution_count": 36,
      "outputs": []
    },
    {
      "cell_type": "code",
      "metadata": {
        "colab": {
          "base_uri": "https://localhost:8080/",
          "height": 419
        },
        "id": "atNTeCSNGVJ7",
        "outputId": "0821defb-0290-40ba-80d5-a76f1edf9237"
      },
      "source": [
        "preds #predictions by model1 (Kummerfeld trained on IRC, inference prediction on our Forum test dataset) -> post id is relative for the thread"
      ],
      "execution_count": 37,
      "outputs": [
        {
          "output_type": "execute_result",
          "data": {
            "text/html": [
              "<div>\n",
              "<style scoped>\n",
              "    .dataframe tbody tr th:only-of-type {\n",
              "        vertical-align: middle;\n",
              "    }\n",
              "\n",
              "    .dataframe tbody tr th {\n",
              "        vertical-align: top;\n",
              "    }\n",
              "\n",
              "    .dataframe thead th {\n",
              "        text-align: right;\n",
              "    }\n",
              "</style>\n",
              "<table border=\"1\" class=\"dataframe\">\n",
              "  <thead>\n",
              "    <tr style=\"text-align: right;\">\n",
              "      <th></th>\n",
              "      <th>ThreadID</th>\n",
              "      <th>P</th>\n",
              "      <th>C</th>\n",
              "    </tr>\n",
              "  </thead>\n",
              "  <tbody>\n",
              "    <tr>\n",
              "      <th>0</th>\n",
              "      <td>66</td>\n",
              "      <td>4</td>\n",
              "      <td>5</td>\n",
              "    </tr>\n",
              "    <tr>\n",
              "      <th>1</th>\n",
              "      <td>66</td>\n",
              "      <td>6</td>\n",
              "      <td>12</td>\n",
              "    </tr>\n",
              "    <tr>\n",
              "      <th>2</th>\n",
              "      <td>69</td>\n",
              "      <td>8</td>\n",
              "      <td>10</td>\n",
              "    </tr>\n",
              "    <tr>\n",
              "      <th>3</th>\n",
              "      <td>69</td>\n",
              "      <td>8</td>\n",
              "      <td>12</td>\n",
              "    </tr>\n",
              "    <tr>\n",
              "      <th>4</th>\n",
              "      <td>69</td>\n",
              "      <td>8</td>\n",
              "      <td>15</td>\n",
              "    </tr>\n",
              "    <tr>\n",
              "      <th>...</th>\n",
              "      <td>...</td>\n",
              "      <td>...</td>\n",
              "      <td>...</td>\n",
              "    </tr>\n",
              "    <tr>\n",
              "      <th>10679</th>\n",
              "      <td>22614</td>\n",
              "      <td>10</td>\n",
              "      <td>16</td>\n",
              "    </tr>\n",
              "    <tr>\n",
              "      <th>10680</th>\n",
              "      <td>22614</td>\n",
              "      <td>11</td>\n",
              "      <td>20</td>\n",
              "    </tr>\n",
              "    <tr>\n",
              "      <th>10681</th>\n",
              "      <td>22614</td>\n",
              "      <td>13</td>\n",
              "      <td>14</td>\n",
              "    </tr>\n",
              "    <tr>\n",
              "      <th>10682</th>\n",
              "      <td>22614</td>\n",
              "      <td>17</td>\n",
              "      <td>21</td>\n",
              "    </tr>\n",
              "    <tr>\n",
              "      <th>10683</th>\n",
              "      <td>22614</td>\n",
              "      <td>20</td>\n",
              "      <td>22</td>\n",
              "    </tr>\n",
              "  </tbody>\n",
              "</table>\n",
              "<p>10684 rows × 3 columns</p>\n",
              "</div>"
            ],
            "text/plain": [
              "       ThreadID   P   C\n",
              "0            66   4   5\n",
              "1            66   6  12\n",
              "2            69   8  10\n",
              "3            69   8  12\n",
              "4            69   8  15\n",
              "...         ...  ..  ..\n",
              "10679     22614  10  16\n",
              "10680     22614  11  20\n",
              "10681     22614  13  14\n",
              "10682     22614  17  21\n",
              "10683     22614  20  22\n",
              "\n",
              "[10684 rows x 3 columns]"
            ]
          },
          "metadata": {},
          "execution_count": 37
        }
      ]
    },
    {
      "cell_type": "code",
      "metadata": {
        "id": "EZhVDaY_W6Yc"
      },
      "source": [
        "threadID2_list = []\n",
        "parent2_list = []\n",
        "child2_list = []\n",
        "for i in list(model2_test[0]):\n",
        "  if i[0]=='#':\n",
        "    continue\n",
        "  else:\n",
        "    path = i.split(':')\n",
        "    thread = path[0].split('.')\n",
        "    threadID = thread[3]\n",
        "    anno = path[1].split(' ')\n",
        "    parent = anno[1]\n",
        "    child = anno[0]\n",
        "    threadID2_list.append(int(threadID))\n",
        "    parent2_list.append(int(parent))\n",
        "    child2_list.append(int(child))\n",
        "preds2 = pd.DataFrame()\n",
        "preds2['ThreadID'] = threadID2_list\n",
        "preds2['P'] = parent2_list\n",
        "preds2['C'] = child2_list\n",
        "preds2 = preds2[preds2['P']!=preds2['C']]\n",
        "preds2 = preds2.sort_values(['ThreadID','P','C'])\n",
        "preds2 = preds2.reset_index(drop=True)"
      ],
      "execution_count": 38,
      "outputs": []
    },
    {
      "cell_type": "code",
      "metadata": {
        "colab": {
          "base_uri": "https://localhost:8080/",
          "height": 419
        },
        "id": "SPUmIhPJ9YnB",
        "outputId": "69af41df-bec6-4ccb-977a-ebf001201bbb"
      },
      "source": [
        "preds2 #predictions by model1 (Kummerfeld trained on Forum dataset, inference prediction on our Forum test dataset) -> post id is relative for the thread"
      ],
      "execution_count": 39,
      "outputs": [
        {
          "output_type": "execute_result",
          "data": {
            "text/html": [
              "<div>\n",
              "<style scoped>\n",
              "    .dataframe tbody tr th:only-of-type {\n",
              "        vertical-align: middle;\n",
              "    }\n",
              "\n",
              "    .dataframe tbody tr th {\n",
              "        vertical-align: top;\n",
              "    }\n",
              "\n",
              "    .dataframe thead th {\n",
              "        text-align: right;\n",
              "    }\n",
              "</style>\n",
              "<table border=\"1\" class=\"dataframe\">\n",
              "  <thead>\n",
              "    <tr style=\"text-align: right;\">\n",
              "      <th></th>\n",
              "      <th>ThreadID</th>\n",
              "      <th>P</th>\n",
              "      <th>C</th>\n",
              "    </tr>\n",
              "  </thead>\n",
              "  <tbody>\n",
              "    <tr>\n",
              "      <th>0</th>\n",
              "      <td>66</td>\n",
              "      <td>0</td>\n",
              "      <td>1</td>\n",
              "    </tr>\n",
              "    <tr>\n",
              "      <th>1</th>\n",
              "      <td>66</td>\n",
              "      <td>1</td>\n",
              "      <td>2</td>\n",
              "    </tr>\n",
              "    <tr>\n",
              "      <th>2</th>\n",
              "      <td>66</td>\n",
              "      <td>2</td>\n",
              "      <td>3</td>\n",
              "    </tr>\n",
              "    <tr>\n",
              "      <th>3</th>\n",
              "      <td>66</td>\n",
              "      <td>2</td>\n",
              "      <td>7</td>\n",
              "    </tr>\n",
              "    <tr>\n",
              "      <th>4</th>\n",
              "      <td>66</td>\n",
              "      <td>3</td>\n",
              "      <td>4</td>\n",
              "    </tr>\n",
              "    <tr>\n",
              "      <th>...</th>\n",
              "      <td>...</td>\n",
              "      <td>...</td>\n",
              "      <td>...</td>\n",
              "    </tr>\n",
              "    <tr>\n",
              "      <th>19061</th>\n",
              "      <td>22614</td>\n",
              "      <td>18</td>\n",
              "      <td>19</td>\n",
              "    </tr>\n",
              "    <tr>\n",
              "      <th>19062</th>\n",
              "      <td>22614</td>\n",
              "      <td>18</td>\n",
              "      <td>20</td>\n",
              "    </tr>\n",
              "    <tr>\n",
              "      <th>19063</th>\n",
              "      <td>22614</td>\n",
              "      <td>18</td>\n",
              "      <td>22</td>\n",
              "    </tr>\n",
              "    <tr>\n",
              "      <th>19064</th>\n",
              "      <td>22614</td>\n",
              "      <td>20</td>\n",
              "      <td>21</td>\n",
              "    </tr>\n",
              "    <tr>\n",
              "      <th>19065</th>\n",
              "      <td>22614</td>\n",
              "      <td>22</td>\n",
              "      <td>23</td>\n",
              "    </tr>\n",
              "  </tbody>\n",
              "</table>\n",
              "<p>19066 rows × 3 columns</p>\n",
              "</div>"
            ],
            "text/plain": [
              "       ThreadID   P   C\n",
              "0            66   0   1\n",
              "1            66   1   2\n",
              "2            66   2   3\n",
              "3            66   2   7\n",
              "4            66   3   4\n",
              "...         ...  ..  ..\n",
              "19061     22614  18  19\n",
              "19062     22614  18  20\n",
              "19063     22614  18  22\n",
              "19064     22614  20  21\n",
              "19065     22614  22  23\n",
              "\n",
              "[19066 rows x 3 columns]"
            ]
          },
          "metadata": {},
          "execution_count": 39
        }
      ]
    },
    {
      "cell_type": "code",
      "metadata": {
        "id": "_70JwzgeR8iV"
      },
      "source": [
        "threadID3_list = []\n",
        "parent3_list = []\n",
        "child3_list = []\n",
        "for i in list(model3_test[0]):\n",
        "  if i[0]=='#':\n",
        "    continue\n",
        "  else:\n",
        "    path = i.split(':')\n",
        "    thread = path[0].split('.')\n",
        "    threadID = thread[2]\n",
        "    anno = path[1].split(' ')\n",
        "    parent = anno[1]\n",
        "    child = anno[0]\n",
        "    threadID3_list.append(int(threadID))\n",
        "    parent3_list.append(int(parent))\n",
        "    child3_list.append(int(child))\n",
        "preds3 = pd.DataFrame()\n",
        "preds3['ThreadID'] = threadID3_list\n",
        "preds3['P'] = parent3_list\n",
        "preds3['C'] = child3_list\n",
        "preds3 = preds3[preds3['P']!=preds3['C']]\n",
        "preds3 = preds3.sort_values(['ThreadID','P','C'])\n",
        "preds3 = preds3.reset_index(drop=True)"
      ],
      "execution_count": 40,
      "outputs": []
    },
    {
      "cell_type": "code",
      "metadata": {
        "colab": {
          "base_uri": "https://localhost:8080/",
          "height": 419
        },
        "id": "_fmTsgHBR87i",
        "outputId": "7f8b0268-ed0e-4f31-f4d9-c23208e500a6"
      },
      "source": [
        "preds3 #predictions on Pointer Network model by Yu et al. "
      ],
      "execution_count": 41,
      "outputs": [
        {
          "output_type": "execute_result",
          "data": {
            "text/html": [
              "<div>\n",
              "<style scoped>\n",
              "    .dataframe tbody tr th:only-of-type {\n",
              "        vertical-align: middle;\n",
              "    }\n",
              "\n",
              "    .dataframe tbody tr th {\n",
              "        vertical-align: top;\n",
              "    }\n",
              "\n",
              "    .dataframe thead th {\n",
              "        text-align: right;\n",
              "    }\n",
              "</style>\n",
              "<table border=\"1\" class=\"dataframe\">\n",
              "  <thead>\n",
              "    <tr style=\"text-align: right;\">\n",
              "      <th></th>\n",
              "      <th>ThreadID</th>\n",
              "      <th>P</th>\n",
              "      <th>C</th>\n",
              "    </tr>\n",
              "  </thead>\n",
              "  <tbody>\n",
              "    <tr>\n",
              "      <th>0</th>\n",
              "      <td>66</td>\n",
              "      <td>4</td>\n",
              "      <td>5</td>\n",
              "    </tr>\n",
              "    <tr>\n",
              "      <th>1</th>\n",
              "      <td>66</td>\n",
              "      <td>4</td>\n",
              "      <td>6</td>\n",
              "    </tr>\n",
              "    <tr>\n",
              "      <th>2</th>\n",
              "      <td>66</td>\n",
              "      <td>6</td>\n",
              "      <td>12</td>\n",
              "    </tr>\n",
              "    <tr>\n",
              "      <th>3</th>\n",
              "      <td>66</td>\n",
              "      <td>9</td>\n",
              "      <td>10</td>\n",
              "    </tr>\n",
              "    <tr>\n",
              "      <th>4</th>\n",
              "      <td>69</td>\n",
              "      <td>4</td>\n",
              "      <td>5</td>\n",
              "    </tr>\n",
              "    <tr>\n",
              "      <th>...</th>\n",
              "      <td>...</td>\n",
              "      <td>...</td>\n",
              "      <td>...</td>\n",
              "    </tr>\n",
              "    <tr>\n",
              "      <th>10706</th>\n",
              "      <td>22614</td>\n",
              "      <td>11</td>\n",
              "      <td>20</td>\n",
              "    </tr>\n",
              "    <tr>\n",
              "      <th>10707</th>\n",
              "      <td>22614</td>\n",
              "      <td>12</td>\n",
              "      <td>16</td>\n",
              "    </tr>\n",
              "    <tr>\n",
              "      <th>10708</th>\n",
              "      <td>22614</td>\n",
              "      <td>13</td>\n",
              "      <td>14</td>\n",
              "    </tr>\n",
              "    <tr>\n",
              "      <th>10709</th>\n",
              "      <td>22614</td>\n",
              "      <td>13</td>\n",
              "      <td>15</td>\n",
              "    </tr>\n",
              "    <tr>\n",
              "      <th>10710</th>\n",
              "      <td>22614</td>\n",
              "      <td>20</td>\n",
              "      <td>21</td>\n",
              "    </tr>\n",
              "  </tbody>\n",
              "</table>\n",
              "<p>10711 rows × 3 columns</p>\n",
              "</div>"
            ],
            "text/plain": [
              "       ThreadID   P   C\n",
              "0            66   4   5\n",
              "1            66   4   6\n",
              "2            66   6  12\n",
              "3            66   9  10\n",
              "4            69   4   5\n",
              "...         ...  ..  ..\n",
              "10706     22614  11  20\n",
              "10707     22614  12  16\n",
              "10708     22614  13  14\n",
              "10709     22614  13  15\n",
              "10710     22614  20  21\n",
              "\n",
              "[10711 rows x 3 columns]"
            ]
          },
          "metadata": {},
          "execution_count": 41
        }
      ]
    },
    {
      "cell_type": "code",
      "metadata": {
        "id": "KU0Mnpmykbhe"
      },
      "source": [
        "threadID4_list = []\n",
        "parent4_list = []\n",
        "child4_list = []\n",
        "for i in list(model4_test[0]):\n",
        "  if i[0]=='#':\n",
        "    continue\n",
        "  else:\n",
        "    path = i.split(':')\n",
        "    thread = path[0].split('.')\n",
        "    threadID = thread[2]\n",
        "    anno = path[1].split(' ')\n",
        "    parent = anno[1]\n",
        "    child = anno[0]\n",
        "    threadID4_list.append(int(threadID))\n",
        "    parent4_list.append(int(parent))\n",
        "    child4_list.append(int(child))\n",
        "preds4 = pd.DataFrame()\n",
        "preds4['ThreadID'] = threadID4_list\n",
        "preds4['P'] = parent4_list\n",
        "preds4['C'] = child4_list\n",
        "preds4 = preds4[preds4['P']!=preds4['C']]\n",
        "preds4 = preds4.sort_values(['ThreadID','P','C'])\n",
        "preds4 = preds4.reset_index(drop=True)"
      ],
      "execution_count": 42,
      "outputs": []
    },
    {
      "cell_type": "code",
      "metadata": {
        "colab": {
          "base_uri": "https://localhost:8080/",
          "height": 419
        },
        "id": "uL3b7p-Jkb1U",
        "outputId": "1a526708-0443-43b0-a5b8-538b90ff600c"
      },
      "source": [
        "preds4"
      ],
      "execution_count": 43,
      "outputs": [
        {
          "output_type": "execute_result",
          "data": {
            "text/html": [
              "<div>\n",
              "<style scoped>\n",
              "    .dataframe tbody tr th:only-of-type {\n",
              "        vertical-align: middle;\n",
              "    }\n",
              "\n",
              "    .dataframe tbody tr th {\n",
              "        vertical-align: top;\n",
              "    }\n",
              "\n",
              "    .dataframe thead th {\n",
              "        text-align: right;\n",
              "    }\n",
              "</style>\n",
              "<table border=\"1\" class=\"dataframe\">\n",
              "  <thead>\n",
              "    <tr style=\"text-align: right;\">\n",
              "      <th></th>\n",
              "      <th>ThreadID</th>\n",
              "      <th>P</th>\n",
              "      <th>C</th>\n",
              "    </tr>\n",
              "  </thead>\n",
              "  <tbody>\n",
              "    <tr>\n",
              "      <th>0</th>\n",
              "      <td>66</td>\n",
              "      <td>1</td>\n",
              "      <td>2</td>\n",
              "    </tr>\n",
              "    <tr>\n",
              "      <th>1</th>\n",
              "      <td>66</td>\n",
              "      <td>2</td>\n",
              "      <td>3</td>\n",
              "    </tr>\n",
              "    <tr>\n",
              "      <th>2</th>\n",
              "      <td>66</td>\n",
              "      <td>4</td>\n",
              "      <td>5</td>\n",
              "    </tr>\n",
              "    <tr>\n",
              "      <th>3</th>\n",
              "      <td>66</td>\n",
              "      <td>5</td>\n",
              "      <td>6</td>\n",
              "    </tr>\n",
              "    <tr>\n",
              "      <th>4</th>\n",
              "      <td>66</td>\n",
              "      <td>6</td>\n",
              "      <td>7</td>\n",
              "    </tr>\n",
              "    <tr>\n",
              "      <th>...</th>\n",
              "      <td>...</td>\n",
              "      <td>...</td>\n",
              "      <td>...</td>\n",
              "    </tr>\n",
              "    <tr>\n",
              "      <th>16907</th>\n",
              "      <td>22614</td>\n",
              "      <td>18</td>\n",
              "      <td>19</td>\n",
              "    </tr>\n",
              "    <tr>\n",
              "      <th>16908</th>\n",
              "      <td>22614</td>\n",
              "      <td>19</td>\n",
              "      <td>20</td>\n",
              "    </tr>\n",
              "    <tr>\n",
              "      <th>16909</th>\n",
              "      <td>22614</td>\n",
              "      <td>20</td>\n",
              "      <td>21</td>\n",
              "    </tr>\n",
              "    <tr>\n",
              "      <th>16910</th>\n",
              "      <td>22614</td>\n",
              "      <td>21</td>\n",
              "      <td>22</td>\n",
              "    </tr>\n",
              "    <tr>\n",
              "      <th>16911</th>\n",
              "      <td>22614</td>\n",
              "      <td>22</td>\n",
              "      <td>23</td>\n",
              "    </tr>\n",
              "  </tbody>\n",
              "</table>\n",
              "<p>16912 rows × 3 columns</p>\n",
              "</div>"
            ],
            "text/plain": [
              "       ThreadID   P   C\n",
              "0            66   1   2\n",
              "1            66   2   3\n",
              "2            66   4   5\n",
              "3            66   5   6\n",
              "4            66   6   7\n",
              "...         ...  ..  ..\n",
              "16907     22614  18  19\n",
              "16908     22614  19  20\n",
              "16909     22614  20  21\n",
              "16910     22614  21  22\n",
              "16911     22614  22  23\n",
              "\n",
              "[16912 rows x 3 columns]"
            ]
          },
          "metadata": {},
          "execution_count": 43
        }
      ]
    },
    {
      "cell_type": "code",
      "metadata": {
        "id": "pOdQP-Gfr7Gb"
      },
      "source": [
        "threadID5_list = []\n",
        "parent5_list = []\n",
        "child5_list = []\n",
        "for i in list(model5_test[0]):\n",
        "  if i[0]=='#':\n",
        "    continue\n",
        "  else:\n",
        "    path = i.split(':')\n",
        "    thread = path[0].split('.')\n",
        "    threadID = thread[2]\n",
        "    anno = path[1].split(' ')\n",
        "    parent = anno[1]\n",
        "    child = anno[0]\n",
        "    threadID5_list.append(int(threadID))\n",
        "    parent5_list.append(int(parent))\n",
        "    child5_list.append(int(child))\n",
        "preds5 = pd.DataFrame()\n",
        "preds5['ThreadID'] = threadID5_list\n",
        "preds5['P'] = parent5_list\n",
        "preds5['C'] = child5_list\n",
        "preds5 = preds5[preds5['P']!=preds5['C']]\n",
        "preds5 = preds5.sort_values(['ThreadID','P','C'])\n",
        "preds5 = preds5.reset_index(drop=True)"
      ],
      "execution_count": 44,
      "outputs": []
    },
    {
      "cell_type": "code",
      "metadata": {
        "colab": {
          "base_uri": "https://localhost:8080/",
          "height": 419
        },
        "id": "GRnY1Cq0r7Yc",
        "outputId": "063c031d-7224-429f-e969-590fb73074dd"
      },
      "source": [
        "preds5"
      ],
      "execution_count": 45,
      "outputs": [
        {
          "output_type": "execute_result",
          "data": {
            "text/html": [
              "<div>\n",
              "<style scoped>\n",
              "    .dataframe tbody tr th:only-of-type {\n",
              "        vertical-align: middle;\n",
              "    }\n",
              "\n",
              "    .dataframe tbody tr th {\n",
              "        vertical-align: top;\n",
              "    }\n",
              "\n",
              "    .dataframe thead th {\n",
              "        text-align: right;\n",
              "    }\n",
              "</style>\n",
              "<table border=\"1\" class=\"dataframe\">\n",
              "  <thead>\n",
              "    <tr style=\"text-align: right;\">\n",
              "      <th></th>\n",
              "      <th>ThreadID</th>\n",
              "      <th>P</th>\n",
              "      <th>C</th>\n",
              "    </tr>\n",
              "  </thead>\n",
              "  <tbody>\n",
              "    <tr>\n",
              "      <th>0</th>\n",
              "      <td>66</td>\n",
              "      <td>0</td>\n",
              "      <td>1</td>\n",
              "    </tr>\n",
              "    <tr>\n",
              "      <th>1</th>\n",
              "      <td>66</td>\n",
              "      <td>0</td>\n",
              "      <td>6</td>\n",
              "    </tr>\n",
              "    <tr>\n",
              "      <th>2</th>\n",
              "      <td>66</td>\n",
              "      <td>1</td>\n",
              "      <td>2</td>\n",
              "    </tr>\n",
              "    <tr>\n",
              "      <th>3</th>\n",
              "      <td>66</td>\n",
              "      <td>1</td>\n",
              "      <td>3</td>\n",
              "    </tr>\n",
              "    <tr>\n",
              "      <th>4</th>\n",
              "      <td>66</td>\n",
              "      <td>1</td>\n",
              "      <td>5</td>\n",
              "    </tr>\n",
              "    <tr>\n",
              "      <th>...</th>\n",
              "      <td>...</td>\n",
              "      <td>...</td>\n",
              "      <td>...</td>\n",
              "    </tr>\n",
              "    <tr>\n",
              "      <th>18975</th>\n",
              "      <td>22614</td>\n",
              "      <td>17</td>\n",
              "      <td>19</td>\n",
              "    </tr>\n",
              "    <tr>\n",
              "      <th>18976</th>\n",
              "      <td>22614</td>\n",
              "      <td>18</td>\n",
              "      <td>20</td>\n",
              "    </tr>\n",
              "    <tr>\n",
              "      <th>18977</th>\n",
              "      <td>22614</td>\n",
              "      <td>18</td>\n",
              "      <td>22</td>\n",
              "    </tr>\n",
              "    <tr>\n",
              "      <th>18978</th>\n",
              "      <td>22614</td>\n",
              "      <td>19</td>\n",
              "      <td>21</td>\n",
              "    </tr>\n",
              "    <tr>\n",
              "      <th>18979</th>\n",
              "      <td>22614</td>\n",
              "      <td>19</td>\n",
              "      <td>23</td>\n",
              "    </tr>\n",
              "  </tbody>\n",
              "</table>\n",
              "<p>18980 rows × 3 columns</p>\n",
              "</div>"
            ],
            "text/plain": [
              "       ThreadID   P   C\n",
              "0            66   0   1\n",
              "1            66   0   6\n",
              "2            66   1   2\n",
              "3            66   1   3\n",
              "4            66   1   5\n",
              "...         ...  ..  ..\n",
              "18975     22614  17  19\n",
              "18976     22614  18  20\n",
              "18977     22614  18  22\n",
              "18978     22614  19  21\n",
              "18979     22614  19  23\n",
              "\n",
              "[18980 rows x 3 columns]"
            ]
          },
          "metadata": {},
          "execution_count": 45
        }
      ]
    },
    {
      "cell_type": "code",
      "metadata": {
        "id": "3qVPPqRZn5ft"
      },
      "source": [
        "threadID6_list = []\n",
        "parent6_list = []\n",
        "child6_list = []\n",
        "for i in list(model6_test[0]):\n",
        "  if i[0]=='#':\n",
        "    continue\n",
        "  else:\n",
        "    path = i.split(':')\n",
        "    thread = path[0].split('.')\n",
        "    threadID = thread[2]\n",
        "    anno = path[1].split(' ')\n",
        "    parent = anno[1]\n",
        "    child = anno[0]\n",
        "    threadID6_list.append(int(threadID))\n",
        "    parent6_list.append(int(parent))\n",
        "    child6_list.append(int(child))\n",
        "preds6 = pd.DataFrame()\n",
        "preds6['ThreadID'] = threadID6_list\n",
        "preds6['P'] = parent6_list\n",
        "preds6['C'] = child6_list\n",
        "preds6 = preds6[preds6['P']!=preds6['C']]\n",
        "preds6 = preds6.sort_values(['ThreadID','P','C'])\n",
        "preds6 = preds6.reset_index(drop=True)"
      ],
      "execution_count": 46,
      "outputs": []
    },
    {
      "cell_type": "code",
      "metadata": {
        "colab": {
          "base_uri": "https://localhost:8080/",
          "height": 419
        },
        "id": "bpHPZFvJn5zV",
        "outputId": "01951bcf-4880-42af-ca60-b2efe1244a9d"
      },
      "source": [
        "preds6"
      ],
      "execution_count": 47,
      "outputs": [
        {
          "output_type": "execute_result",
          "data": {
            "text/html": [
              "<div>\n",
              "<style scoped>\n",
              "    .dataframe tbody tr th:only-of-type {\n",
              "        vertical-align: middle;\n",
              "    }\n",
              "\n",
              "    .dataframe tbody tr th {\n",
              "        vertical-align: top;\n",
              "    }\n",
              "\n",
              "    .dataframe thead th {\n",
              "        text-align: right;\n",
              "    }\n",
              "</style>\n",
              "<table border=\"1\" class=\"dataframe\">\n",
              "  <thead>\n",
              "    <tr style=\"text-align: right;\">\n",
              "      <th></th>\n",
              "      <th>ThreadID</th>\n",
              "      <th>P</th>\n",
              "      <th>C</th>\n",
              "    </tr>\n",
              "  </thead>\n",
              "  <tbody>\n",
              "    <tr>\n",
              "      <th>0</th>\n",
              "      <td>66</td>\n",
              "      <td>0</td>\n",
              "      <td>1</td>\n",
              "    </tr>\n",
              "    <tr>\n",
              "      <th>1</th>\n",
              "      <td>66</td>\n",
              "      <td>1</td>\n",
              "      <td>2</td>\n",
              "    </tr>\n",
              "    <tr>\n",
              "      <th>2</th>\n",
              "      <td>66</td>\n",
              "      <td>2</td>\n",
              "      <td>3</td>\n",
              "    </tr>\n",
              "    <tr>\n",
              "      <th>3</th>\n",
              "      <td>66</td>\n",
              "      <td>3</td>\n",
              "      <td>4</td>\n",
              "    </tr>\n",
              "    <tr>\n",
              "      <th>4</th>\n",
              "      <td>66</td>\n",
              "      <td>5</td>\n",
              "      <td>6</td>\n",
              "    </tr>\n",
              "    <tr>\n",
              "      <th>...</th>\n",
              "      <td>...</td>\n",
              "      <td>...</td>\n",
              "      <td>...</td>\n",
              "    </tr>\n",
              "    <tr>\n",
              "      <th>18334</th>\n",
              "      <td>22614</td>\n",
              "      <td>14</td>\n",
              "      <td>19</td>\n",
              "    </tr>\n",
              "    <tr>\n",
              "      <th>18335</th>\n",
              "      <td>22614</td>\n",
              "      <td>14</td>\n",
              "      <td>20</td>\n",
              "    </tr>\n",
              "    <tr>\n",
              "      <th>18336</th>\n",
              "      <td>22614</td>\n",
              "      <td>14</td>\n",
              "      <td>23</td>\n",
              "    </tr>\n",
              "    <tr>\n",
              "      <th>18337</th>\n",
              "      <td>22614</td>\n",
              "      <td>20</td>\n",
              "      <td>21</td>\n",
              "    </tr>\n",
              "    <tr>\n",
              "      <th>18338</th>\n",
              "      <td>22614</td>\n",
              "      <td>21</td>\n",
              "      <td>22</td>\n",
              "    </tr>\n",
              "  </tbody>\n",
              "</table>\n",
              "<p>18339 rows × 3 columns</p>\n",
              "</div>"
            ],
            "text/plain": [
              "       ThreadID   P   C\n",
              "0            66   0   1\n",
              "1            66   1   2\n",
              "2            66   2   3\n",
              "3            66   3   4\n",
              "4            66   5   6\n",
              "...         ...  ..  ..\n",
              "18334     22614  14  19\n",
              "18335     22614  14  20\n",
              "18336     22614  14  23\n",
              "18337     22614  20  21\n",
              "18338     22614  21  22\n",
              "\n",
              "[18339 rows x 3 columns]"
            ]
          },
          "metadata": {},
          "execution_count": 47
        }
      ]
    },
    {
      "cell_type": "code",
      "metadata": {
        "id": "XVSFQJrgSIrg"
      },
      "source": [
        "threadID7_list = []\n",
        "parent7_list = []\n",
        "child7_list = []\n",
        "for i in list(model7_test[0]):\n",
        "  if i[0]=='#':\n",
        "    continue\n",
        "  else:\n",
        "    path = i.split(':')\n",
        "    thread = path[0].split('.')\n",
        "    threadID = thread[2]\n",
        "    anno = path[1].split(' ')\n",
        "    parent = anno[1]\n",
        "    child = anno[0]\n",
        "    threadID7_list.append(int(threadID))\n",
        "    parent7_list.append(int(parent))\n",
        "    child7_list.append(int(child))\n",
        "preds7 = pd.DataFrame()\n",
        "preds7['ThreadID'] = threadID7_list\n",
        "preds7['P'] = parent7_list\n",
        "preds7['C'] = child7_list\n",
        "preds7 = preds7[preds7['P']!=preds7['C']]\n",
        "preds7 = preds7.sort_values(['ThreadID','P','C'])\n",
        "preds7 = preds7.reset_index(drop=True)"
      ],
      "execution_count": 48,
      "outputs": []
    },
    {
      "cell_type": "code",
      "metadata": {
        "colab": {
          "base_uri": "https://localhost:8080/",
          "height": 419
        },
        "id": "uuid0YUFSI8d",
        "outputId": "5548ddac-588e-4a14-f046-eb839de853dc"
      },
      "source": [
        "preds7"
      ],
      "execution_count": 49,
      "outputs": [
        {
          "output_type": "execute_result",
          "data": {
            "text/html": [
              "<div>\n",
              "<style scoped>\n",
              "    .dataframe tbody tr th:only-of-type {\n",
              "        vertical-align: middle;\n",
              "    }\n",
              "\n",
              "    .dataframe tbody tr th {\n",
              "        vertical-align: top;\n",
              "    }\n",
              "\n",
              "    .dataframe thead th {\n",
              "        text-align: right;\n",
              "    }\n",
              "</style>\n",
              "<table border=\"1\" class=\"dataframe\">\n",
              "  <thead>\n",
              "    <tr style=\"text-align: right;\">\n",
              "      <th></th>\n",
              "      <th>ThreadID</th>\n",
              "      <th>P</th>\n",
              "      <th>C</th>\n",
              "    </tr>\n",
              "  </thead>\n",
              "  <tbody>\n",
              "    <tr>\n",
              "      <th>0</th>\n",
              "      <td>66</td>\n",
              "      <td>0</td>\n",
              "      <td>1</td>\n",
              "    </tr>\n",
              "    <tr>\n",
              "      <th>1</th>\n",
              "      <td>66</td>\n",
              "      <td>0</td>\n",
              "      <td>3</td>\n",
              "    </tr>\n",
              "    <tr>\n",
              "      <th>2</th>\n",
              "      <td>66</td>\n",
              "      <td>0</td>\n",
              "      <td>4</td>\n",
              "    </tr>\n",
              "    <tr>\n",
              "      <th>3</th>\n",
              "      <td>66</td>\n",
              "      <td>0</td>\n",
              "      <td>5</td>\n",
              "    </tr>\n",
              "    <tr>\n",
              "      <th>4</th>\n",
              "      <td>66</td>\n",
              "      <td>0</td>\n",
              "      <td>6</td>\n",
              "    </tr>\n",
              "    <tr>\n",
              "      <th>...</th>\n",
              "      <td>...</td>\n",
              "      <td>...</td>\n",
              "      <td>...</td>\n",
              "    </tr>\n",
              "    <tr>\n",
              "      <th>18975</th>\n",
              "      <td>22614</td>\n",
              "      <td>15</td>\n",
              "      <td>19</td>\n",
              "    </tr>\n",
              "    <tr>\n",
              "      <th>18976</th>\n",
              "      <td>22614</td>\n",
              "      <td>15</td>\n",
              "      <td>20</td>\n",
              "    </tr>\n",
              "    <tr>\n",
              "      <th>18977</th>\n",
              "      <td>22614</td>\n",
              "      <td>15</td>\n",
              "      <td>22</td>\n",
              "    </tr>\n",
              "    <tr>\n",
              "      <th>18978</th>\n",
              "      <td>22614</td>\n",
              "      <td>15</td>\n",
              "      <td>23</td>\n",
              "    </tr>\n",
              "    <tr>\n",
              "      <th>18979</th>\n",
              "      <td>22614</td>\n",
              "      <td>20</td>\n",
              "      <td>21</td>\n",
              "    </tr>\n",
              "  </tbody>\n",
              "</table>\n",
              "<p>18980 rows × 3 columns</p>\n",
              "</div>"
            ],
            "text/plain": [
              "       ThreadID   P   C\n",
              "0            66   0   1\n",
              "1            66   0   3\n",
              "2            66   0   4\n",
              "3            66   0   5\n",
              "4            66   0   6\n",
              "...         ...  ..  ..\n",
              "18975     22614  15  19\n",
              "18976     22614  15  20\n",
              "18977     22614  15  22\n",
              "18978     22614  15  23\n",
              "18979     22614  20  21\n",
              "\n",
              "[18980 rows x 3 columns]"
            ]
          },
          "metadata": {},
          "execution_count": 49
        }
      ]
    },
    {
      "cell_type": "code",
      "metadata": {
        "id": "n4yY92B9MwEO"
      },
      "source": [
        "threadID8_list = []\n",
        "parent8_list = []\n",
        "child8_list = []\n",
        "for i in list(model8_test[0]):\n",
        "  if i[0]=='#':\n",
        "    continue\n",
        "  else:\n",
        "    path = i.split(':')\n",
        "    thread = path[0].split('.')\n",
        "    threadID = thread[2]\n",
        "    anno = path[1].split(' ')\n",
        "    parent = anno[1]\n",
        "    child = anno[0]\n",
        "    threadID8_list.append(int(threadID))\n",
        "    parent8_list.append(int(parent))\n",
        "    child8_list.append(int(child))\n",
        "preds8 = pd.DataFrame()\n",
        "preds8['ThreadID'] = threadID8_list\n",
        "preds8['P'] = parent8_list\n",
        "preds8['C'] = child8_list\n",
        "preds8 = preds8[preds8['P']!=preds8['C']]\n",
        "preds8 = preds8.sort_values(['ThreadID','P','C'])\n",
        "preds8 = preds8.reset_index(drop=True)"
      ],
      "execution_count": 50,
      "outputs": []
    },
    {
      "cell_type": "code",
      "metadata": {
        "colab": {
          "base_uri": "https://localhost:8080/",
          "height": 419
        },
        "id": "fSAIGHoLMwZG",
        "outputId": "164149f0-00ef-48b1-c200-0c10bcafa0f8"
      },
      "source": [
        "preds8"
      ],
      "execution_count": 51,
      "outputs": [
        {
          "output_type": "execute_result",
          "data": {
            "text/html": [
              "<div>\n",
              "<style scoped>\n",
              "    .dataframe tbody tr th:only-of-type {\n",
              "        vertical-align: middle;\n",
              "    }\n",
              "\n",
              "    .dataframe tbody tr th {\n",
              "        vertical-align: top;\n",
              "    }\n",
              "\n",
              "    .dataframe thead th {\n",
              "        text-align: right;\n",
              "    }\n",
              "</style>\n",
              "<table border=\"1\" class=\"dataframe\">\n",
              "  <thead>\n",
              "    <tr style=\"text-align: right;\">\n",
              "      <th></th>\n",
              "      <th>ThreadID</th>\n",
              "      <th>P</th>\n",
              "      <th>C</th>\n",
              "    </tr>\n",
              "  </thead>\n",
              "  <tbody>\n",
              "    <tr>\n",
              "      <th>0</th>\n",
              "      <td>66</td>\n",
              "      <td>0</td>\n",
              "      <td>1</td>\n",
              "    </tr>\n",
              "    <tr>\n",
              "      <th>1</th>\n",
              "      <td>66</td>\n",
              "      <td>0</td>\n",
              "      <td>3</td>\n",
              "    </tr>\n",
              "    <tr>\n",
              "      <th>2</th>\n",
              "      <td>66</td>\n",
              "      <td>0</td>\n",
              "      <td>4</td>\n",
              "    </tr>\n",
              "    <tr>\n",
              "      <th>3</th>\n",
              "      <td>66</td>\n",
              "      <td>0</td>\n",
              "      <td>13</td>\n",
              "    </tr>\n",
              "    <tr>\n",
              "      <th>4</th>\n",
              "      <td>66</td>\n",
              "      <td>1</td>\n",
              "      <td>2</td>\n",
              "    </tr>\n",
              "    <tr>\n",
              "      <th>...</th>\n",
              "      <td>...</td>\n",
              "      <td>...</td>\n",
              "      <td>...</td>\n",
              "    </tr>\n",
              "    <tr>\n",
              "      <th>18975</th>\n",
              "      <td>22614</td>\n",
              "      <td>13</td>\n",
              "      <td>20</td>\n",
              "    </tr>\n",
              "    <tr>\n",
              "      <th>18976</th>\n",
              "      <td>22614</td>\n",
              "      <td>13</td>\n",
              "      <td>21</td>\n",
              "    </tr>\n",
              "    <tr>\n",
              "      <th>18977</th>\n",
              "      <td>22614</td>\n",
              "      <td>13</td>\n",
              "      <td>22</td>\n",
              "    </tr>\n",
              "    <tr>\n",
              "      <th>18978</th>\n",
              "      <td>22614</td>\n",
              "      <td>13</td>\n",
              "      <td>23</td>\n",
              "    </tr>\n",
              "    <tr>\n",
              "      <th>18979</th>\n",
              "      <td>22614</td>\n",
              "      <td>18</td>\n",
              "      <td>19</td>\n",
              "    </tr>\n",
              "  </tbody>\n",
              "</table>\n",
              "<p>18980 rows × 3 columns</p>\n",
              "</div>"
            ],
            "text/plain": [
              "       ThreadID   P   C\n",
              "0            66   0   1\n",
              "1            66   0   3\n",
              "2            66   0   4\n",
              "3            66   0  13\n",
              "4            66   1   2\n",
              "...         ...  ..  ..\n",
              "18975     22614  13  20\n",
              "18976     22614  13  21\n",
              "18977     22614  13  22\n",
              "18978     22614  13  23\n",
              "18979     22614  18  19\n",
              "\n",
              "[18980 rows x 3 columns]"
            ]
          },
          "metadata": {},
          "execution_count": 51
        }
      ]
    },
    {
      "cell_type": "code",
      "metadata": {
        "id": "qSDnI1xk2H_p"
      },
      "source": [
        "#1000 uniformly random chosen threads with atleast 10 messages / posts.\n",
        "test_threads = set([66,69,73,79,83,84,93,100,109,113,115,129,134,135,140,147,148,150,154,158,164,166,173,179,180,198,206,223,224,226,228,255,259,260,274,279,284,301,304,306,311,328,336,348,366,367,371,383,384,405,406,407,410,417,420,427,429,436,442,453,459,460,466,476,500,506,507,512,515,516,521,531,532,542,554,556,559,564,569,578,586,589,594,596,600,603,611,621,623,625,629,632,642,644,650,651,652,654,661,680,687,688,699,701,713,715,717,723,726,742,743,750,769,772,785,788,791,794,809,816,818,821,828,829,833,842,845,846,854,856,865,873,881,885,891,896,901,903,910,912,913,915,919,925,935,939,953,960,973,983,985,988,992,1021,1025,1031,1037,1056,1073,1106,1107,1117,1119,1124,1192,1197,1216,1246,1249,1275,1287,1305,1327,1346,1349,1357,1406,1408,1410,1412,1415,1434,1452,1486,1508,1514,1518,1530,1566,1584,1595,1597,1598,1606,1618,1631,1632,1653,1670,1682,1683,1686,1700,1736,1759,1762,1776,1777,1778,1779,1795,1802,1803,1810,1815,1826,1829,1834,1839,1843,1846,1858,1863,1867,1876,1889,1893,1894,1895,1904,1908,1912,1913,1915,1923,1931,1938,1944,1948,1949,1950,1954,1955,1976,1984,1987,1993,1999,2001,2014,2017,2018,2023,2025,2036,2046,2047,2052,2063,2065,2070,2073,2076,2094,2099,2119,2140,2148,2180,2183,2184,2202,2203,2208,2209,2215,2224,2228,2229,2245,2274,2294,2307,2318,2319,2335,2344,2347,2354,2358,2359,2372,2378,2383,2396,2398,2400,2402,2409,2410,2415,2416,2422,2430,2436,2446,2447,2472,2494,2499,2500,2503,2517,2521,2535,2558,2561,2577,2578,2597,2604,2612,2614,2616,2617,2618,2625,2637,2653,2666,2689,2741,2761,2762,2767,2773,2775,2785,2789,2799,2800,2824,2836,2837,2840,2851,2852,2853,2854,2863,2864,2870,2875,2883,2885,2893,2894,2896,2902,2912,2925,2927,2928,2932,2935,2942,2945,2946,2954,2966,2979,2982,2992,2996,3003,3004,3007,3015,3016,3040,3044,3047,3048,3050,3057,3058,3059,3060,3072,3090,3095,3107,3118,3125,3127,3128,3133,3137,3151,3158,3160,3166,3172,3205,3207,3215,3220,3221,3230,3235,3237,3275,3282,3286,3287,3289,3294,3330,3332,3333,3336,3344,3347,3360,3361,3378,3402,3415,3418,3420,3451,3453,3475,3476,3479,3489,3491,3517,3522,3525,3530,3542,3543,3549,3565,3570,3576,3593,3594,3612,3641,3644,3646,3655,3659,3668,3669,3679,3721,3722,3745,3752,3757,3758,3769,3772,3775,3796,3797,3799,3802,3806,3812,3819,3834,3838,3843,3847,3859,3866,3885,3889,3906,3908,3912,3915,3918,3919,3921,3923,3926,3927,3943,3946,3953,3963,3967,3970,3971,3973,12104,12107,12111,12113,12115,21159,12119,12120,12122,12124,12125,12127,21164,21166,21167,12133,12135,21170,21172,12137,12139,21176,21179,12159,21186,21189,12166,21194,21195,21197,12171,12174,21204,21207,21209,12181,12182,21212,21214,12191,21216,21217,21220,12196,21225,21228,21233,12203,12204,12206,21237,21241,12212,12213,12214,12216,12223,21262,21266,21269,21270,21271,12235,21274,21278,21288,12249,21295,21297,21299,12252,12258,12261,21321,21323,21330,21331,21332,21333,21339,21347,21350,21358,21364,21373,12301,21381,21383,12307,12317,21398,12318,12319,12320,12322,21404,21405,12327,21412,21414,12332,12335,21421,21426,21428,21440,21442,12346,21450,21457,12353,21465,21468,21469,21470,21474,12359,21475,21476,21481,21486,21493,21494,21497,21500,21503,21506,21507,12366,21511,21515,21517,21521,21527,21528,21532,21533,21535,21538,21541,21544,12390,21549,21550,21552,21556,21558,21564,12416,21567,21568,21569,12423,21583,21584,21592,21599,21602,12432,12436,21604,21605,21620,21623,21628,21631,21634,21638,21640,12452,21641,21642,21645,21647,12458,12460,21649,21650,21651,21652,21659,21664,12468,21668,21669,21673,21678,12475,21685,21689,21699,21704,21707,21709,12489,21719,21720,12494,12498,21731,12507,21738,21741,12512,12514,21745,21750,21755,21756,21758,21762,21766,21768,12518,21775,21778,21779,21780,21781,12523,21787,21788,21792,12528,21793,21797,12530,21798,12537,21803,12540,12541,21805,21808,21811,21813,12548,12549,21818,21821,21824,21828,21829,21832,21833,12562,21838,21839,21841,21848,21849,21853,21854,21855,21866,21868,12570,12571,12575,21878,12583,21884,21886,21889,21890,21891,12589,21893,21897,21898,12595,21905,21906,21907,21912,21914,21915,21925,21928,21930,12597,21935,21941,21942,21945,21949,21950,21954,21955,21956,21958,21959,21960,12611,12614,12615,21972,21975,21978,12617,21981,21982,21985,21993,12627,12632,21996,22000,12641,12642,22004,22006,22008,22009,22018,22019,22022,12654,22025,22028,22032,12656,22033,22036,22041,22042,22043,12664,22046,22047,22048,22052,22056,12671,12676,22064,22067,22068,12680,12682,12684,12687,22070,22071,22078,22081,12693,12694,22086,12701,22095,22102,22106,12713,22108,22110,22111,22112,22114,22117,22120,22121,22124,22131,22134,12723,22135,12726,22146,22157,12728,22163,22169,22172,22179,22181,22183,22194,22200,22203,12749,22216,22218,22219,22223,22227,12757,22230,22236,22237,22238,22241,22242,22243,22246,22249,22250,22255,22260,12772,22264,22267,12775,22272,22276,22277,22282,22283,22284,22286,12780,12781,22293,22305,22310,12785,22325,12791,12792,12794,22342,12796,22358,22359,22361,22362,22363,22370,22373,12815,22380,22382,12817,22386,22387,22388,12823,22391,22392,22393,22395,22396,22397,12824,12828,22403,12839,22406,22412,22413,12843,12845,22421,22423,22428,22429,12854,22443,12858,22445,12868,12869,12870,22466,22472,22484,22485,12889,22497,22498,22499,22500,22522,22524,22526,12912,22535,22540,22550,22556,22558,12928,12931,12933,22567,22568,22569,12938,22580,12941,22583,12952,12958,12960,22603,12961,12965,12967,12968,22614])"
      ],
      "execution_count": 52,
      "outputs": []
    },
    {
      "cell_type": "code",
      "metadata": {
        "colab": {
          "base_uri": "https://localhost:8080/"
        },
        "id": "s0fCIMnjO1IQ",
        "outputId": "0b13d749-b1ee-4124-936f-49ad511979e5"
      },
      "source": [
        "print(len(test_threads)) #Check 1000 threads\n",
        "thread_list = []\n",
        "parent_list = []\n",
        "child_list = []\n",
        "post_sn = {}\n",
        "for i in sorted(test_threads):\n",
        "  if i == '':\n",
        "    continue\n",
        "  else:\n",
        "    \n",
        "    temp = df[df['ThreadID']==int(i)]\n",
        "    postIDs = sorted(temp['PostID'])\n",
        "    \n",
        "    k = 0\n",
        "    for j in postIDs:\n",
        "      post_sn[(int(i),int(j))] = int(k) #Dictionary to get relative post ID given thread ID and post ID \n",
        "      k = k + 1 \n",
        "    s = get_conversation_dag(int(i))\n",
        "    \n",
        "    for j,k in s.edges():\n",
        "      thread_list.append(int(i))\n",
        "\n",
        "      p = post_sn.get((i,j))\n",
        "      c = post_sn.get((i,k))\n",
        "\n",
        "      parent_list.append(p)\n",
        "      child_list.append(c)"
      ],
      "execution_count": 53,
      "outputs": [
        {
          "output_type": "stream",
          "name": "stdout",
          "text": [
            "1000\n"
          ]
        }
      ]
    },
    {
      "cell_type": "code",
      "metadata": {
        "id": "zCbFvP5ZTgWd"
      },
      "source": [
        "gold = pd.DataFrame()\n",
        "gold['ThreadID'] = thread_list\n",
        "gold['P'] = parent_list\n",
        "gold['C'] = child_list\n",
        "gold = gold[gold['P']!=gold['C']]\n",
        "gold = gold.sort_values(['ThreadID','P','C'])\n",
        "gold = gold.reset_index(drop=True)"
      ],
      "execution_count": 54,
      "outputs": []
    },
    {
      "cell_type": "code",
      "metadata": {
        "colab": {
          "base_uri": "https://localhost:8080/",
          "height": 419
        },
        "id": "u9AdafERZcIh",
        "outputId": "10d9105d-0bc8-4ae2-bc97-ef514d832a0a"
      },
      "source": [
        "gold #ground truth of forum test dataset"
      ],
      "execution_count": 55,
      "outputs": [
        {
          "output_type": "execute_result",
          "data": {
            "text/html": [
              "<div>\n",
              "<style scoped>\n",
              "    .dataframe tbody tr th:only-of-type {\n",
              "        vertical-align: middle;\n",
              "    }\n",
              "\n",
              "    .dataframe tbody tr th {\n",
              "        vertical-align: top;\n",
              "    }\n",
              "\n",
              "    .dataframe thead th {\n",
              "        text-align: right;\n",
              "    }\n",
              "</style>\n",
              "<table border=\"1\" class=\"dataframe\">\n",
              "  <thead>\n",
              "    <tr style=\"text-align: right;\">\n",
              "      <th></th>\n",
              "      <th>ThreadID</th>\n",
              "      <th>P</th>\n",
              "      <th>C</th>\n",
              "    </tr>\n",
              "  </thead>\n",
              "  <tbody>\n",
              "    <tr>\n",
              "      <th>0</th>\n",
              "      <td>66</td>\n",
              "      <td>0</td>\n",
              "      <td>1</td>\n",
              "    </tr>\n",
              "    <tr>\n",
              "      <th>1</th>\n",
              "      <td>66</td>\n",
              "      <td>0</td>\n",
              "      <td>3</td>\n",
              "    </tr>\n",
              "    <tr>\n",
              "      <th>2</th>\n",
              "      <td>66</td>\n",
              "      <td>1</td>\n",
              "      <td>2</td>\n",
              "    </tr>\n",
              "    <tr>\n",
              "      <th>3</th>\n",
              "      <td>66</td>\n",
              "      <td>1</td>\n",
              "      <td>5</td>\n",
              "    </tr>\n",
              "    <tr>\n",
              "      <th>4</th>\n",
              "      <td>66</td>\n",
              "      <td>3</td>\n",
              "      <td>4</td>\n",
              "    </tr>\n",
              "    <tr>\n",
              "      <th>...</th>\n",
              "      <td>...</td>\n",
              "      <td>...</td>\n",
              "      <td>...</td>\n",
              "    </tr>\n",
              "    <tr>\n",
              "      <th>19061</th>\n",
              "      <td>22614</td>\n",
              "      <td>17</td>\n",
              "      <td>18</td>\n",
              "    </tr>\n",
              "    <tr>\n",
              "      <th>19062</th>\n",
              "      <td>22614</td>\n",
              "      <td>17</td>\n",
              "      <td>23</td>\n",
              "    </tr>\n",
              "    <tr>\n",
              "      <th>19063</th>\n",
              "      <td>22614</td>\n",
              "      <td>19</td>\n",
              "      <td>20</td>\n",
              "    </tr>\n",
              "    <tr>\n",
              "      <th>19064</th>\n",
              "      <td>22614</td>\n",
              "      <td>19</td>\n",
              "      <td>22</td>\n",
              "    </tr>\n",
              "    <tr>\n",
              "      <th>19065</th>\n",
              "      <td>22614</td>\n",
              "      <td>20</td>\n",
              "      <td>21</td>\n",
              "    </tr>\n",
              "  </tbody>\n",
              "</table>\n",
              "<p>19066 rows × 3 columns</p>\n",
              "</div>"
            ],
            "text/plain": [
              "       ThreadID   P   C\n",
              "0            66   0   1\n",
              "1            66   0   3\n",
              "2            66   1   2\n",
              "3            66   1   5\n",
              "4            66   3   4\n",
              "...         ...  ..  ..\n",
              "19061     22614  17  18\n",
              "19062     22614  17  23\n",
              "19063     22614  19  20\n",
              "19064     22614  19  22\n",
              "19065     22614  20  21\n",
              "\n",
              "[19066 rows x 3 columns]"
            ]
          },
          "metadata": {},
          "execution_count": 55
        }
      ]
    },
    {
      "cell_type": "code",
      "metadata": {
        "id": "VLdNjJnvbNEa"
      },
      "source": [
        "def get_set_of_sets(s1,name):\n",
        "  #Given a prediction, get a set of subthreads for each thread\n",
        "  set_set_list = []\n",
        "  for i in sorted(list(test_threads)):\n",
        "    temp = s1[s1['ThreadID']==int(i)]\n",
        "    p = list(temp['P'])\n",
        "    c = list(temp['C'])\n",
        "    edges = []\n",
        "    for j in range(len(p)):\n",
        "      edges.append((int(p[j]),int(c[j])))\n",
        "    all_nodes = list(set(p).union(set(c)))\n",
        "    G = nx.DiGraph()\n",
        "    G.add_nodes_from(all_nodes)\n",
        "    G.add_edges_from(edges)\n",
        "    chaini = chain.from_iterable\n",
        "    roots = (n for n,d in G.in_degree() if d==0)\n",
        "    leaves = (n for n,d in G.out_degree() if d==0)\n",
        "    all_paths = partial(nx.all_simple_paths, G)\n",
        "    ans = chaini(starmap(all_paths, product(roots, leaves)))\n",
        "    set_ans = {}\n",
        "    k = 0\n",
        "    for i in ans:\n",
        "      set_ans[name+str(k)] = set(i)\n",
        "      k = k + 1\n",
        "    set_set_list.append(set_ans)\n",
        "  return set_set_list"
      ],
      "execution_count": 56,
      "outputs": []
    },
    {
      "cell_type": "code",
      "metadata": {
        "id": "JJJeuCkXPKdX"
      },
      "source": [
        "gt = get_set_of_sets(gold,'G') #Ground Truth\n",
        "pr = get_set_of_sets(preds,'AC') #Model 1 ACL 2019\n",
        "pr2 = get_set_of_sets(preds2,'AF') #Model 2 ACL 2019\n",
        "pr3 = get_set_of_sets(preds3,'EC') #Model 3 EMNLP 2020\n",
        "pr4 = get_set_of_sets(preds4,'EF') #Model 4 EMNLP 2020\n",
        "pr5 = get_set_of_sets(preds5,'DF') #Model 5 EMNLP 2020 Date Feature\n",
        "pr6 = get_set_of_sets(preds6,'WSF') #Model 5 EMNLP 2020 Word Segmentation No Special Chars\n",
        "pr7 = get_set_of_sets(preds7,'CWF') #Model 5 EMNLP 2020 Word Segmentation No Special Chars\n",
        "pr8 = get_set_of_sets(preds8,'NF')"
      ],
      "execution_count": 57,
      "outputs": []
    },
    {
      "cell_type": "code",
      "metadata": {
        "id": "BuOTiecJiol2"
      },
      "source": [
        "all_models_pr_vs_gt = pd.DataFrame()\n",
        "all_models_pr_vs_gt['TID'] = sorted(list(test_threads))\n",
        "all_models_pr_vs_gt['GT'] = gt\n",
        "all_models_pr_vs_gt['PR'] = pr\n",
        "all_models_pr_vs_gt['PR2'] = pr2\n",
        "all_models_pr_vs_gt['PR3'] = pr3\n",
        "all_models_pr_vs_gt['PR4'] = pr4\n",
        "all_models_pr_vs_gt['PR5'] = pr5\n",
        "all_models_pr_vs_gt['PR6'] = pr6\n",
        "all_models_pr_vs_gt['PR7'] = pr7\n",
        "all_models_pr_vs_gt['PR8'] = pr8"
      ],
      "execution_count": 58,
      "outputs": []
    },
    {
      "cell_type": "code",
      "metadata": {
        "colab": {
          "base_uri": "https://localhost:8080/",
          "height": 419
        },
        "id": "sFrUT4fFUlFw",
        "outputId": "de5e816f-5907-4ea4-bb4f-ac16f6683b3d"
      },
      "source": [
        "preds8"
      ],
      "execution_count": 59,
      "outputs": [
        {
          "output_type": "execute_result",
          "data": {
            "text/html": [
              "<div>\n",
              "<style scoped>\n",
              "    .dataframe tbody tr th:only-of-type {\n",
              "        vertical-align: middle;\n",
              "    }\n",
              "\n",
              "    .dataframe tbody tr th {\n",
              "        vertical-align: top;\n",
              "    }\n",
              "\n",
              "    .dataframe thead th {\n",
              "        text-align: right;\n",
              "    }\n",
              "</style>\n",
              "<table border=\"1\" class=\"dataframe\">\n",
              "  <thead>\n",
              "    <tr style=\"text-align: right;\">\n",
              "      <th></th>\n",
              "      <th>ThreadID</th>\n",
              "      <th>P</th>\n",
              "      <th>C</th>\n",
              "    </tr>\n",
              "  </thead>\n",
              "  <tbody>\n",
              "    <tr>\n",
              "      <th>0</th>\n",
              "      <td>66</td>\n",
              "      <td>0</td>\n",
              "      <td>1</td>\n",
              "    </tr>\n",
              "    <tr>\n",
              "      <th>1</th>\n",
              "      <td>66</td>\n",
              "      <td>0</td>\n",
              "      <td>3</td>\n",
              "    </tr>\n",
              "    <tr>\n",
              "      <th>2</th>\n",
              "      <td>66</td>\n",
              "      <td>0</td>\n",
              "      <td>4</td>\n",
              "    </tr>\n",
              "    <tr>\n",
              "      <th>3</th>\n",
              "      <td>66</td>\n",
              "      <td>0</td>\n",
              "      <td>13</td>\n",
              "    </tr>\n",
              "    <tr>\n",
              "      <th>4</th>\n",
              "      <td>66</td>\n",
              "      <td>1</td>\n",
              "      <td>2</td>\n",
              "    </tr>\n",
              "    <tr>\n",
              "      <th>...</th>\n",
              "      <td>...</td>\n",
              "      <td>...</td>\n",
              "      <td>...</td>\n",
              "    </tr>\n",
              "    <tr>\n",
              "      <th>18975</th>\n",
              "      <td>22614</td>\n",
              "      <td>13</td>\n",
              "      <td>20</td>\n",
              "    </tr>\n",
              "    <tr>\n",
              "      <th>18976</th>\n",
              "      <td>22614</td>\n",
              "      <td>13</td>\n",
              "      <td>21</td>\n",
              "    </tr>\n",
              "    <tr>\n",
              "      <th>18977</th>\n",
              "      <td>22614</td>\n",
              "      <td>13</td>\n",
              "      <td>22</td>\n",
              "    </tr>\n",
              "    <tr>\n",
              "      <th>18978</th>\n",
              "      <td>22614</td>\n",
              "      <td>13</td>\n",
              "      <td>23</td>\n",
              "    </tr>\n",
              "    <tr>\n",
              "      <th>18979</th>\n",
              "      <td>22614</td>\n",
              "      <td>18</td>\n",
              "      <td>19</td>\n",
              "    </tr>\n",
              "  </tbody>\n",
              "</table>\n",
              "<p>18980 rows × 3 columns</p>\n",
              "</div>"
            ],
            "text/plain": [
              "       ThreadID   P   C\n",
              "0            66   0   1\n",
              "1            66   0   3\n",
              "2            66   0   4\n",
              "3            66   0  13\n",
              "4            66   1   2\n",
              "...         ...  ..  ..\n",
              "18975     22614  13  20\n",
              "18976     22614  13  21\n",
              "18977     22614  13  22\n",
              "18978     22614  13  23\n",
              "18979     22614  18  19\n",
              "\n",
              "[18980 rows x 3 columns]"
            ]
          },
          "metadata": {},
          "execution_count": 59
        }
      ]
    },
    {
      "cell_type": "code",
      "metadata": {
        "colab": {
          "base_uri": "https://localhost:8080/",
          "height": 114
        },
        "id": "Iq44pzqWi_O_",
        "outputId": "ceaa7c8e-67a0-4d8f-8882-7b1048d2fe1c"
      },
      "source": [
        "all_models_pr_vs_gt[all_models_pr_vs_gt['TID']==2052]"
      ],
      "execution_count": 60,
      "outputs": [
        {
          "output_type": "execute_result",
          "data": {
            "text/html": [
              "<div>\n",
              "<style scoped>\n",
              "    .dataframe tbody tr th:only-of-type {\n",
              "        vertical-align: middle;\n",
              "    }\n",
              "\n",
              "    .dataframe tbody tr th {\n",
              "        vertical-align: top;\n",
              "    }\n",
              "\n",
              "    .dataframe thead th {\n",
              "        text-align: right;\n",
              "    }\n",
              "</style>\n",
              "<table border=\"1\" class=\"dataframe\">\n",
              "  <thead>\n",
              "    <tr style=\"text-align: right;\">\n",
              "      <th></th>\n",
              "      <th>TID</th>\n",
              "      <th>GT</th>\n",
              "      <th>PR</th>\n",
              "      <th>PR2</th>\n",
              "      <th>PR3</th>\n",
              "      <th>PR4</th>\n",
              "      <th>PR5</th>\n",
              "      <th>PR6</th>\n",
              "      <th>PR7</th>\n",
              "      <th>PR8</th>\n",
              "    </tr>\n",
              "  </thead>\n",
              "  <tbody>\n",
              "    <tr>\n",
              "      <th>257</th>\n",
              "      <td>2052</td>\n",
              "      <td>{'G0': {0, 1}, 'G1': {0, 2, 3, 4, 5, 6, 7, 8},...</td>\n",
              "      <td>{'AC0': {0, 2}, 'AC1': {0, 4, 6}, 'AC2': {0, 8...</td>\n",
              "      <td>{'AF0': {0, 1, 2}, 'AF1': {0, 3, 4, 5, 6, 7, 8...</td>\n",
              "      <td>{'EC0': {0, 1}, 'EC1': {0, 2}, 'EC2': {0, 4, 5...</td>\n",
              "      <td>{'EF0': {0, 1, 2, 3}, 'EF1': {4, 5, 6, 7, 8}, ...</td>\n",
              "      <td>{'DF0': {0, 1, 2}, 'DF1': {0, 1, 3, 4}, 'DF2':...</td>\n",
              "      <td>{'WSF0': {0, 1, 2, 3, 4, 5, 6, 7, 8}, 'WSF1': ...</td>\n",
              "      <td>{'CWF0': {0, 1, 2}, 'CWF1': {0, 1, 3, 4, 5, 6,...</td>\n",
              "      <td>{'NF0': {0, 1}, 'NF1': {0, 2}, 'NF2': {0, 4}, ...</td>\n",
              "    </tr>\n",
              "  </tbody>\n",
              "</table>\n",
              "</div>"
            ],
            "text/plain": [
              "      TID  ...                                                PR8\n",
              "257  2052  ...  {'NF0': {0, 1}, 'NF1': {0, 2}, 'NF2': {0, 4}, ...\n",
              "\n",
              "[1 rows x 10 columns]"
            ]
          },
          "metadata": {},
          "execution_count": 60
        }
      ]
    },
    {
      "cell_type": "code",
      "metadata": {
        "id": "5_y3jdvu4q4Q"
      },
      "source": [
        "def get_metrics(s1,s2,t):\n",
        "  one_minus_scaled_VI_list = []\n",
        "  NVI_list = []\n",
        "  NMI_list = []\n",
        "  NID_list = []\n",
        "  omega_list = []\n",
        "  one_one_list = []\n",
        "  shen_f1_list = []\n",
        "\n",
        "  OMSVI_error = []\n",
        "  NVI_error = []\n",
        "  NMI_error = []\n",
        "  NID_error = []\n",
        "  OM_error = []\n",
        "  OVO_error = []\n",
        "  SF1_error = []\n",
        "\n",
        "  s1 = list(s1)\n",
        "  s2 = list(s2)\n",
        "  t = list(t)\n",
        " \n",
        "  for i in range(len(s1)):\n",
        "    if len(s1[i])>0 and len(s2[i])>0:\n",
        "      one_minus_scaled_VI = get_one_minus_scaled_vi(s1[i],s2[i])\n",
        "      NVI = get_normalized_vi(s1[i],s2[i])\n",
        "      NMI = 1 - get_nmi_joint(s1[i],s2[i])\n",
        "      NID = get_normalized_information_distance(s1[i],s2[i])\n",
        "      OM = get_omega_score(s1[i],s2[i])\n",
        "      OVO = get_one_to_one(s1[i],s2[i])\n",
        "      SF1 = get_shen_f1(s1[i],s2[i])\n",
        "    else:\n",
        "      one_minus_scaled_VI = 0\n",
        "      NVI = 0\n",
        "      NMI = 0\n",
        "      NID = 0\n",
        "      OM = 0\n",
        "      OVO = 0\n",
        "      SF1 = 0\n",
        "\n",
        "\n",
        "    if one_minus_scaled_VI < 0.0 or one_minus_scaled_VI > 1.0:\n",
        "      OMSVI_error.append(i)\n",
        "    if NVI < 0.0 or NVI > 1.0:\n",
        "      NVI_error.append(i)\n",
        "    if NMI < 0.0 or NMI > 1:\n",
        "      NMI_error.append(i)\n",
        "    if NID < 0.0 or NID > 1:\n",
        "      NID_error.append(i) \n",
        "    if OM < 0.0 or OM > 1.0:\n",
        "      OM_error.append(i)\n",
        "    if SF1 < 0.0 or SF1 > 1.0:\n",
        "      SF1_error.append(i)\n",
        "\n",
        "    one_minus_scaled_VI_list.append(one_minus_scaled_VI)\n",
        "    NVI_list.append(NVI)\n",
        "    NMI_list.append(NMI)\n",
        "    NID_list.append(NID)\n",
        "    omega_list.append(OM)\n",
        "    one_one_list.append(OVO)\n",
        "    shen_f1_list.append(SF1)\n",
        "\n",
        "  errors = (NMI_error, NID_error, OM_error, OVO_error, SF1_error)\n",
        "  \n",
        "  metrics = pd.DataFrame()\n",
        "  metrics['TID'] = t\n",
        "  metrics['Gold Cluster'] = s1\n",
        "  metrics['Model Predictions'] = s2\n",
        "  metrics['1-Scaled VI'] = one_minus_scaled_VI_list\n",
        "  metrics['1-Normalized VI'] = NVI_list\n",
        "  metrics['NMI'] = NMI_list\n",
        "  metrics['NID'] = NID_list\n",
        "  metrics['Omega'] = omega_list\n",
        "  metrics['one_to_one'] = one_one_list\n",
        "  metrics['shen_F1'] = shen_f1_list\n",
        "  return metrics,errors"
      ],
      "execution_count": 61,
      "outputs": []
    },
    {
      "cell_type": "code",
      "metadata": {
        "colab": {
          "base_uri": "https://localhost:8080/"
        },
        "id": "ZLpgVOXY-WVO",
        "outputId": "f100f27b-1745-460c-d099-b4a23bacab2f"
      },
      "source": [
        "metrics,e1 = get_metrics(all_models_pr_vs_gt['GT'], all_models_pr_vs_gt['PR'],all_models_pr_vs_gt['TID'])"
      ],
      "execution_count": null,
      "outputs": [
        {
          "output_type": "stream",
          "name": "stderr",
          "text": [
            "/usr/local/lib/python3.7/dist-packages/ipykernel_launcher.py:4: RuntimeWarning: invalid value encountered in double_scalars\n",
            "  after removing the cwd from sys.path.\n"
          ]
        }
      ]
    },
    {
      "cell_type": "code",
      "metadata": {
        "id": "fZjSPTzGZXkR"
      },
      "source": [
        "metrics2,e2 = get_metrics(all_models_pr_vs_gt['GT'], all_models_pr_vs_gt['PR2'],all_models_pr_vs_gt['TID'])"
      ],
      "execution_count": null,
      "outputs": []
    },
    {
      "cell_type": "code",
      "metadata": {
        "id": "jwMyktNxStcT"
      },
      "source": [
        "metrics3,e3 = get_metrics(all_models_pr_vs_gt['GT'], all_models_pr_vs_gt['PR3'],all_models_pr_vs_gt['TID'])"
      ],
      "execution_count": null,
      "outputs": []
    },
    {
      "cell_type": "code",
      "metadata": {
        "id": "0a2ERPcJmr_u"
      },
      "source": [
        "metrics4,e4 = get_metrics(all_models_pr_vs_gt['GT'], all_models_pr_vs_gt['PR4'],all_models_pr_vs_gt['TID'])"
      ],
      "execution_count": null,
      "outputs": []
    },
    {
      "cell_type": "code",
      "metadata": {
        "id": "19kIZc2MsweC"
      },
      "source": [
        "metrics5,e5 = get_metrics(all_models_pr_vs_gt['GT'], all_models_pr_vs_gt['PR5'],all_models_pr_vs_gt['TID'])"
      ],
      "execution_count": null,
      "outputs": []
    },
    {
      "cell_type": "code",
      "metadata": {
        "id": "znMFARIjoqM5"
      },
      "source": [
        "metrics6,e6 = get_metrics(all_models_pr_vs_gt['GT'], all_models_pr_vs_gt['PR6'],all_models_pr_vs_gt['TID'])"
      ],
      "execution_count": null,
      "outputs": []
    },
    {
      "cell_type": "code",
      "metadata": {
        "id": "KYCMLC5sSlNm"
      },
      "source": [
        "metrics7,e7 = get_metrics(all_models_pr_vs_gt['GT'], all_models_pr_vs_gt['PR7'],all_models_pr_vs_gt['TID'])"
      ],
      "execution_count": null,
      "outputs": []
    },
    {
      "cell_type": "code",
      "metadata": {
        "id": "uZwAn3kQNeiy"
      },
      "source": [
        "metrics8,e8 = get_metrics(all_models_pr_vs_gt['GT'], all_models_pr_vs_gt['PR8'],all_models_pr_vs_gt['TID'])"
      ],
      "execution_count": null,
      "outputs": []
    },
    {
      "cell_type": "code",
      "metadata": {
        "id": "wuaVHHvSNjNZ"
      },
      "source": [
        "metrics8.describe()"
      ],
      "execution_count": null,
      "outputs": []
    },
    {
      "cell_type": "code",
      "metadata": {
        "id": "Z6ekwKO4S0hz"
      },
      "source": [
        "metrics3.describe() #model3 EMNLP2020 Pointer Network Pretrained"
      ],
      "execution_count": null,
      "outputs": []
    },
    {
      "cell_type": "code",
      "metadata": {
        "id": "lJFPjoMxaf8i"
      },
      "source": [
        "metrics.describe() #model 1 ACL 2019 Pretrained "
      ],
      "execution_count": null,
      "outputs": []
    },
    {
      "cell_type": "code",
      "metadata": {
        "id": "qrQUUXjpg0OD"
      },
      "source": [
        "pd.set_option('max_colwidth', -1)"
      ],
      "execution_count": null,
      "outputs": []
    },
    {
      "cell_type": "code",
      "metadata": {
        "id": "Z0K5M4CAQENS"
      },
      "source": [
        "metrics8[metrics8['Omega']<0]"
      ],
      "execution_count": null,
      "outputs": []
    },
    {
      "cell_type": "code",
      "metadata": {
        "id": "qDg0k_wzfo2I"
      },
      "source": [
        "a = metrics8[['TID','Gold Cluster','Model Predictions','1-Normalized VI','one_to_one','Omega','shen_F1']]"
      ],
      "execution_count": null,
      "outputs": []
    },
    {
      "cell_type": "code",
      "metadata": {
        "id": "XLfxtAMmfu5G"
      },
      "source": [
        "b = metrics3[['TID','Model Predictions','1-Normalized VI','one_to_one','Omega','shen_F1']]"
      ],
      "execution_count": null,
      "outputs": []
    },
    {
      "cell_type": "code",
      "metadata": {
        "id": "SnMvUZihfvNN"
      },
      "source": [
        "analysis = a.merge(b, on='TID',suffixes=('_E20_OurData', '_E20_PreTrain'))"
      ],
      "execution_count": null,
      "outputs": []
    },
    {
      "cell_type": "code",
      "metadata": {
        "id": "4boq_DJHp_N1"
      },
      "source": [
        "analysis.columns"
      ],
      "execution_count": null,
      "outputs": []
    },
    {
      "cell_type": "code",
      "metadata": {
        "id": "txyNvUF2vALU"
      },
      "source": [
        "df[df['ThreadID']==22603].reset_index()"
      ],
      "execution_count": null,
      "outputs": []
    },
    {
      "cell_type": "code",
      "metadata": {
        "id": "ZTvsRZTPl8Rb"
      },
      "source": [
        "a[a['TID']==22614]"
      ],
      "execution_count": null,
      "outputs": []
    },
    {
      "cell_type": "code",
      "metadata": {
        "id": "tZIEZ7UAPenY"
      },
      "source": [
        "a['Gold Cluster'][999]"
      ],
      "execution_count": null,
      "outputs": []
    },
    {
      "cell_type": "code",
      "metadata": {
        "id": "Ne7Q0q_qcW2o"
      },
      "source": [
        "a['Model Predictions'][999]"
      ],
      "execution_count": null,
      "outputs": []
    },
    {
      "cell_type": "code",
      "metadata": {
        "id": "2BU_PlqBPkBo"
      },
      "source": [
        "b['Model Predictions'][999]"
      ],
      "execution_count": null,
      "outputs": []
    },
    {
      "cell_type": "code",
      "metadata": {
        "id": "YD9P128Hf8u8"
      },
      "source": [
        "b[b['TID']==22614]"
      ],
      "execution_count": null,
      "outputs": []
    },
    {
      "cell_type": "code",
      "metadata": {
        "id": "Qw6urcu3ckJF"
      },
      "source": [
        "def get_avg_jaccard_similarity(s):\n",
        "  set_list = []\n",
        "  for _,i in s.items():\n",
        "    set_list.append(i)\n",
        "  jaccard = []\n",
        "  for i,j in combinations(set_list,2):\n",
        "    j_sim = len(i.intersection(j))/len(i.union(j))\n",
        "    jaccard.append(j_sim)\n",
        "  if len(jaccard)>0:\n",
        "    ans = np.mean(jaccard)\n",
        "  else:\n",
        "    ans = 0.0\n",
        "  return (ans)"
      ],
      "execution_count": null,
      "outputs": []
    },
    {
      "cell_type": "code",
      "metadata": {
        "id": "3oqneSdgKbuB"
      },
      "source": [
        "def get_avg_overlap_coefficient(s):\n",
        "  set_list = []\n",
        "  for _,i in s.items():\n",
        "    set_list.append(i)\n",
        "  overlap = []\n",
        "  for i,j in combinations(set_list,2):\n",
        "    if min(len(i),len(j)) != 0:\n",
        "      o_sim = len(i.intersection(j))/min(len(i),len(j))\n",
        "    else:\n",
        "      o_sim = 0\n",
        "    overlap.append(o_sim)\n",
        "  if len(overlap)>0:\n",
        "    ans = np.mean(overlap)\n",
        "  else:\n",
        "    ans = 0.0\n",
        "  return (ans)"
      ],
      "execution_count": null,
      "outputs": []
    },
    {
      "cell_type": "code",
      "metadata": {
        "id": "RccMav4tgV3_"
      },
      "source": [
        "def get_avg_unique_authors_per_subthread(s,tid):\n",
        "  set_list = []\n",
        "  for _,i in s.items():\n",
        "    set_list.append(i)\n",
        "  authors_all_subthreads = []\n",
        "  for i in set_list:\n",
        "    author_list = []\n",
        "    for j in i:\n",
        "      auth = thread_pid_author_dic.get((tid,j),'')\n",
        "      if len(auth)>0:\n",
        "        author_list.append(thread_pid_author_dic.get((tid,j)))\n",
        "    authors_all_subthreads.append(len(set(author_list)))\n",
        "  if len(authors_all_subthreads)>0:\n",
        "    ans = np.mean(authors_all_subthreads)\n",
        "  else:\n",
        "    ans = 0\n",
        "  return ans"
      ],
      "execution_count": null,
      "outputs": []
    },
    {
      "cell_type": "code",
      "metadata": {
        "id": "AB-gkDFPm2ct"
      },
      "source": [
        "G = []\n",
        "U = []\n",
        "T = []\n",
        "\n",
        "for i in list(analysis['TID']):\n",
        "  tid = i\n",
        "  clustering_GOLD = list(analysis[analysis['TID']==i]['Gold Cluster'])\n",
        "  clustering_US = list(analysis[analysis['TID']==i]['Model Predictions_E20_OurData'])\n",
        "  clustering_THEM = list(analysis[analysis['TID']==i]['Model Predictions_E20_PreTrain'])\n",
        "  gold_score = []\n",
        "  us_score = []\n",
        "  them_score = []\n",
        "\n",
        "\n",
        "  G.append(math.floor(get_avg_unique_authors_per_subthread(clustering_GOLD[0],tid)))\n",
        "  U.append(math.floor(get_avg_unique_authors_per_subthread(clustering_US[0],tid)))\n",
        "  T.append(math.floor(get_avg_unique_authors_per_subthread(clustering_THEM[0],tid)))"
      ],
      "execution_count": null,
      "outputs": []
    },
    {
      "cell_type": "code",
      "metadata": {
        "id": "Kn8XDkaNqcOE"
      },
      "source": [
        "analysis['Gold_Authors'] = G\n",
        "analysis['OurModel_Authors'] = U\n",
        "analysis['PreTrainModel_Authors'] = T"
      ],
      "execution_count": null,
      "outputs": []
    },
    {
      "cell_type": "code",
      "metadata": {
        "id": "muOhtkmafviN"
      },
      "source": [
        "analysis['Gold_Number_SubThreads'] = analysis['Gold Cluster'].apply(lambda x: len(x))\n",
        "analysis['OurModel_Number_SubThreads'] = analysis['Model Predictions_E20_OurData'].apply(lambda x: len(x))\n",
        "analysis['PreTrainModel_Number_SubThreads'] = analysis['Model Predictions_E20_PreTrain'].apply(lambda x: len(x))\n",
        "analysis['Gold_Longest_SubThreads'] = analysis['Gold Cluster'].apply(lambda x: max([len(i) for i in x],default = 0))\n",
        "analysis['OurModel_Longest_SubThreads'] = analysis['Model Predictions_E20_OurData'].apply(lambda x: max([len(i) for i in x],default = 0))\n",
        "analysis['PreTrainModel_Longest_SubThreads'] = analysis['Model Predictions_E20_PreTrain'].apply(lambda x: max([len(i) for i in x],default = 0))\n",
        "analysis['Gold_Number_Posts'] = analysis['Gold Cluster'].apply(lambda x: get_n(x))\n",
        "analysis['OurModel_Number_Posts'] = analysis['Model Predictions_E20_OurData'].apply(lambda x: get_n(x))\n",
        "analysis['PreTrainModel_Number_Posts'] = analysis['Model Predictions_E20_PreTrain'].apply(lambda x: get_n(x))\n",
        "analysis['Gold_Jaccard'] = analysis['Gold Cluster'].apply(lambda x: get_avg_jaccard_similarity(x))\n",
        "analysis['OurModel_Jaccard'] = analysis['Model Predictions_E20_OurData'].apply(lambda x: get_avg_jaccard_similarity(x))\n",
        "analysis['PreTrainModel_Jaccard'] = analysis['Model Predictions_E20_PreTrain'].apply(lambda x: get_avg_jaccard_similarity(x))\n",
        "analysis['Gold_Overlap'] = analysis['Gold Cluster'].apply(lambda x: get_avg_overlap_coefficient(x))\n",
        "analysis['OurModel_Overlap'] = analysis['Model Predictions_E20_OurData'].apply(lambda x: get_avg_overlap_coefficient(x))\n",
        "analysis['PreTrainModel_Overlap'] = analysis['Model Predictions_E20_PreTrain'].apply(lambda x: get_avg_overlap_coefficient(x))"
      ],
      "execution_count": null,
      "outputs": []
    },
    {
      "cell_type": "code",
      "metadata": {
        "id": "GkXpmGhLw3Ll"
      },
      "source": [
        "analysis.describe()"
      ],
      "execution_count": null,
      "outputs": []
    },
    {
      "cell_type": "code",
      "metadata": {
        "id": "5kmwV2x2gro3"
      },
      "source": [
        "qualitative = [66,69,73,83,84,22569,22580,22583,22603,22614]"
      ],
      "execution_count": null,
      "outputs": []
    },
    {
      "cell_type": "code",
      "metadata": {
        "id": "_ZvQMRLbeidn"
      },
      "source": [
        "analysis[analysis['TID'].isin(qualitative)].describe()"
      ],
      "execution_count": null,
      "outputs": []
    },
    {
      "cell_type": "code",
      "metadata": {
        "id": "AvQhRTokei4m"
      },
      "source": [
        ""
      ],
      "execution_count": null,
      "outputs": []
    },
    {
      "cell_type": "code",
      "metadata": {
        "id": "HtrLWDm4ejU6"
      },
      "source": [
        ""
      ],
      "execution_count": null,
      "outputs": []
    },
    {
      "cell_type": "code",
      "metadata": {
        "id": "-kplm5Qkejxu"
      },
      "source": [
        ""
      ],
      "execution_count": null,
      "outputs": []
    },
    {
      "cell_type": "code",
      "metadata": {
        "id": "hunZZfCVw3mw"
      },
      "source": [
        "analysis[analysis['one_to_one_E20_OurData']<analysis['one_to_one_E20_PreTrain']].describe()"
      ],
      "execution_count": null,
      "outputs": []
    },
    {
      "cell_type": "code",
      "metadata": {
        "id": "HarF8YRK1HCs"
      },
      "source": [
        "analysis[analysis['one_to_one_E20_OurData']==analysis['one_to_one_E20_PreTrain']].describe()"
      ],
      "execution_count": null,
      "outputs": []
    },
    {
      "cell_type": "code",
      "metadata": {
        "id": "kcRhSoqk1HYt"
      },
      "source": [
        "analysis[analysis['one_to_one_E20_OurData']>analysis['one_to_one_E20_PreTrain']].describe()"
      ],
      "execution_count": null,
      "outputs": []
    },
    {
      "cell_type": "code",
      "metadata": {
        "id": "7NCFLPd41H0d"
      },
      "source": [
        "analysis[analysis['1-Normalized VI_E20_OurData']<analysis['1-Normalized VI_E20_PreTrain']].describe()"
      ],
      "execution_count": null,
      "outputs": []
    },
    {
      "cell_type": "code",
      "metadata": {
        "id": "VQZiT_5B3sUo"
      },
      "source": [
        "analysis[analysis['1-Normalized VI_E20_OurData']==analysis['1-Normalized VI_E20_PreTrain']].describe()"
      ],
      "execution_count": null,
      "outputs": []
    },
    {
      "cell_type": "code",
      "metadata": {
        "id": "6ZCeJ-rH3sqf"
      },
      "source": [
        "analysis[analysis['1-Normalized VI_E20_OurData']>analysis['1-Normalized VI_E20_PreTrain']].describe()"
      ],
      "execution_count": null,
      "outputs": []
    },
    {
      "cell_type": "code",
      "metadata": {
        "id": "nY__Xd4m3tAf"
      },
      "source": [
        "analysis[analysis['Omega_E20_OurData']<analysis['Omega_E20_PreTrain']].describe()"
      ],
      "execution_count": null,
      "outputs": []
    },
    {
      "cell_type": "code",
      "metadata": {
        "id": "7YZDXSl-3tUF"
      },
      "source": [
        "analysis[analysis['Omega_E20_OurData']==analysis['Omega_E20_PreTrain']].describe()"
      ],
      "execution_count": null,
      "outputs": []
    },
    {
      "cell_type": "code",
      "metadata": {
        "id": "lOd_z9703tma"
      },
      "source": [
        "analysis[analysis['Omega_E20_OurData']>analysis['Omega_E20_PreTrain']].describe()"
      ],
      "execution_count": null,
      "outputs": []
    },
    {
      "cell_type": "code",
      "metadata": {
        "id": "vrtT1Xo_3t3p"
      },
      "source": [
        "analysis[analysis['shen_F1_E20_OurData']<analysis['shen_F1_E20_PreTrain']].describe()"
      ],
      "execution_count": null,
      "outputs": []
    },
    {
      "cell_type": "code",
      "metadata": {
        "id": "Qwod7-G7NKUn"
      },
      "source": [
        "analysis[analysis['shen_F1_E20_OurData']==analysis['shen_F1_E20_PreTrain']].describe()"
      ],
      "execution_count": null,
      "outputs": []
    },
    {
      "cell_type": "code",
      "metadata": {
        "id": "UrdpPiN-NKva"
      },
      "source": [
        "analysis[analysis['shen_F1_E20_OurData']>analysis['shen_F1_E20_PreTrain']].describe()"
      ],
      "execution_count": null,
      "outputs": []
    },
    {
      "cell_type": "code",
      "metadata": {
        "id": "mxT_m3ufNLF6"
      },
      "source": [
        "worst_performing_threads = set(analysis[analysis['shen_F1_E20_OurData']<analysis['shen_F1_E20_PreTrain']]['TID']).intersection(set(analysis[analysis['Omega_E20_OurData']<analysis['Omega_E20_PreTrain']]['TID']).intersection(set(analysis[analysis['1-Normalized VI_E20_OurData']<analysis['1-Normalized VI_E20_PreTrain']]['TID'])).intersection(set(analysis[analysis['one_to_one_E20_OurData']<analysis['one_to_one_E20_PreTrain']]['TID'])))"
      ],
      "execution_count": null,
      "outputs": []
    },
    {
      "cell_type": "code",
      "metadata": {
        "id": "UUkZYSyMNLcD"
      },
      "source": [
        "len(worst_performing_threads)"
      ],
      "execution_count": null,
      "outputs": []
    },
    {
      "cell_type": "code",
      "metadata": {
        "id": "LCDTO9Qx3uJF"
      },
      "source": [
        "analysis[analysis.TID.isin(worst_performing_threads)].describe()"
      ],
      "execution_count": null,
      "outputs": []
    },
    {
      "cell_type": "code",
      "metadata": {
        "id": "ZwnsM0sFs31d"
      },
      "source": [
        "analysis.columns"
      ],
      "execution_count": null,
      "outputs": []
    },
    {
      "cell_type": "code",
      "metadata": {
        "id": "iHGxjKbYRRym"
      },
      "source": [
        "bad_performing_threads = set(analysis[analysis['shen_F1_E20_OurData']<analysis['shen_F1_E20_PreTrain']]['TID']).union(set(analysis[analysis['Omega_E20_OurData']<analysis['Omega_E20_PreTrain']]['TID']).union(set(analysis[analysis['1-Normalized VI_E20_OurData']<analysis['1-Normalized VI_E20_PreTrain']]['TID'])).union(set(analysis[analysis['one_to_one_E20_OurData']<analysis['one_to_one_E20_PreTrain']]['TID'])))"
      ],
      "execution_count": null,
      "outputs": []
    },
    {
      "cell_type": "code",
      "metadata": {
        "id": "Ha2ObjaCrQ76"
      },
      "source": [
        "U0 = set(analysis['TID'])\n",
        "U1 = set(analysis[analysis['shen_F1_E20_OurData']<=analysis['shen_F1_E20_PreTrain']]['TID'])\n",
        "U2 = set(analysis[analysis['1-Normalized VI_E20_OurData']<=analysis['1-Normalized VI_E20_PreTrain']]['TID'])\n",
        "U3 = set(analysis[analysis['Omega_E20_OurData']<=analysis['Omega_E20_PreTrain']]['TID'])\n",
        "U4 = set(analysis[analysis['one_to_one_E20_OurData']<=analysis['one_to_one_E20_PreTrain']]['TID'])\n",
        "A = U0 - (U1.union(U2.union(U3.union(U4))))\n",
        "B = U1 - (U2.union(U3.union(U4)))\n",
        "C = U2 - (U1.union(U3.union(U4)))\n",
        "D = U4 - (U1.union(U2.union(U3)))\n",
        "E = U3 - (U1.union(U2.union(U3)))\n",
        "F = (U1.intersection(U2)) - (U3.union(U4))\n",
        "G = (U1.intersection(U4)) - (U2.union(U3))\n",
        "H = (U2.intersection(U3)) - (U1.union(U4))\n",
        "I = (U3.intersection(U4)) - (U1.union(U2))\n",
        "J = (U1.intersection(U2.intersection(U4))) - U3\n",
        "K = (U1.intersection(U3.intersection(U4))) - U2\n",
        "L = (U1.intersection(U2.intersection(U3))) - U4\n",
        "M = (U2.intersection(U3.intersection(U4))) - U1\n",
        "N = (U1.intersection(U2.intersection(U3.intersection(U4))))"
      ],
      "execution_count": null,
      "outputs": []
    },
    {
      "cell_type": "code",
      "metadata": {
        "id": "KyshfGFG2eM_"
      },
      "source": [
        "print(len(A))"
      ],
      "execution_count": null,
      "outputs": []
    },
    {
      "cell_type": "code",
      "metadata": {
        "id": "1nh1BAEM4neu"
      },
      "source": [
        "analysis[analysis.TID.isin(A)].describe()"
      ],
      "execution_count": null,
      "outputs": []
    },
    {
      "cell_type": "code",
      "metadata": {
        "id": "1aLeM0Ex4n5I"
      },
      "source": [
        "print(len(B))"
      ],
      "execution_count": null,
      "outputs": []
    },
    {
      "cell_type": "code",
      "metadata": {
        "id": "90IcelRs4oSN"
      },
      "source": [
        "analysis[analysis.TID.isin(B)].describe()"
      ],
      "execution_count": null,
      "outputs": []
    },
    {
      "cell_type": "code",
      "metadata": {
        "id": "XK3oLJGn4opH"
      },
      "source": [
        "print(len(C))"
      ],
      "execution_count": null,
      "outputs": []
    },
    {
      "cell_type": "code",
      "metadata": {
        "id": "58VUK4fe4pBL"
      },
      "source": [
        "analysis[analysis.TID.isin(C)].describe()"
      ],
      "execution_count": null,
      "outputs": []
    },
    {
      "cell_type": "code",
      "metadata": {
        "id": "4_sFz2xM4pY7"
      },
      "source": [
        "print(len(D))"
      ],
      "execution_count": null,
      "outputs": []
    },
    {
      "cell_type": "code",
      "metadata": {
        "id": "CLwkhaHW4px6"
      },
      "source": [
        "analysis[analysis.TID.isin(D)].describe()"
      ],
      "execution_count": null,
      "outputs": []
    },
    {
      "cell_type": "code",
      "metadata": {
        "id": "pdq2R1114qHz"
      },
      "source": [
        "print(len(E))"
      ],
      "execution_count": null,
      "outputs": []
    },
    {
      "cell_type": "code",
      "metadata": {
        "id": "kGraSGgR4qed"
      },
      "source": [
        "analysis[analysis.TID.isin(E)].describe()"
      ],
      "execution_count": null,
      "outputs": []
    },
    {
      "cell_type": "code",
      "metadata": {
        "id": "hDfAfKcz4rUQ"
      },
      "source": [
        "print(len(F))"
      ],
      "execution_count": null,
      "outputs": []
    },
    {
      "cell_type": "code",
      "metadata": {
        "id": "qz-s0l6x4rrO"
      },
      "source": [
        "analysis[analysis.TID.isin(F)].describe()"
      ],
      "execution_count": null,
      "outputs": []
    },
    {
      "cell_type": "code",
      "metadata": {
        "id": "a7K6glp75EVX"
      },
      "source": [
        "print(len(G))"
      ],
      "execution_count": null,
      "outputs": []
    },
    {
      "cell_type": "code",
      "metadata": {
        "id": "pqBt1G7T5Ewb"
      },
      "source": [
        "analysis[analysis.TID.isin(G)].describe()"
      ],
      "execution_count": null,
      "outputs": []
    },
    {
      "cell_type": "code",
      "metadata": {
        "id": "1F-kgBHV5FJY"
      },
      "source": [
        "print(len(H))"
      ],
      "execution_count": null,
      "outputs": []
    },
    {
      "cell_type": "code",
      "metadata": {
        "id": "J23kryLx5Fv9"
      },
      "source": [
        "analysis[analysis.TID.isin(H)].describe()"
      ],
      "execution_count": null,
      "outputs": []
    },
    {
      "cell_type": "code",
      "metadata": {
        "id": "Vu1fNhix5GJE"
      },
      "source": [
        "print(len(I))"
      ],
      "execution_count": null,
      "outputs": []
    },
    {
      "cell_type": "code",
      "metadata": {
        "id": "oPAUYAPp5NGX"
      },
      "source": [
        "analysis[analysis.TID.isin(I)].describe()"
      ],
      "execution_count": null,
      "outputs": []
    },
    {
      "cell_type": "code",
      "metadata": {
        "id": "e2dlodjO5Ndq"
      },
      "source": [
        "print(len(J))"
      ],
      "execution_count": null,
      "outputs": []
    },
    {
      "cell_type": "code",
      "metadata": {
        "id": "DmoRNHqF5N0r"
      },
      "source": [
        "analysis[analysis.TID.isin(J)].describe()"
      ],
      "execution_count": null,
      "outputs": []
    },
    {
      "cell_type": "code",
      "metadata": {
        "id": "c7exy9LP5ONO"
      },
      "source": [
        "print(len(K))"
      ],
      "execution_count": null,
      "outputs": []
    },
    {
      "cell_type": "code",
      "metadata": {
        "id": "bxOdzKt95Ojb"
      },
      "source": [
        "analysis[analysis.TID.isin(K)].describe()"
      ],
      "execution_count": null,
      "outputs": []
    },
    {
      "cell_type": "code",
      "metadata": {
        "id": "8EUjLhFu5VSv"
      },
      "source": [
        "print(len(L))"
      ],
      "execution_count": null,
      "outputs": []
    },
    {
      "cell_type": "code",
      "metadata": {
        "id": "BXxrufd15Vr9"
      },
      "source": [
        "analysis[analysis.TID.isin(L)].describe()"
      ],
      "execution_count": null,
      "outputs": []
    },
    {
      "cell_type": "code",
      "metadata": {
        "id": "6w6FSluU5WGV"
      },
      "source": [
        "print(len(M))"
      ],
      "execution_count": null,
      "outputs": []
    },
    {
      "cell_type": "code",
      "metadata": {
        "id": "Bvac0cCw5Weq"
      },
      "source": [
        "analysis[analysis.TID.isin(M)].describe()"
      ],
      "execution_count": null,
      "outputs": []
    },
    {
      "cell_type": "code",
      "metadata": {
        "id": "sTbof5FF5hI_"
      },
      "source": [
        "print(len(N))"
      ],
      "execution_count": null,
      "outputs": []
    },
    {
      "cell_type": "code",
      "metadata": {
        "id": "6xkNqRV25hki"
      },
      "source": [
        "analysis[analysis.TID.isin(N)].describe()"
      ],
      "execution_count": null,
      "outputs": []
    },
    {
      "cell_type": "code",
      "metadata": {
        "id": "0pUN6zZ77Ybe"
      },
      "source": [
        "analysis[analysis.TID.isin(J.union(K.union(L.union(M))))].describe()"
      ],
      "execution_count": null,
      "outputs": []
    },
    {
      "cell_type": "code",
      "metadata": {
        "id": "ulSn5qDr7Y4S"
      },
      "source": [
        "analysis[analysis.TID.isin(F.union(G.union(H.union(I))))].describe()"
      ],
      "execution_count": null,
      "outputs": []
    },
    {
      "cell_type": "code",
      "metadata": {
        "id": "kcQsMigF7ZUE"
      },
      "source": [
        "analysis[analysis.TID.isin(B.union(C.union(D.union(E))))].describe()"
      ],
      "execution_count": null,
      "outputs": []
    },
    {
      "cell_type": "code",
      "metadata": {
        "id": "oLa48Pqo5PHW"
      },
      "source": [
        "analysis[analysis.TID.isin(A)].describe()"
      ],
      "execution_count": null,
      "outputs": []
    },
    {
      "cell_type": "code",
      "metadata": {
        "id": "ZyyJRak4Fn9z"
      },
      "source": [
        "analysis[analysis.TID.isin(U0)].describe()"
      ],
      "execution_count": null,
      "outputs": []
    },
    {
      "cell_type": "code",
      "metadata": {
        "id": "nRgLtI2V0drY"
      },
      "source": [
        ""
      ],
      "execution_count": null,
      "outputs": []
    },
    {
      "cell_type": "code",
      "metadata": {
        "id": "izp_UQjC0e0Q"
      },
      "source": [
        ""
      ],
      "execution_count": null,
      "outputs": []
    },
    {
      "cell_type": "code",
      "metadata": {
        "id": "3HYCdFZ70faF"
      },
      "source": [
        "len(U0.intersection(A))"
      ],
      "execution_count": null,
      "outputs": []
    },
    {
      "cell_type": "code",
      "metadata": {
        "id": "txY7e_cfep2_"
      },
      "source": [
        "len(A)"
      ],
      "execution_count": null,
      "outputs": []
    },
    {
      "cell_type": "code",
      "metadata": {
        "id": "aNgbloEJeqUL"
      },
      "source": [
        "len(B.union(C.union(D.union(E))))"
      ],
      "execution_count": null,
      "outputs": []
    },
    {
      "cell_type": "code",
      "metadata": {
        "id": "CEr5yUQlequN"
      },
      "source": [
        "len(F.union(G.union(H.union(I))))"
      ],
      "execution_count": null,
      "outputs": []
    },
    {
      "cell_type": "code",
      "metadata": {
        "id": "Ivt7tJlherWW"
      },
      "source": [
        "len(J.union(K.union(L.union(M))))"
      ],
      "execution_count": null,
      "outputs": []
    },
    {
      "cell_type": "code",
      "metadata": {
        "id": "Yg9iU3pZ2p17"
      },
      "source": [
        "len(N)"
      ],
      "execution_count": null,
      "outputs": []
    },
    {
      "cell_type": "code",
      "metadata": {
        "id": "g2P-hlvz2zH7"
      },
      "source": [
        ""
      ],
      "execution_count": null,
      "outputs": []
    },
    {
      "cell_type": "code",
      "metadata": {
        "id": "KOhyDqxA2zhV"
      },
      "source": [
        ""
      ],
      "execution_count": null,
      "outputs": []
    },
    {
      "cell_type": "code",
      "metadata": {
        "id": "uc8Ro30_jG_N"
      },
      "source": [
        "#IRC Data for Reference\n",
        "irc_model = pd.read_csv('/content/drive/MyDrive/inference.irc.test.1.out',header=None)\n",
        "irc_gold = pd.read_csv('/content/drive/MyDrive/irc_gold.out',header=None)"
      ],
      "execution_count": null,
      "outputs": []
    },
    {
      "cell_type": "code",
      "metadata": {
        "id": "KW7AggRSO3s0"
      },
      "source": [
        "irc_model"
      ],
      "execution_count": null,
      "outputs": []
    },
    {
      "cell_type": "code",
      "metadata": {
        "id": "xpDLYGu0QHng"
      },
      "source": [
        "irc_gold"
      ],
      "execution_count": null,
      "outputs": []
    },
    {
      "cell_type": "code",
      "metadata": {
        "id": "EFUvxQQ7QJsL"
      },
      "source": [
        "threadID_list = []\n",
        "parent_list = []\n",
        "child_list = []\n",
        "for i in list(irc_model[0]):\n",
        "  if i[0]=='#':\n",
        "    continue\n",
        "  else:\n",
        "    path = i.split(':')\n",
        "    thread = path[0].split('/')\n",
        "    threadID = thread[3].split('_')[0]\n",
        "    anno = path[1].split(' ')\n",
        "    parent = anno[1]\n",
        "    child = anno[0]\n",
        "    threadID_list.append(str(threadID))\n",
        "    parent_list.append(int(parent))\n",
        "    child_list.append(int(child))\n",
        "irc = pd.DataFrame()\n",
        "irc['ThreadID'] = threadID_list\n",
        "irc['P'] = parent_list\n",
        "irc['C'] = child_list\n",
        "irc = irc[irc['P']!=irc['C']]\n",
        "irc = irc.sort_values(['ThreadID','P','C'])\n",
        "irc = irc.reset_index(drop=True)"
      ],
      "execution_count": null,
      "outputs": []
    },
    {
      "cell_type": "code",
      "metadata": {
        "id": "NBhOe9HuR-uY"
      },
      "source": [
        "irc = irc[irc['C']>999]"
      ],
      "execution_count": null,
      "outputs": []
    },
    {
      "cell_type": "code",
      "metadata": {
        "id": "9-F7rN0uW86s"
      },
      "source": [
        "irc"
      ],
      "execution_count": null,
      "outputs": []
    },
    {
      "cell_type": "code",
      "metadata": {
        "id": "Z_HTAY9USE--"
      },
      "source": [
        "irc_threads = sorted(set(irc['ThreadID']))"
      ],
      "execution_count": null,
      "outputs": []
    },
    {
      "cell_type": "code",
      "metadata": {
        "id": "FNR1Wuq5SNel"
      },
      "source": [
        "irc_threads"
      ],
      "execution_count": null,
      "outputs": []
    },
    {
      "cell_type": "code",
      "metadata": {
        "id": "wMJHAMnnSTVG"
      },
      "source": [
        "def get_irc_set_of_sets(s1,name):\n",
        "  #Given a prediction, get a set of subthreads for each thread\n",
        "  set_set_list = []\n",
        "  for i in irc_threads:\n",
        "    temp = s1[s1['ThreadID']==str(i)]\n",
        "    p = list(temp['P'])\n",
        "    c = list(temp['C'])\n",
        "    edges = []\n",
        "    for j in range(len(p)):\n",
        "      edges.append((int(p[j]),int(c[j])))\n",
        "    all_nodes = list(set(p).union(set(c)))\n",
        "    G = nx.DiGraph()\n",
        "    G.add_nodes_from(all_nodes)\n",
        "    G.add_edges_from(edges)\n",
        "    chaini = chain.from_iterable\n",
        "    roots = (n for n,d in G.in_degree() if d==0)\n",
        "    leaves = (n for n,d in G.out_degree() if d==0)\n",
        "    all_paths = partial(nx.all_simple_paths, G)\n",
        "    ans = chaini(starmap(all_paths, product(roots, leaves)))\n",
        "    set_ans = {}\n",
        "    k = 0\n",
        "    for i in ans:\n",
        "      set_ans[name+str(k)] = set(i)\n",
        "      k = k + 1\n",
        "    set_set_list.append(set_ans)\n",
        "  return set_set_list"
      ],
      "execution_count": null,
      "outputs": []
    },
    {
      "cell_type": "code",
      "metadata": {
        "id": "ma6ggZcYT_6-"
      },
      "source": [
        "irc_pr = get_irc_set_of_sets(irc,'IP')"
      ],
      "execution_count": null,
      "outputs": []
    },
    {
      "cell_type": "code",
      "metadata": {
        "id": "2aEFUpGFUIrr"
      },
      "source": [
        "irc_gold"
      ],
      "execution_count": null,
      "outputs": []
    },
    {
      "cell_type": "code",
      "metadata": {
        "id": "4rGX4dHwYzkw"
      },
      "source": [
        "irc_gold_threads = ['2005-07-06'] *  506 + ['2007-01-11'] * 520 + ['2007-12-01'] * 516 +['2008-07-14'] * 528 + ['2010-08-17'] * 522 + ['2013-09-01'] * 532 + ['2014-06-18'] * 517 + ['2015-03-18'] * 517 + ['2016-02-22'] * 518 + ['2016-06-08'] * 511"
      ],
      "execution_count": null,
      "outputs": []
    },
    {
      "cell_type": "code",
      "metadata": {
        "id": "U19yH7JlYKxv"
      },
      "source": [
        "irc_gold['Threads'] = irc_gold_threads"
      ],
      "execution_count": null,
      "outputs": []
    },
    {
      "cell_type": "code",
      "metadata": {
        "id": "apKcbRJlZvXN"
      },
      "source": [
        "irc_gold_th = irc_gold['Threads'] + [':']*len(irc_gold[0]) + irc_gold[0]"
      ],
      "execution_count": null,
      "outputs": []
    },
    {
      "cell_type": "code",
      "metadata": {
        "id": "b0QPXA-3Zwdy"
      },
      "source": [
        "irc_gold = pd.DataFrame()\n",
        "irc_gold[0]=irc_gold_th"
      ],
      "execution_count": null,
      "outputs": []
    },
    {
      "cell_type": "code",
      "metadata": {
        "id": "i5OaAmVWZ8tX"
      },
      "source": [
        "irc_gold"
      ],
      "execution_count": null,
      "outputs": []
    },
    {
      "cell_type": "code",
      "metadata": {
        "id": "CUEga9svaclP"
      },
      "source": [
        "threadID_list = []\n",
        "parent_list = []\n",
        "child_list = []\n",
        "for i in list(irc_gold[0]):\n",
        "  if i[0]=='#':\n",
        "    continue\n",
        "  else:\n",
        "    path = i.split(':')\n",
        "    threadID = path[0]\n",
        "    anno = path[1].split(' ')\n",
        "    parent = anno[0]\n",
        "    child = anno[1]\n",
        "    threadID_list.append(str(threadID))\n",
        "    parent_list.append(int(parent))\n",
        "    child_list.append(int(child))\n",
        "ircg = pd.DataFrame()\n",
        "ircg['ThreadID'] = threadID_list\n",
        "ircg['P'] = parent_list\n",
        "ircg['C'] = child_list\n",
        "ircg = ircg[ircg['P']!=ircg['C']]\n",
        "ircg = ircg.sort_values(['ThreadID','P','C'])\n",
        "ircg = ircg.reset_index(drop=True)"
      ],
      "execution_count": null,
      "outputs": []
    },
    {
      "cell_type": "code",
      "metadata": {
        "id": "_CaIZ7VOa-XB"
      },
      "source": [
        "ircg"
      ],
      "execution_count": null,
      "outputs": []
    },
    {
      "cell_type": "code",
      "metadata": {
        "id": "3w1bFAa0bAMu"
      },
      "source": [
        "#irc_gt = get_irc_set_of_sets(ircg,'IG')"
      ],
      "execution_count": null,
      "outputs": []
    },
    {
      "cell_type": "code",
      "metadata": {
        "id": "7t8qd2lHbNX1"
      },
      "source": [
        "#irc_metrics = get_metrics(irc_gt,irc_pr)"
      ],
      "execution_count": null,
      "outputs": []
    },
    {
      "cell_type": "code",
      "metadata": {
        "id": "ofvRHRxRbngO"
      },
      "source": [
        "#irc_metrics.describe()"
      ],
      "execution_count": null,
      "outputs": []
    },
    {
      "cell_type": "code",
      "metadata": {
        "id": "jB_C_iemdNcm"
      },
      "source": [
        "thread20_id = []\n",
        "for i in range(max(list(df['ThreadID']))+1):\n",
        "  temp = df[df['ThreadID']==i]\n",
        "  if len(temp['PostID']) == 20:\n",
        "    thread20_id.append(i)"
      ],
      "execution_count": null,
      "outputs": []
    },
    {
      "cell_type": "code",
      "metadata": {
        "id": "S44l8rao1_ul"
      },
      "source": [
        "thread20_id"
      ],
      "execution_count": null,
      "outputs": []
    },
    {
      "cell_type": "code",
      "metadata": {
        "id": "uNUgpwEGudj9"
      },
      "source": [
        "df[df['ThreadID']==173]"
      ],
      "execution_count": null,
      "outputs": []
    },
    {
      "cell_type": "code",
      "metadata": {
        "id": "SOOnRay8-RLm"
      },
      "source": [
        "preds7[preds7['ThreadID']==828]"
      ],
      "execution_count": null,
      "outputs": []
    },
    {
      "cell_type": "code",
      "metadata": {
        "id": "kAIWg8Aa43tw"
      },
      "source": [
        "preds3[preds3['ThreadID']==828]"
      ],
      "execution_count": null,
      "outputs": []
    },
    {
      "cell_type": "code",
      "metadata": {
        "id": "a3eWDxY5GSjQ"
      },
      "source": [
        "preds[preds['ThreadID']==828]"
      ],
      "execution_count": null,
      "outputs": []
    },
    {
      "cell_type": "code",
      "metadata": {
        "id": "RXXlAtUAHW24"
      },
      "source": [
        "gold[gold['ThreadID']==828]"
      ],
      "execution_count": null,
      "outputs": []
    },
    {
      "cell_type": "code",
      "metadata": {
        "id": "9sJR9ZNtIm6v"
      },
      "source": [
        "for i,j in enumerate(list(df[df['ThreadID']==828]['Post'])):\n",
        "  print(i,j)"
      ],
      "execution_count": null,
      "outputs": []
    },
    {
      "cell_type": "code",
      "metadata": {
        "id": "m7XsXhrjPxZm"
      },
      "source": [
        "for i,j in enumerate(list(df[df['ThreadID']==828]['Author'])):\n",
        "  print(i,j)"
      ],
      "execution_count": null,
      "outputs": []
    },
    {
      "cell_type": "code",
      "metadata": {
        "id": "swQR_X0MRSoN"
      },
      "source": [
        "df[df['ThreadID']==173]"
      ],
      "execution_count": null,
      "outputs": []
    },
    {
      "cell_type": "code",
      "metadata": {
        "id": "yVhVfjyC9kyV"
      },
      "source": [
        ""
      ],
      "execution_count": null,
      "outputs": []
    }
  ]
}