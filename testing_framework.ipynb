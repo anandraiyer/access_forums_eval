{
  "nbformat": 4,
  "nbformat_minor": 0,
  "metadata": {
    "colab": {
      "name": "testing_framework.ipynb",
      "provenance": [],
      "collapsed_sections": [],
      "mount_file_id": "1eTQQMou4g88EYXZePTS4YqKeF4qY0J1K",
      "authorship_tag": "ABX9TyNkxmo0yHYno3F+U6jvKGsY",
      "include_colab_link": true
    },
    "kernelspec": {
      "name": "python3",
      "display_name": "Python 3"
    },
    "language_info": {
      "name": "python"
    }
  },
  "cells": [
    {
      "cell_type": "markdown",
      "metadata": {
        "id": "view-in-github",
        "colab_type": "text"
      },
      "source": [
        "<a href=\"https://colab.research.google.com/github/anandraiyer/access_forums_eval/blob/main/testing_framework.ipynb\" target=\"_parent\"><img src=\"https://colab.research.google.com/assets/colab-badge.svg\" alt=\"Open In Colab\"/></a>"
      ]
    },
    {
      "cell_type": "code",
      "metadata": {
        "id": "4KSgOPNxnoZl"
      },
      "source": [
        "import pandas as pd\n",
        "import numpy as np\n",
        "import math\n",
        "from itertools import combinations"
      ],
      "execution_count": 1,
      "outputs": []
    },
    {
      "cell_type": "code",
      "metadata": {
        "id": "oiKlFa2un4X6"
      },
      "source": [
        "data = pd.read_csv('/content/drive/MyDrive/final.csv')"
      ],
      "execution_count": 2,
      "outputs": []
    },
    {
      "cell_type": "code",
      "metadata": {
        "colab": {
          "base_uri": "https://localhost:8080/"
        },
        "id": "87O6SXfhoAEn",
        "outputId": "08f62f62-8848-44ae-a8b4-3e61d8b7509c"
      },
      "source": [
        "data.columns"
      ],
      "execution_count": 3,
      "outputs": [
        {
          "output_type": "execute_result",
          "data": {
            "text/plain": [
              "Index(['Thread', 'DateTime', 'Author', 'Post', 'ParentPosts', 'PostID',\n",
              "       'ThreadID', 'AuthorID', 'OriginID', 'DialogAct', 'ParentID_List'],\n",
              "      dtype='object')"
            ]
          },
          "metadata": {},
          "execution_count": 3
        }
      ]
    },
    {
      "cell_type": "code",
      "metadata": {
        "id": "N_s_nT-VoBuQ"
      },
      "source": [
        "df = data[['Thread','ThreadID','PostID','DateTime','Author','Post','ParentID_List']]"
      ],
      "execution_count": 4,
      "outputs": []
    },
    {
      "cell_type": "code",
      "metadata": {
        "colab": {
          "base_uri": "https://localhost:8080/",
          "height": 204
        },
        "id": "z_op2WSkoaUf",
        "outputId": "24a76f78-e229-46c8-bf16-288058c5a51e"
      },
      "source": [
        "df.head()"
      ],
      "execution_count": 5,
      "outputs": [
        {
          "output_type": "execute_result",
          "data": {
            "text/html": [
              "<div>\n",
              "<style scoped>\n",
              "    .dataframe tbody tr th:only-of-type {\n",
              "        vertical-align: middle;\n",
              "    }\n",
              "\n",
              "    .dataframe tbody tr th {\n",
              "        vertical-align: top;\n",
              "    }\n",
              "\n",
              "    .dataframe thead th {\n",
              "        text-align: right;\n",
              "    }\n",
              "</style>\n",
              "<table border=\"1\" class=\"dataframe\">\n",
              "  <thead>\n",
              "    <tr style=\"text-align: right;\">\n",
              "      <th></th>\n",
              "      <th>Thread</th>\n",
              "      <th>ThreadID</th>\n",
              "      <th>PostID</th>\n",
              "      <th>DateTime</th>\n",
              "      <th>Author</th>\n",
              "      <th>Post</th>\n",
              "      <th>ParentID_List</th>\n",
              "    </tr>\n",
              "  </thead>\n",
              "  <tbody>\n",
              "    <tr>\n",
              "      <th>0</th>\n",
              "      <td>Testing the new Site!</td>\n",
              "      <td>1</td>\n",
              "      <td>0</td>\n",
              "      <td>2015-11-30 11:59:19.544597</td>\n",
              "      <td>Tim Ford</td>\n",
              "      <td>Thank you very much for all those who worked o...</td>\n",
              "      <td>-1</td>\n",
              "    </tr>\n",
              "    <tr>\n",
              "      <th>1</th>\n",
              "      <td>Netflix not accessible to blind people using a...</td>\n",
              "      <td>2</td>\n",
              "      <td>1</td>\n",
              "      <td>2015-11-30 12:05:11.019288</td>\n",
              "      <td>Tim Ford</td>\n",
              "      <td>Hi All,  For those out there who want to use N...</td>\n",
              "      <td>-1</td>\n",
              "    </tr>\n",
              "    <tr>\n",
              "      <th>2</th>\n",
              "      <td>Testing the new Site!</td>\n",
              "      <td>1</td>\n",
              "      <td>2</td>\n",
              "      <td>2015-11-30 12:06:01.976409</td>\n",
              "      <td>Walker, Michael E</td>\n",
              "      <td>Hi Tim, the group is working fine. I got your ...</td>\n",
              "      <td>[0]</td>\n",
              "    </tr>\n",
              "    <tr>\n",
              "      <th>3</th>\n",
              "      <td>Testing the new Site!</td>\n",
              "      <td>1</td>\n",
              "      <td>3</td>\n",
              "      <td>2015-11-30 12:12:07.800324</td>\n",
              "      <td>ken lawrence</td>\n",
              "      <td>Should the JDH mail be deleted?</td>\n",
              "      <td>[0]</td>\n",
              "    </tr>\n",
              "    <tr>\n",
              "      <th>4</th>\n",
              "      <td>Netflix not accessible to blind people using a...</td>\n",
              "      <td>2</td>\n",
              "      <td>4</td>\n",
              "      <td>2015-11-30 12:14:27.873186</td>\n",
              "      <td>Greg Nickel</td>\n",
              "      <td>Will do…</td>\n",
              "      <td>[1]</td>\n",
              "    </tr>\n",
              "  </tbody>\n",
              "</table>\n",
              "</div>"
            ],
            "text/plain": [
              "                                              Thread  ...  ParentID_List\n",
              "0                              Testing the new Site!  ...             -1\n",
              "1  Netflix not accessible to blind people using a...  ...             -1\n",
              "2                              Testing the new Site!  ...            [0]\n",
              "3                              Testing the new Site!  ...            [0]\n",
              "4  Netflix not accessible to blind people using a...  ...            [1]\n",
              "\n",
              "[5 rows x 7 columns]"
            ]
          },
          "metadata": {},
          "execution_count": 5
        }
      ]
    },
    {
      "cell_type": "code",
      "metadata": {
        "id": "TjqY8pDKyCZJ"
      },
      "source": [
        "from itertools import chain\n",
        "from itertools import product\n",
        "from itertools import starmap\n",
        "from functools import partial\n",
        "import networkx as nx"
      ],
      "execution_count": 6,
      "outputs": []
    },
    {
      "cell_type": "code",
      "metadata": {
        "id": "VvU4f4YwG61-"
      },
      "source": [
        "def get_conversation_dag(tid):\n",
        "  temp = df[df['ThreadID']==tid]\n",
        "\n",
        "  threads = list(temp['Thread'])\n",
        "  postids = list(temp['PostID'])\n",
        "  posts = list(temp['Post'])\n",
        "  datetimes = list(temp['DateTime'])\n",
        "  authors = list(temp['Author'])\n",
        "  parentids = list(temp['ParentID_List'])\n",
        "\n",
        "  G = nx.DiGraph()\n",
        "  G.add_nodes_from(posts)\n",
        "\n",
        "  edges = []\n",
        "  for i in range(len(postids)):\n",
        "    parent = parentids[i]\n",
        "    child = postids[i]\n",
        "\n",
        "    if parent == \"-1\":\n",
        "      continue\n",
        "    else:\n",
        "      if parent == \"[]\":\n",
        "        if i > 1:\n",
        "          parent = \"[\"+str(postids[i-1])+\"]\"\n",
        "        else:\n",
        "          parent = \"[\"+str(postids[0])+\"]\"\n",
        "      parent = int(parent[1:-1])\n",
        "    edges.append((parent,child))\n",
        "  G.add_edges_from(edges)\n",
        "  return G"
      ],
      "execution_count": 7,
      "outputs": []
    },
    {
      "cell_type": "code",
      "metadata": {
        "id": "Q78OSDuQpAB4"
      },
      "source": [
        "def get_subthreads(tid):\n",
        "  temp = df[df['ThreadID']==tid]\n",
        "\n",
        "  threads = list(temp['Thread'])\n",
        "  postids = list(temp['PostID'])\n",
        "  if len(postids)<2:\n",
        "    return (postids)\n",
        "  posts = list(temp['Post'])\n",
        "  datetimes = list(temp['DateTime'])\n",
        "  authors = list(temp['Author'])\n",
        "  parentids = list(temp['ParentID_List'])\n",
        "\n",
        "  G = nx.DiGraph()\n",
        "  G.add_nodes_from(posts)\n",
        "\n",
        "  edges = []\n",
        "  for i in range(len(postids)):\n",
        "    parent = parentids[i]\n",
        "    child = postids[i]\n",
        "\n",
        "    if parent == \"-1\":\n",
        "      continue  \n",
        "    else:\n",
        "      if parent == \"[]\":\n",
        "        if i > 1:\n",
        "          parent = \"[\"+str(postids[i-1])+\"]\"\n",
        "        else:\n",
        "          parent = \"[\"+str(postids[0])+\"]\"\n",
        "      parent = int(parent[1:-1])\n",
        "    edges.append((parent,child))\n",
        "  G.add_edges_from(edges)\n",
        "  chaini = chain.from_iterable\n",
        "  roots = (n for n,d in G.in_degree() if d==0)\n",
        "  leaves = (n for n,d in G.out_degree() if d==0)\n",
        "  all_paths = partial(nx.all_simple_paths, G)\n",
        "  ans = list(chaini(starmap(all_paths, product(roots, leaves))))\n",
        "  return(ans)"
      ],
      "execution_count": 8,
      "outputs": []
    },
    {
      "cell_type": "code",
      "metadata": {
        "id": "hcoRgdChyewT"
      },
      "source": [
        "def get_list_subthreads(cluster_name,threadID):\n",
        "  conversations = []\n",
        "  for i, val in enumerate(get_subthreads(threadID)):\n",
        "    conversations.append(cluster_name+str(i)+\":\"+str(val)[1:-1].replace(',',''))\n",
        "  return conversations"
      ],
      "execution_count": 9,
      "outputs": []
    },
    {
      "cell_type": "code",
      "metadata": {
        "colab": {
          "base_uri": "https://localhost:8080/"
        },
        "id": "W7auWny7jHMk",
        "outputId": "efe9905f-2316-4146-d2bf-ecc9bb3b4acd"
      },
      "source": [
        "get_list_subthreads('C',4445)"
      ],
      "execution_count": 10,
      "outputs": [
        {
          "output_type": "execute_result",
          "data": {
            "text/plain": [
              "['C0:21680 21681', 'C1:21680 21682', 'C2:21680 21683']"
            ]
          },
          "metadata": {},
          "execution_count": 10
        }
      ]
    },
    {
      "cell_type": "code",
      "metadata": {
        "id": "qyTMWsK0DFV8"
      },
      "source": [
        "def read_clusters(filename):\n",
        "    # Read provided data\n",
        "    clusters = {}\n",
        "    cfile = \"\"\n",
        "    all_points = set()\n",
        "    for line in filename:\n",
        "        if ':' in line:\n",
        "            cfile = ':'.join(line.split(':')[:-1]).split('/')[-1]\n",
        "            line = line.split(\":\")[-1]\n",
        "        cluster = {int(v) for v in line.split()}\n",
        "        clusters.setdefault(cfile, []).append(cluster)\n",
        "        for v in cluster:\n",
        "            all_points.add(\"{}:{}\".format(cfile, v))\n",
        "    return clusters, all_points"
      ],
      "execution_count": 11,
      "outputs": []
    },
    {
      "cell_type": "code",
      "metadata": {
        "id": "SPldSHLuFzmM"
      },
      "source": [
        "def create_contingency_table(gold, auto):\n",
        "  table = []\n",
        "  names_gold = []\n",
        "  names_auto = []\n",
        "  for i, _ in gold.items():\n",
        "    names_gold.append(i)\n",
        "  for i, _ in auto.items():\n",
        "    names_auto.append(i)\n",
        "  for i, v1 in gold.items():\n",
        "    table_row = []\n",
        "    for j, v2 in auto.items():\n",
        "      table_row.append(len(v1.intersection(v2)))\n",
        "    table.append(table_row)\n",
        "  table = np.array(table)\n",
        "  sum_rows = np.sum(table, axis = 1)\n",
        "  sum_cols = np.sum(table, axis = 0)\n",
        "  return table, sum_rows, sum_cols, names_gold, names_auto"
      ],
      "execution_count": 12,
      "outputs": []
    },
    {
      "cell_type": "code",
      "metadata": {
        "id": "fr2ZshqoFr_j"
      },
      "source": [
        "def get_n(gold):\n",
        "  u = set([])\n",
        "  for _,v in gold.items():\n",
        "    u = u.union(set(v))\n",
        "  return(len(u))"
      ],
      "execution_count": 13,
      "outputs": []
    },
    {
      "cell_type": "code",
      "metadata": {
        "id": "_A8nRpNZMuxF"
      },
      "source": [
        "def get_length_clustering(s):\n",
        "  list_len = []\n",
        "  for _,v in s.items():\n",
        "    list_len.append(len(v))\n",
        "  return(list_len)"
      ],
      "execution_count": 14,
      "outputs": []
    },
    {
      "cell_type": "code",
      "metadata": {
        "id": "IRiDqXHAl1Q9"
      },
      "source": [
        "def get_points(gold):\n",
        "  u = set([])\n",
        "  for _,v in gold.items():\n",
        "    u = u.union(set(v))\n",
        "  return(u)"
      ],
      "execution_count": 15,
      "outputs": []
    },
    {
      "cell_type": "code",
      "metadata": {
        "id": "AvdiSdDeF0DH"
      },
      "source": [
        "def get_vi(s1,s2):\n",
        "  c,c_rows,c_cols,g_name, a_name = create_contingency_table(s1,s2)\n",
        "  #print(c)\n",
        "  N = get_n(s1)\n",
        "  \n",
        "  H_uv = 0.0\n",
        "  I_uv = 0.0\n",
        "\n",
        "  X = get_length_clustering(s1)\n",
        "  Y = get_length_clustering(s2)\n",
        "  total = N\n",
        "  for i in range(len(c_rows)):\n",
        "    for j in range(len(c_cols)):\n",
        "      if c[i][j] != 0:\n",
        "        num = c[i][j]\n",
        "        A = c[i][j] / X[i]\n",
        "        B = c[i][j] / Y[j]\n",
        "        H_uv = H_uv - ((num / total) * math.log(num / total, 2.0))\n",
        "        I_uv = I_uv + ((num / total) * math.log((num * total) / (X[i] * Y[j]), 2.0))\n",
        "      else:\n",
        "        continue\n",
        "  max_score = math.log(total, 2.0)\n",
        "  VI = H_uv - I_uv\n",
        "  return(VI)  \n",
        "  #scaled_VI = VI / max_score\n",
        "  #print(sum_vi,math.log(total,2),scaled_vi,1-scaled_vi)\n",
        "  #return round((1 - scaled_VI),3)"
      ],
      "execution_count": 16,
      "outputs": []
    },
    {
      "cell_type": "code",
      "metadata": {
        "id": "ekGlj84Kruve"
      },
      "source": [
        "def get_one_to_one(s1,s2):\n",
        "  contingency,rows_sums,col_sums,gold_name,auto_name = create_contingency_table(s1,s2)\n",
        "  X = get_length_clustering(s1)\n",
        "  Y = get_length_clustering(s2)\n",
        "  N = get_n(s1)\n",
        "  B = nx.Graph()\n",
        "  left_nodes = []\n",
        "  for i in gold_name:\n",
        "    left_nodes.append('Left_'+str(i))\n",
        "  right_nodes = []\n",
        "  for i in auto_name:\n",
        "    right_nodes.append('Right_'+str(i))\n",
        "  B.add_nodes_from(left_nodes, bipartite=0)\n",
        "  B.add_nodes_from(right_nodes, bipartite=1)\n",
        "\n",
        "  for i in range(len(X)):\n",
        "    for j in range(len(Y)):\n",
        "      B.add_edge(left_nodes[i], right_nodes[j], weight = contingency[i][j])\n",
        "  \n",
        "  matches = nx.algorithms.matching.max_weight_matching(B)\n",
        "  one_one_ratio = 0.0\n",
        "  for u,v in matches:\n",
        "    one_one_ratio = one_one_ratio + (100.0 * B.get_edge_data(u,v)['weight']/N)\n",
        "  return(round(one_one_ratio,3))"
      ],
      "execution_count": 17,
      "outputs": []
    },
    {
      "cell_type": "code",
      "metadata": {
        "id": "BC8_1d4a-M6K"
      },
      "source": [
        "def get_omega_score(s1,s2):\n",
        "  n = get_n(s1)\n",
        "  N = n*(n-1.0)/2.0\n",
        "  all_points = get_points(s1)\n",
        "  all_pairs = combinations(all_points,2)\n",
        "  s1_count = {}\n",
        "  s2_count = {}\n",
        "  for i,j in all_pairs:\n",
        "    for m,n in s1.items():\n",
        "      if i in n and j in n:\n",
        "        if (i,j) in s1_count:\n",
        "          s1_count[(i,j)] = s1_count.get((i,j)) + 1\n",
        "        else:\n",
        "          s1_count[(i,j)] = 1\n",
        "      else:\n",
        "        if (i,j) in s1_count:\n",
        "          s1_count[(i,j)] = s1_count.get((i,j)) + 0\n",
        "        else:\n",
        "          s1_count[(i,j)] = 0\n",
        "    for m,n in s2.items():\n",
        "      if i in n and j in n:\n",
        "        if (i,j) in s2_count:\n",
        "          s2_count[(i,j)] = s2_count.get((i,j)) + 1\n",
        "        else:\n",
        "          s2_count[(i,j)] = 1\n",
        "      else:\n",
        "        if (i,j) in s2_count:\n",
        "          s2_count[(i,j)] = s2_count.get((i,j)) + 0\n",
        "        else:\n",
        "          s2_count[(i,j)] = 0\n",
        "  \n",
        "  count_s1_rev = {}\n",
        "  count_s2_rev = {}\n",
        "  for (i,j),k in s1_count.items():\n",
        "    if count_s1_rev.get((k),-1)!=-1:\n",
        "      count_s1_rev[k] = count_s1_rev.get(k).union(set([(i,j)]))\n",
        "    else:\n",
        "      count_s1_rev[k] = set([(i,j)])\n",
        "  for (i,j),k in s2_count.items():\n",
        "    if count_s2_rev.get((k),-1)!=-1:\n",
        "      count_s2_rev[k] = count_s2_rev.get(k).union(set([(i,j)]))\n",
        "    else:\n",
        "      count_s2_rev[k] = set([(i,j)])\n",
        "  \n",
        "  i_max = max(list(count_s1_rev.keys()))\n",
        "  j_max = max(list(count_s2_rev.keys()))\n",
        "  min_ij = min(i_max,j_max)\n",
        "\n",
        "  count_s1_s2_rev = {}\n",
        "  for i in range(0,min_ij+1):\n",
        "    inter = count_s1_rev.get(i,set([])).intersection(count_s2_rev.get(i,set([])))\n",
        "    count_s1_s2_rev[i] = inter\n",
        "\n",
        "  U_sum = 0.0\n",
        "  for i in range(0,min_ij+1):\n",
        "    U_sum = U_sum + len(count_s1_s2_rev.get(i,set([])))\n",
        "  U_sum = U_sum / N\n",
        "  E_sum = 0.0\n",
        "  for i in range(0,min_ij+1):\n",
        "    E_sum = E_sum + (len(count_s1_rev.get(i,set([])))*len(count_s2_rev.get(i,set([]))))\n",
        "  E_sum = E_sum / (N * N)\n",
        "  \n",
        "  omega = (U_sum - E_sum)/(1.0- E_sum)\n",
        "  return(round(omega,3))"
      ],
      "execution_count": 18,
      "outputs": []
    },
    {
      "cell_type": "code",
      "metadata": {
        "id": "XWVlG5JVJt8l"
      },
      "source": [
        "def create_shen_precision_table(s1, s2):\n",
        "  table = []\n",
        "\n",
        "  X = get_length_clustering(s1)\n",
        "  Y = get_length_clustering(s2)\n",
        "\n",
        "  a = 0\n",
        "  b = 0\n",
        "  for i, v1 in s1.items():\n",
        "    table_row = []\n",
        "    n_i = X[a]\n",
        "    b = 0\n",
        "    for j, v2 in s2.items():\n",
        "      n_j = Y[b]\n",
        "      if(n_j == 0):\n",
        "        table_row.append(0)\n",
        "      else:\n",
        "        table_row.append(len(v1.intersection(v2))/n_j)\n",
        "      b = b+1\n",
        "    table.append(table_row)\n",
        "    a=a+1\n",
        "  table = np.array(table)\n",
        "  \n",
        "  return table"
      ],
      "execution_count": 19,
      "outputs": []
    },
    {
      "cell_type": "code",
      "metadata": {
        "id": "Yxs9EdkRJuSm"
      },
      "source": [
        "def create_shen_recall_table(s1, s2):\n",
        "  table = []\n",
        "  \n",
        "  X = get_length_clustering(s1)\n",
        "  Y = get_length_clustering(s2)\n",
        "\n",
        "  a = 0\n",
        "  b = 0\n",
        "  for i, v1 in s1.items():\n",
        "    table_row = []\n",
        "    n_i = X[a]\n",
        "    b = 0\n",
        "    for j, v2 in s2.items():\n",
        "      n_j = Y[b]\n",
        "      if n_i == 0:\n",
        "        table_row.append(0)\n",
        "      else:\n",
        "        table_row.append(len(v1.intersection(v2))/n_i)\n",
        "      b = b+1\n",
        "    table.append(table_row)\n",
        "    a=a+1\n",
        "  table = np.array(table)\n",
        "  \n",
        "  return table"
      ],
      "execution_count": 20,
      "outputs": []
    },
    {
      "cell_type": "code",
      "metadata": {
        "id": "45xR_bhSJuc2"
      },
      "source": [
        "def create_shen_F_table(s1, s2):\n",
        "  prec_table = create_shen_precision_table(s1,s2)\n",
        "  recall_table = create_shen_recall_table(s1,s2)\n",
        " \n",
        "  X = get_length_clustering(s1)\n",
        "  Y = get_length_clustering(s2)\n",
        "\n",
        "  a = 0\n",
        "  b = 0\n",
        "  max_f = []\n",
        "  for i, v1 in s1.items():\n",
        "    table_row = []\n",
        "    n_i = X[a]\n",
        "    b = 0\n",
        "    for j, v2 in s2.items():\n",
        "      n_j = Y[b]\n",
        "      if(prec_table[a][b] + recall_table[a][b] > 0):\n",
        "        f = (2 * prec_table[a][b] * recall_table[a][b])/(prec_table[a][b] + recall_table[a][b])\n",
        "      else:\n",
        "        f = 0\n",
        "      table_row.append(f)\n",
        "      b = b+1\n",
        "    max_f.append(max(table_row))\n",
        "    a=a+1\n",
        "\n",
        "  return max_f"
      ],
      "execution_count": 21,
      "outputs": []
    },
    {
      "cell_type": "code",
      "metadata": {
        "id": "aJo_NhkX5Kgd"
      },
      "source": [
        "def get_shen_f1(s1,s2):\n",
        "  max_f_table = create_shen_F_table(s1,s2)\n",
        "  sum_f = 0.0\n",
        "  n = get_n(s1)\n",
        "  X = get_length_clustering(s1)\n",
        "\n",
        "  for i in range(len(max_f_table)):\n",
        "    sum_f = sum_f + ( (X[i]/n) * max_f_table[i])\n",
        "  return(round(sum_f,3))"
      ],
      "execution_count": 22,
      "outputs": []
    },
    {
      "cell_type": "code",
      "metadata": {
        "colab": {
          "base_uri": "https://localhost:8080/"
        },
        "id": "PJwN2C5V9Ms8",
        "outputId": "05493743-0c57-4098-ddcd-28b232023499"
      },
      "source": [
        "gold = {'C0':{1,2,3,4},'C1':{5,6}}\n",
        "auto = {'C0':{1,2,5,6},'C1':{3,4}}\n",
        "VI = get_vi(gold, auto)\n",
        "one_one = get_one_to_one(gold,auto)\n",
        "omega = get_omega_score(gold,auto)\n",
        "shen_f1 = get_shen_f1(gold,auto)\n",
        "\n",
        "print(VI, one_one, omega,shen_f1)"
      ],
      "execution_count": 23,
      "outputs": [
        {
          "output_type": "stream",
          "name": "stdout",
          "text": [
            "1.3333333333333333 66.667 -0.071 0.667\n"
          ]
        }
      ]
    },
    {
      "cell_type": "code",
      "metadata": {
        "id": "MsFtHM7u_t1v"
      },
      "source": [
        "model1_test = pd.read_csv('/content/drive/MyDrive/inference.forum.test.out', header=None) #2019 ACL Model by Kummerfeld et al. trained on IRC\n",
        "model2_test = pd.read_csv('/content/drive/MyDrive/inference.forum.test.1.out', header=None) #2019 ACL Model by Kummerfeld et al. trained on Forum"
      ],
      "execution_count": 24,
      "outputs": []
    },
    {
      "cell_type": "code",
      "metadata": {
        "id": "uxZFGh7mD64z"
      },
      "source": [
        "threadID_list = []\n",
        "parent_list = []\n",
        "child_list = []\n",
        "for i in list(model1_test[0]):\n",
        "  if i[0]=='#':\n",
        "    continue\n",
        "  else:\n",
        "    path = i.split(':')\n",
        "    thread = path[0].split('.')\n",
        "    threadID = thread[3]\n",
        "    anno = path[1].split(' ')\n",
        "    parent = anno[1]\n",
        "    child = anno[0]\n",
        "    threadID_list.append(threadID)\n",
        "    parent_list.append(parent)\n",
        "    child_list.append(child)"
      ],
      "execution_count": 25,
      "outputs": []
    },
    {
      "cell_type": "code",
      "metadata": {
        "id": "LYu4IjzKD9KI"
      },
      "source": [
        "preds = pd.DataFrame()\n",
        "preds['ThreadID'] = threadID_list\n",
        "preds['P'] = parent_list\n",
        "preds['C'] = child_list"
      ],
      "execution_count": 26,
      "outputs": []
    },
    {
      "cell_type": "code",
      "metadata": {
        "id": "cW2-ltEBaCG0"
      },
      "source": [
        "preds = preds[preds['P']!=preds['C']]\n",
        "preds = preds.sort_values(['ThreadID','P','C'])\n",
        "preds = preds.reset_index(drop=True)"
      ],
      "execution_count": 27,
      "outputs": []
    },
    {
      "cell_type": "code",
      "metadata": {
        "colab": {
          "base_uri": "https://localhost:8080/",
          "height": 419
        },
        "id": "atNTeCSNGVJ7",
        "outputId": "18af0e99-cc36-426a-df70-39d549cd4701"
      },
      "source": [
        "preds #predictions by model1 (Kummerfeld trained on IRC, inference prediction on our Forum test dataset) -> post id is relative for the thread"
      ],
      "execution_count": 28,
      "outputs": [
        {
          "output_type": "execute_result",
          "data": {
            "text/html": [
              "<div>\n",
              "<style scoped>\n",
              "    .dataframe tbody tr th:only-of-type {\n",
              "        vertical-align: middle;\n",
              "    }\n",
              "\n",
              "    .dataframe tbody tr th {\n",
              "        vertical-align: top;\n",
              "    }\n",
              "\n",
              "    .dataframe thead th {\n",
              "        text-align: right;\n",
              "    }\n",
              "</style>\n",
              "<table border=\"1\" class=\"dataframe\">\n",
              "  <thead>\n",
              "    <tr style=\"text-align: right;\">\n",
              "      <th></th>\n",
              "      <th>ThreadID</th>\n",
              "      <th>P</th>\n",
              "      <th>C</th>\n",
              "    </tr>\n",
              "  </thead>\n",
              "  <tbody>\n",
              "    <tr>\n",
              "      <th>0</th>\n",
              "      <td>100</td>\n",
              "      <td>10</td>\n",
              "      <td>11</td>\n",
              "    </tr>\n",
              "    <tr>\n",
              "      <th>1</th>\n",
              "      <td>100</td>\n",
              "      <td>14</td>\n",
              "      <td>18</td>\n",
              "    </tr>\n",
              "    <tr>\n",
              "      <th>2</th>\n",
              "      <td>100</td>\n",
              "      <td>15</td>\n",
              "      <td>16</td>\n",
              "    </tr>\n",
              "    <tr>\n",
              "      <th>3</th>\n",
              "      <td>100</td>\n",
              "      <td>2</td>\n",
              "      <td>9</td>\n",
              "    </tr>\n",
              "    <tr>\n",
              "      <th>4</th>\n",
              "      <td>100</td>\n",
              "      <td>7</td>\n",
              "      <td>10</td>\n",
              "    </tr>\n",
              "    <tr>\n",
              "      <th>...</th>\n",
              "      <td>...</td>\n",
              "      <td>...</td>\n",
              "      <td>...</td>\n",
              "    </tr>\n",
              "    <tr>\n",
              "      <th>10679</th>\n",
              "      <td>988</td>\n",
              "      <td>2</td>\n",
              "      <td>6</td>\n",
              "    </tr>\n",
              "    <tr>\n",
              "      <th>10680</th>\n",
              "      <td>988</td>\n",
              "      <td>9</td>\n",
              "      <td>11</td>\n",
              "    </tr>\n",
              "    <tr>\n",
              "      <th>10681</th>\n",
              "      <td>992</td>\n",
              "      <td>0</td>\n",
              "      <td>2</td>\n",
              "    </tr>\n",
              "    <tr>\n",
              "      <th>10682</th>\n",
              "      <td>992</td>\n",
              "      <td>2</td>\n",
              "      <td>3</td>\n",
              "    </tr>\n",
              "    <tr>\n",
              "      <th>10683</th>\n",
              "      <td>992</td>\n",
              "      <td>6</td>\n",
              "      <td>8</td>\n",
              "    </tr>\n",
              "  </tbody>\n",
              "</table>\n",
              "<p>10684 rows × 3 columns</p>\n",
              "</div>"
            ],
            "text/plain": [
              "      ThreadID   P   C\n",
              "0          100  10  11\n",
              "1          100  14  18\n",
              "2          100  15  16\n",
              "3          100   2   9\n",
              "4          100   7  10\n",
              "...        ...  ..  ..\n",
              "10679      988   2   6\n",
              "10680      988   9  11\n",
              "10681      992   0   2\n",
              "10682      992   2   3\n",
              "10683      992   6   8\n",
              "\n",
              "[10684 rows x 3 columns]"
            ]
          },
          "metadata": {},
          "execution_count": 28
        }
      ]
    },
    {
      "cell_type": "code",
      "metadata": {
        "colab": {
          "base_uri": "https://localhost:8080/",
          "height": 419
        },
        "id": "EZhVDaY_W6Yc",
        "outputId": "5d9606bc-b48a-4661-a130-ecffa24b4bee"
      },
      "source": [
        "threadID2_list = []\n",
        "parent2_list = []\n",
        "child2_list = []\n",
        "for i in list(model2_test[0]):\n",
        "  if i[0]=='#':\n",
        "    continue\n",
        "  else:\n",
        "    path = i.split(':')\n",
        "    thread = path[0].split('.')\n",
        "    threadID = thread[3]\n",
        "    anno = path[1].split(' ')\n",
        "    parent = anno[1]\n",
        "    child = anno[0]\n",
        "    threadID2_list.append(threadID)\n",
        "    parent2_list.append(parent)\n",
        "    child2_list.append(child)\n",
        "preds2 = pd.DataFrame()\n",
        "preds2['ThreadID'] = threadID2_list\n",
        "preds2['P'] = parent2_list\n",
        "preds2['C'] = child2_list\n",
        "preds2 = preds2[preds2['P']!=preds2['C']]\n",
        "preds2 = preds2.sort_values(['ThreadID','P','C'])\n",
        "preds2 = preds2.reset_index(drop=True)\n",
        "preds2 #predictions by model1 (Kummerfeld trained on Forum dataset, inference prediction on our Forum test dataset) -> post id is relative for the thread"
      ],
      "execution_count": 29,
      "outputs": [
        {
          "output_type": "execute_result",
          "data": {
            "text/html": [
              "<div>\n",
              "<style scoped>\n",
              "    .dataframe tbody tr th:only-of-type {\n",
              "        vertical-align: middle;\n",
              "    }\n",
              "\n",
              "    .dataframe tbody tr th {\n",
              "        vertical-align: top;\n",
              "    }\n",
              "\n",
              "    .dataframe thead th {\n",
              "        text-align: right;\n",
              "    }\n",
              "</style>\n",
              "<table border=\"1\" class=\"dataframe\">\n",
              "  <thead>\n",
              "    <tr style=\"text-align: right;\">\n",
              "      <th></th>\n",
              "      <th>ThreadID</th>\n",
              "      <th>P</th>\n",
              "      <th>C</th>\n",
              "    </tr>\n",
              "  </thead>\n",
              "  <tbody>\n",
              "    <tr>\n",
              "      <th>0</th>\n",
              "      <td>100</td>\n",
              "      <td>0</td>\n",
              "      <td>1</td>\n",
              "    </tr>\n",
              "    <tr>\n",
              "      <th>1</th>\n",
              "      <td>100</td>\n",
              "      <td>1</td>\n",
              "      <td>2</td>\n",
              "    </tr>\n",
              "    <tr>\n",
              "      <th>2</th>\n",
              "      <td>100</td>\n",
              "      <td>1</td>\n",
              "      <td>4</td>\n",
              "    </tr>\n",
              "    <tr>\n",
              "      <th>3</th>\n",
              "      <td>100</td>\n",
              "      <td>10</td>\n",
              "      <td>11</td>\n",
              "    </tr>\n",
              "    <tr>\n",
              "      <th>4</th>\n",
              "      <td>100</td>\n",
              "      <td>11</td>\n",
              "      <td>12</td>\n",
              "    </tr>\n",
              "    <tr>\n",
              "      <th>...</th>\n",
              "      <td>...</td>\n",
              "      <td>...</td>\n",
              "      <td>...</td>\n",
              "    </tr>\n",
              "    <tr>\n",
              "      <th>19061</th>\n",
              "      <td>992</td>\n",
              "      <td>5</td>\n",
              "      <td>10</td>\n",
              "    </tr>\n",
              "    <tr>\n",
              "      <th>19062</th>\n",
              "      <td>992</td>\n",
              "      <td>5</td>\n",
              "      <td>6</td>\n",
              "    </tr>\n",
              "    <tr>\n",
              "      <th>19063</th>\n",
              "      <td>992</td>\n",
              "      <td>5</td>\n",
              "      <td>7</td>\n",
              "    </tr>\n",
              "    <tr>\n",
              "      <th>19064</th>\n",
              "      <td>992</td>\n",
              "      <td>5</td>\n",
              "      <td>9</td>\n",
              "    </tr>\n",
              "    <tr>\n",
              "      <th>19065</th>\n",
              "      <td>992</td>\n",
              "      <td>7</td>\n",
              "      <td>8</td>\n",
              "    </tr>\n",
              "  </tbody>\n",
              "</table>\n",
              "<p>19066 rows × 3 columns</p>\n",
              "</div>"
            ],
            "text/plain": [
              "      ThreadID   P   C\n",
              "0          100   0   1\n",
              "1          100   1   2\n",
              "2          100   1   4\n",
              "3          100  10  11\n",
              "4          100  11  12\n",
              "...        ...  ..  ..\n",
              "19061      992   5  10\n",
              "19062      992   5   6\n",
              "19063      992   5   7\n",
              "19064      992   5   9\n",
              "19065      992   7   8\n",
              "\n",
              "[19066 rows x 3 columns]"
            ]
          },
          "metadata": {},
          "execution_count": 29
        }
      ]
    },
    {
      "cell_type": "code",
      "metadata": {
        "id": "qSDnI1xk2H_p"
      },
      "source": [
        "#1000 uniformly random chosen threads with atleast 10 messages / posts.\n",
        "test_threads = set([66,69,73,79,83,84,93,100,109,113,115,129,134,135,140,147,148,150,154,158,164,166,173,179,180,198,206,223,224,226,228,255,259,260,274,279,284,301,304,306,311,328,336,348,366,367,371,383,384,405,406,407,410,417,420,427,429,436,442,453,459,460,466,476,500,506,507,512,515,516,521,531,532,542,554,556,559,564,569,578,586,589,594,596,600,603,611,621,623,625,629,632,642,644,650,651,652,654,661,680,687,688,699,701,713,715,717,723,726,742,743,750,769,772,785,788,791,794,809,816,818,821,828,829,833,842,845,846,854,856,865,873,881,885,891,896,901,903,910,912,913,915,919,925,935,939,953,960,973,983,985,988,992,1021,1025,1031,1037,1056,1073,1106,1107,1117,1119,1124,1192,1197,1216,1246,1249,1275,1287,1305,1327,1346,1349,1357,1406,1408,1410,1412,1415,1434,1452,1486,1508,1514,1518,1530,1566,1584,1595,1597,1598,1606,1618,1631,1632,1653,1670,1682,1683,1686,1700,1736,1759,1762,1776,1777,1778,1779,1795,1802,1803,1810,1815,1826,1829,1834,1839,1843,1846,1858,1863,1867,1876,1889,1893,1894,1895,1904,1908,1912,1913,1915,1923,1931,1938,1944,1948,1949,1950,1954,1955,1976,1984,1987,1993,1999,2001,2014,2017,2018,2023,2025,2036,2046,2047,2052,2063,2065,2070,2073,2076,2094,2099,2119,2140,2148,2180,2183,2184,2202,2203,2208,2209,2215,2224,2228,2229,2245,2274,2294,2307,2318,2319,2335,2344,2347,2354,2358,2359,2372,2378,2383,2396,2398,2400,2402,2409,2410,2415,2416,2422,2430,2436,2446,2447,2472,2494,2499,2500,2503,2517,2521,2535,2558,2561,2577,2578,2597,2604,2612,2614,2616,2617,2618,2625,2637,2653,2666,2689,2741,2761,2762,2767,2773,2775,2785,2789,2799,2800,2824,2836,2837,2840,2851,2852,2853,2854,2863,2864,2870,2875,2883,2885,2893,2894,2896,2902,2912,2925,2927,2928,2932,2935,2942,2945,2946,2954,2966,2979,2982,2992,2996,3003,3004,3007,3015,3016,3040,3044,3047,3048,3050,3057,3058,3059,3060,3072,3090,3095,3107,3118,3125,3127,3128,3133,3137,3151,3158,3160,3166,3172,3205,3207,3215,3220,3221,3230,3235,3237,3275,3282,3286,3287,3289,3294,3330,3332,3333,3336,3344,3347,3360,3361,3378,3402,3415,3418,3420,3451,3453,3475,3476,3479,3489,3491,3517,3522,3525,3530,3542,3543,3549,3565,3570,3576,3593,3594,3612,3641,3644,3646,3655,3659,3668,3669,3679,3721,3722,3745,3752,3757,3758,3769,3772,3775,3796,3797,3799,3802,3806,3812,3819,3834,3838,3843,3847,3859,3866,3885,3889,3906,3908,3912,3915,3918,3919,3921,3923,3926,3927,3943,3946,3953,3963,3967,3970,3971,3973,12104,12107,12111,12113,12115,21159,12119,12120,12122,12124,12125,12127,21164,21166,21167,12133,12135,21170,21172,12137,12139,21176,21179,12159,21186,21189,12166,21194,21195,21197,12171,12174,21204,21207,21209,12181,12182,21212,21214,12191,21216,21217,21220,12196,21225,21228,21233,12203,12204,12206,21237,21241,12212,12213,12214,12216,12223,21262,21266,21269,21270,21271,12235,21274,21278,21288,12249,21295,21297,21299,12252,12258,12261,21321,21323,21330,21331,21332,21333,21339,21347,21350,21358,21364,21373,12301,21381,21383,12307,12317,21398,12318,12319,12320,12322,21404,21405,12327,21412,21414,12332,12335,21421,21426,21428,21440,21442,12346,21450,21457,12353,21465,21468,21469,21470,21474,12359,21475,21476,21481,21486,21493,21494,21497,21500,21503,21506,21507,12366,21511,21515,21517,21521,21527,21528,21532,21533,21535,21538,21541,21544,12390,21549,21550,21552,21556,21558,21564,12416,21567,21568,21569,12423,21583,21584,21592,21599,21602,12432,12436,21604,21605,21620,21623,21628,21631,21634,21638,21640,12452,21641,21642,21645,21647,12458,12460,21649,21650,21651,21652,21659,21664,12468,21668,21669,21673,21678,12475,21685,21689,21699,21704,21707,21709,12489,21719,21720,12494,12498,21731,12507,21738,21741,12512,12514,21745,21750,21755,21756,21758,21762,21766,21768,12518,21775,21778,21779,21780,21781,12523,21787,21788,21792,12528,21793,21797,12530,21798,12537,21803,12540,12541,21805,21808,21811,21813,12548,12549,21818,21821,21824,21828,21829,21832,21833,12562,21838,21839,21841,21848,21849,21853,21854,21855,21866,21868,12570,12571,12575,21878,12583,21884,21886,21889,21890,21891,12589,21893,21897,21898,12595,21905,21906,21907,21912,21914,21915,21925,21928,21930,12597,21935,21941,21942,21945,21949,21950,21954,21955,21956,21958,21959,21960,12611,12614,12615,21972,21975,21978,12617,21981,21982,21985,21993,12627,12632,21996,22000,12641,12642,22004,22006,22008,22009,22018,22019,22022,12654,22025,22028,22032,12656,22033,22036,22041,22042,22043,12664,22046,22047,22048,22052,22056,12671,12676,22064,22067,22068,12680,12682,12684,12687,22070,22071,22078,22081,12693,12694,22086,12701,22095,22102,22106,12713,22108,22110,22111,22112,22114,22117,22120,22121,22124,22131,22134,12723,22135,12726,22146,22157,12728,22163,22169,22172,22179,22181,22183,22194,22200,22203,12749,22216,22218,22219,22223,22227,12757,22230,22236,22237,22238,22241,22242,22243,22246,22249,22250,22255,22260,12772,22264,22267,12775,22272,22276,22277,22282,22283,22284,22286,12780,12781,22293,22305,22310,12785,22325,12791,12792,12794,22342,12796,22358,22359,22361,22362,22363,22370,22373,12815,22380,22382,12817,22386,22387,22388,12823,22391,22392,22393,22395,22396,22397,12824,12828,22403,12839,22406,22412,22413,12843,12845,22421,22423,22428,22429,12854,22443,12858,22445,12868,12869,12870,22466,22472,22484,22485,12889,22497,22498,22499,22500,22522,22524,22526,12912,22535,22540,22550,22556,22558,12928,12931,12933,22567,22568,22569,12938,22580,12941,22583,12952,12958,12960,22603,12961,12965,12967,12968,22614])"
      ],
      "execution_count": 30,
      "outputs": []
    },
    {
      "cell_type": "code",
      "metadata": {
        "colab": {
          "base_uri": "https://localhost:8080/"
        },
        "id": "s0fCIMnjO1IQ",
        "outputId": "ef5aab81-bbb7-4992-98f7-3b809a0477c9"
      },
      "source": [
        "print(len(test_threads))\n",
        "thread_list = []\n",
        "parent_list = []\n",
        "child_list = []\n",
        "post_sn = {}\n",
        "for i in test_threads:\n",
        "  if i == '':\n",
        "    continue\n",
        "  else:\n",
        "    \n",
        "    temp = df[df['ThreadID']==int(i)]\n",
        "    postIDs = sorted(temp['PostID'])\n",
        "    \n",
        "    k = 0\n",
        "    for j in postIDs:\n",
        "      post_sn[(int(i),int(j))] = int(k)\n",
        "      k = k + 1 \n",
        "    s = get_conversation_dag(int(i))\n",
        "    \n",
        "    for j,k in s.edges():\n",
        "      thread_list.append(int(i))\n",
        "\n",
        "      p = post_sn.get((i,j))\n",
        "      c = post_sn.get((i,k))\n",
        "\n",
        "      parent_list.append(p)\n",
        "      child_list.append(c)"
      ],
      "execution_count": 31,
      "outputs": [
        {
          "output_type": "stream",
          "name": "stdout",
          "text": [
            "1000\n"
          ]
        }
      ]
    },
    {
      "cell_type": "code",
      "metadata": {
        "id": "zCbFvP5ZTgWd"
      },
      "source": [
        "gold = pd.DataFrame()\n",
        "gold['ThreadID'] = thread_list\n",
        "gold['P'] = parent_list\n",
        "gold['C'] = child_list "
      ],
      "execution_count": 32,
      "outputs": []
    },
    {
      "cell_type": "code",
      "metadata": {
        "id": "8PDhup64ZaoY"
      },
      "source": [
        "gold = gold[gold['P']!=gold['C']]\n",
        "gold = gold.sort_values(['ThreadID','P','C'])\n",
        "gold = gold.reset_index(drop=True)"
      ],
      "execution_count": 33,
      "outputs": []
    },
    {
      "cell_type": "code",
      "metadata": {
        "colab": {
          "base_uri": "https://localhost:8080/",
          "height": 419
        },
        "id": "u9AdafERZcIh",
        "outputId": "7954ee13-2519-41e1-e42f-af336e16e098"
      },
      "source": [
        "gold #ground truth of forum test dataset"
      ],
      "execution_count": 34,
      "outputs": [
        {
          "output_type": "execute_result",
          "data": {
            "text/html": [
              "<div>\n",
              "<style scoped>\n",
              "    .dataframe tbody tr th:only-of-type {\n",
              "        vertical-align: middle;\n",
              "    }\n",
              "\n",
              "    .dataframe tbody tr th {\n",
              "        vertical-align: top;\n",
              "    }\n",
              "\n",
              "    .dataframe thead th {\n",
              "        text-align: right;\n",
              "    }\n",
              "</style>\n",
              "<table border=\"1\" class=\"dataframe\">\n",
              "  <thead>\n",
              "    <tr style=\"text-align: right;\">\n",
              "      <th></th>\n",
              "      <th>ThreadID</th>\n",
              "      <th>P</th>\n",
              "      <th>C</th>\n",
              "    </tr>\n",
              "  </thead>\n",
              "  <tbody>\n",
              "    <tr>\n",
              "      <th>0</th>\n",
              "      <td>66</td>\n",
              "      <td>0</td>\n",
              "      <td>1</td>\n",
              "    </tr>\n",
              "    <tr>\n",
              "      <th>1</th>\n",
              "      <td>66</td>\n",
              "      <td>0</td>\n",
              "      <td>3</td>\n",
              "    </tr>\n",
              "    <tr>\n",
              "      <th>2</th>\n",
              "      <td>66</td>\n",
              "      <td>1</td>\n",
              "      <td>2</td>\n",
              "    </tr>\n",
              "    <tr>\n",
              "      <th>3</th>\n",
              "      <td>66</td>\n",
              "      <td>1</td>\n",
              "      <td>5</td>\n",
              "    </tr>\n",
              "    <tr>\n",
              "      <th>4</th>\n",
              "      <td>66</td>\n",
              "      <td>3</td>\n",
              "      <td>4</td>\n",
              "    </tr>\n",
              "    <tr>\n",
              "      <th>...</th>\n",
              "      <td>...</td>\n",
              "      <td>...</td>\n",
              "      <td>...</td>\n",
              "    </tr>\n",
              "    <tr>\n",
              "      <th>19061</th>\n",
              "      <td>22614</td>\n",
              "      <td>17</td>\n",
              "      <td>18</td>\n",
              "    </tr>\n",
              "    <tr>\n",
              "      <th>19062</th>\n",
              "      <td>22614</td>\n",
              "      <td>17</td>\n",
              "      <td>23</td>\n",
              "    </tr>\n",
              "    <tr>\n",
              "      <th>19063</th>\n",
              "      <td>22614</td>\n",
              "      <td>19</td>\n",
              "      <td>20</td>\n",
              "    </tr>\n",
              "    <tr>\n",
              "      <th>19064</th>\n",
              "      <td>22614</td>\n",
              "      <td>19</td>\n",
              "      <td>22</td>\n",
              "    </tr>\n",
              "    <tr>\n",
              "      <th>19065</th>\n",
              "      <td>22614</td>\n",
              "      <td>20</td>\n",
              "      <td>21</td>\n",
              "    </tr>\n",
              "  </tbody>\n",
              "</table>\n",
              "<p>19066 rows × 3 columns</p>\n",
              "</div>"
            ],
            "text/plain": [
              "       ThreadID   P   C\n",
              "0            66   0   1\n",
              "1            66   0   3\n",
              "2            66   1   2\n",
              "3            66   1   5\n",
              "4            66   3   4\n",
              "...         ...  ..  ..\n",
              "19061     22614  17  18\n",
              "19062     22614  17  23\n",
              "19063     22614  19  20\n",
              "19064     22614  19  22\n",
              "19065     22614  20  21\n",
              "\n",
              "[19066 rows x 3 columns]"
            ]
          },
          "metadata": {},
          "execution_count": 34
        }
      ]
    },
    {
      "cell_type": "code",
      "metadata": {
        "id": "goSIWC3jaM8s"
      },
      "source": [
        "new_tid = []\n",
        "for i in preds['ThreadID']:\n",
        "  new_tid.append(int(i))\n",
        "preds['ThreadID'] = new_tid"
      ],
      "execution_count": 35,
      "outputs": []
    },
    {
      "cell_type": "code",
      "metadata": {
        "id": "EZv_ZhMcXl1B"
      },
      "source": [
        "new_tid = []\n",
        "for i in preds2['ThreadID']:\n",
        "  new_tid.append(int(i))\n",
        "preds2['ThreadID'] = new_tid"
      ],
      "execution_count": 37,
      "outputs": []
    },
    {
      "cell_type": "code",
      "metadata": {
        "id": "VLdNjJnvbNEa"
      },
      "source": [
        "def get_set_of_sets(s1):\n",
        "  set_set_list = []\n",
        "  for i in test_threads:\n",
        "    temp = s1[s1['ThreadID']==int(i)]\n",
        "    p = list(temp['P'])\n",
        "    c = list(temp['C'])\n",
        "    edges = []\n",
        "    for j in range(len(p)):\n",
        "      edges.append((int(p[j]),int(c[j])))\n",
        "    all_nodes = list(set(p).union(set(c)))\n",
        "    G = nx.DiGraph()\n",
        "    G.add_nodes_from(all_nodes)\n",
        "    G.add_edges_from(edges)\n",
        "    chaini = chain.from_iterable\n",
        "    roots = (n for n,d in G.in_degree() if d==0)\n",
        "    leaves = (n for n,d in G.out_degree() if d==0)\n",
        "    all_paths = partial(nx.all_simple_paths, G)\n",
        "    ans = chaini(starmap(all_paths, product(roots, leaves)))\n",
        "    set_ans = {}\n",
        "    k = 0\n",
        "    for i in ans:\n",
        "      set_ans['C'+str(k)] = set(i)\n",
        "      k = k + 1\n",
        "    set_set_list.append(set_ans)\n",
        "  return set_set_list"
      ],
      "execution_count": 38,
      "outputs": []
    },
    {
      "cell_type": "code",
      "metadata": {
        "id": "JJJeuCkXPKdX"
      },
      "source": [
        "gt = get_set_of_sets(gold)\n",
        "pr = get_set_of_sets(preds)\n",
        "pr2 = get_set_of_sets(preds2)"
      ],
      "execution_count": 39,
      "outputs": []
    },
    {
      "cell_type": "code",
      "metadata": {
        "id": "BuOTiecJiol2"
      },
      "source": [
        "temp = pd.DataFrame()\n",
        "temp['TID'] = list(test_threads)\n",
        "temp['GT'] = gt\n",
        "temp['PR'] = pr\n",
        "temp['PR2'] = pr2"
      ],
      "execution_count": 40,
      "outputs": []
    },
    {
      "cell_type": "code",
      "metadata": {
        "colab": {
          "base_uri": "https://localhost:8080/",
          "height": 419
        },
        "id": "Iq44pzqWi_O_",
        "outputId": "dc1cd715-74b2-4a57-abbe-74d358393d21"
      },
      "source": [
        "temp"
      ],
      "execution_count": 41,
      "outputs": [
        {
          "output_type": "execute_result",
          "data": {
            "text/html": [
              "<div>\n",
              "<style scoped>\n",
              "    .dataframe tbody tr th:only-of-type {\n",
              "        vertical-align: middle;\n",
              "    }\n",
              "\n",
              "    .dataframe tbody tr th {\n",
              "        vertical-align: top;\n",
              "    }\n",
              "\n",
              "    .dataframe thead th {\n",
              "        text-align: right;\n",
              "    }\n",
              "</style>\n",
              "<table border=\"1\" class=\"dataframe\">\n",
              "  <thead>\n",
              "    <tr style=\"text-align: right;\">\n",
              "      <th></th>\n",
              "      <th>TID</th>\n",
              "      <th>GT</th>\n",
              "      <th>PR</th>\n",
              "      <th>PR2</th>\n",
              "    </tr>\n",
              "  </thead>\n",
              "  <tbody>\n",
              "    <tr>\n",
              "      <th>0</th>\n",
              "      <td>2052</td>\n",
              "      <td>{'C0': {0, 1}, 'C1': {0, 2, 3, 4, 5, 6, 7, 8},...</td>\n",
              "      <td>{'C0': {0, 2}, 'C1': {0, 4, 6}, 'C2': {0, 8, 4...</td>\n",
              "      <td>{'C0': {0, 1, 2}, 'C1': {0, 11, 3}, 'C2': {0, ...</td>\n",
              "    </tr>\n",
              "    <tr>\n",
              "      <th>1</th>\n",
              "      <td>22535</td>\n",
              "      <td>{'C0': {0, 1, 2, 3, 4, 5, 6}, 'C1': {0, 1, 2, ...</td>\n",
              "      <td>{'C0': {0, 2, 4}, 'C1': {0, 2, 6, 7, 9}, 'C2':...</td>\n",
              "      <td>{'C0': {0, 7}, 'C1': {0, 1, 2, 3, 4, 5, 6}, 'C...</td>\n",
              "    </tr>\n",
              "    <tr>\n",
              "      <th>2</th>\n",
              "      <td>22540</td>\n",
              "      <td>{'C0': {0, 1}, 'C1': {0, 2}, 'C2': {0, 6}, 'C3...</td>\n",
              "      <td>{'C0': {0, 3}, 'C1': {0, 10, 11}, 'C2': {0, 10...</td>\n",
              "      <td>{'C0': {0, 13}, 'C1': {0, 1, 2}, 'C2': {0, 10,...</td>\n",
              "    </tr>\n",
              "    <tr>\n",
              "      <th>3</th>\n",
              "      <td>12301</td>\n",
              "      <td>{'C0': {0, 2}, 'C1': {0, 3}, 'C2': {0, 1, 4}, ...</td>\n",
              "      <td>{'C0': {0, 4}, 'C1': {11, 3, 12}, 'C2': {5, 6}...</td>\n",
              "      <td>{'C0': {0, 10}, 'C1': {0, 3}, 'C2': {0, 5}, 'C...</td>\n",
              "    </tr>\n",
              "    <tr>\n",
              "      <th>4</th>\n",
              "      <td>2063</td>\n",
              "      <td>{'C0': {0, 1, 2, 3, 4}, 'C1': {0, 5}, 'C2': {0...</td>\n",
              "      <td>{'C0': {0, 8, 2}, 'C1': {1, 3}, 'C2': {10, 12}...</td>\n",
              "      <td>{'C0': {0, 1}, 'C1': {0, 15}, 'C2': {0, 5}, 'C...</td>\n",
              "    </tr>\n",
              "    <tr>\n",
              "      <th>...</th>\n",
              "      <td>...</td>\n",
              "      <td>...</td>\n",
              "      <td>...</td>\n",
              "      <td>...</td>\n",
              "    </tr>\n",
              "    <tr>\n",
              "      <th>995</th>\n",
              "      <td>2036</td>\n",
              "      <td>{'C0': {0, 1, 2}, 'C1': {0, 1, 3}, 'C2': {0, 1...</td>\n",
              "      <td>{'C0': {1, 14}, 'C1': {19, 1, 18, 3}, 'C2': {2...</td>\n",
              "      <td>{'C0': {0, 1, 4, 5, 6, 9, 10, 11}, 'C1': {0, 1...</td>\n",
              "    </tr>\n",
              "    <tr>\n",
              "      <th>996</th>\n",
              "      <td>22522</td>\n",
              "      <td>{'C0': {0, 1}, 'C1': {0, 2, 3, 4, 5}, 'C2': {0...</td>\n",
              "      <td>{'C0': {3, 5}, 'C1': {9, 6, 7}}</td>\n",
              "      <td>{'C0': {0, 1}, 'C1': {0, 2, 3, 4, 5, 6, 7}, 'C...</td>\n",
              "    </tr>\n",
              "    <tr>\n",
              "      <th>997</th>\n",
              "      <td>22524</td>\n",
              "      <td>{'C0': {0, 1, 2, 3, 4}, 'C1': {0, 5, 6}, 'C2':...</td>\n",
              "      <td>{'C0': {0, 2}, 'C1': {0, 4}, 'C2': {0, 1, 6, 7...</td>\n",
              "      <td>{'C0': {0, 19}, 'C1': {0, 5}, 'C2': {0, 7, 8, ...</td>\n",
              "    </tr>\n",
              "    <tr>\n",
              "      <th>998</th>\n",
              "      <td>2046</td>\n",
              "      <td>{'C0': {0, 1}, 'C1': {0, 2}, 'C2': {0, 3}, 'C3...</td>\n",
              "      <td>{'C0': {0, 11}, 'C1': {8, 1, 10}, 'C2': {2, 3}...</td>\n",
              "      <td>{'C0': {0, 1}, 'C1': {0, 23}, 'C2': {0, 33}, '...</td>\n",
              "    </tr>\n",
              "    <tr>\n",
              "      <th>999</th>\n",
              "      <td>2047</td>\n",
              "      <td>{'C0': {0, 1, 2}, 'C1': {0, 4, 5}, 'C2': {0, 6...</td>\n",
              "      <td>{'C0': {0, 10}, 'C1': {0, 1, 6}, 'C2': {8, 2},...</td>\n",
              "      <td>{'C0': {0, 1}, 'C1': {0, 2}, 'C2': {0, 3}, 'C3...</td>\n",
              "    </tr>\n",
              "  </tbody>\n",
              "</table>\n",
              "<p>1000 rows × 4 columns</p>\n",
              "</div>"
            ],
            "text/plain": [
              "       TID  ...                                                PR2\n",
              "0     2052  ...  {'C0': {0, 1, 2}, 'C1': {0, 11, 3}, 'C2': {0, ...\n",
              "1    22535  ...  {'C0': {0, 7}, 'C1': {0, 1, 2, 3, 4, 5, 6}, 'C...\n",
              "2    22540  ...  {'C0': {0, 13}, 'C1': {0, 1, 2}, 'C2': {0, 10,...\n",
              "3    12301  ...  {'C0': {0, 10}, 'C1': {0, 3}, 'C2': {0, 5}, 'C...\n",
              "4     2063  ...  {'C0': {0, 1}, 'C1': {0, 15}, 'C2': {0, 5}, 'C...\n",
              "..     ...  ...                                                ...\n",
              "995   2036  ...  {'C0': {0, 1, 4, 5, 6, 9, 10, 11}, 'C1': {0, 1...\n",
              "996  22522  ...  {'C0': {0, 1}, 'C1': {0, 2, 3, 4, 5, 6, 7}, 'C...\n",
              "997  22524  ...  {'C0': {0, 19}, 'C1': {0, 5}, 'C2': {0, 7, 8, ...\n",
              "998   2046  ...  {'C0': {0, 1}, 'C1': {0, 23}, 'C2': {0, 33}, '...\n",
              "999   2047  ...  {'C0': {0, 1}, 'C1': {0, 2}, 'C2': {0, 3}, 'C3...\n",
              "\n",
              "[1000 rows x 4 columns]"
            ]
          },
          "metadata": {},
          "execution_count": 41
        }
      ]
    },
    {
      "cell_type": "code",
      "metadata": {
        "colab": {
          "base_uri": "https://localhost:8080/"
        },
        "id": "PBLcdacyPTVS",
        "outputId": "b6c5d8ea-212e-4452-cc91-c977a3deacea"
      },
      "source": [
        "VI_list = []\n",
        "omega_list = []\n",
        "one_one_list = []\n",
        "shen_f1_list = []\n",
        "\n",
        "for i in range(len(gt)):\n",
        "  if len(pr[i]) == 0:\n",
        "    print(i)\n",
        "    VI_list.append(0)\n",
        "    omega_list.append(0)\n",
        "    one_one_list.append(0)\n",
        "    shen_f1_list.append(0)\n",
        "  else:\n",
        "    VI = get_vi(gt[i],pr[i])\n",
        "    OM = get_omega_score(gt[i],pr[i])\n",
        "    OVO = get_one_to_one(gt[i],pr[i])\n",
        "    SF1 = get_shen_f1(gt[i],pr[i])\n",
        "    VI_list.append(VI)\n",
        "    omega_list.append(OM)\n",
        "    one_one_list.append(OVO)\n",
        "    shen_f1_list.append(SF1)"
      ],
      "execution_count": 54,
      "outputs": [
        {
          "output_type": "stream",
          "name": "stdout",
          "text": [
            "51\n",
            "57\n",
            "75\n",
            "210\n",
            "479\n",
            "887\n",
            "939\n"
          ]
        }
      ]
    },
    {
      "cell_type": "code",
      "metadata": {
        "id": "xOHJEs7fiRDc"
      },
      "source": [
        "#For Model 1\n",
        "metrics = pd.DataFrame()\n",
        "metrics['TID'] = list(test_threads)\n",
        "metrics['VI'] = VI_list\n",
        "metrics['Omega'] = omega_list\n",
        "metrics['one_to_one'] = one_one_list\n",
        "metrics['shen_F1'] = shen_f1_list"
      ],
      "execution_count": 55,
      "outputs": []
    },
    {
      "cell_type": "code",
      "metadata": {
        "colab": {
          "base_uri": "https://localhost:8080/",
          "height": 297
        },
        "id": "xjEYtt7AlKey",
        "outputId": "f40180df-1d6e-45f9-fdae-523ca2714008"
      },
      "source": [
        "metrics.describe()"
      ],
      "execution_count": 57,
      "outputs": [
        {
          "output_type": "execute_result",
          "data": {
            "text/html": [
              "<div>\n",
              "<style scoped>\n",
              "    .dataframe tbody tr th:only-of-type {\n",
              "        vertical-align: middle;\n",
              "    }\n",
              "\n",
              "    .dataframe tbody tr th {\n",
              "        vertical-align: top;\n",
              "    }\n",
              "\n",
              "    .dataframe thead th {\n",
              "        text-align: right;\n",
              "    }\n",
              "</style>\n",
              "<table border=\"1\" class=\"dataframe\">\n",
              "  <thead>\n",
              "    <tr style=\"text-align: right;\">\n",
              "      <th></th>\n",
              "      <th>TID</th>\n",
              "      <th>VI</th>\n",
              "      <th>Omega</th>\n",
              "      <th>one_to_one</th>\n",
              "      <th>shen_F1</th>\n",
              "    </tr>\n",
              "  </thead>\n",
              "  <tbody>\n",
              "    <tr>\n",
              "      <th>count</th>\n",
              "      <td>1000.000000</td>\n",
              "      <td>1000.000000</td>\n",
              "      <td>1000.000000</td>\n",
              "      <td>1000.000000</td>\n",
              "      <td>1000.000000</td>\n",
              "    </tr>\n",
              "    <tr>\n",
              "      <th>mean</th>\n",
              "      <td>10570.267000</td>\n",
              "      <td>5.791321</td>\n",
              "      <td>0.040897</td>\n",
              "      <td>50.798530</td>\n",
              "      <td>0.966490</td>\n",
              "    </tr>\n",
              "    <tr>\n",
              "      <th>std</th>\n",
              "      <td>9136.185749</td>\n",
              "      <td>4.589073</td>\n",
              "      <td>0.094611</td>\n",
              "      <td>18.236499</td>\n",
              "      <td>0.306344</td>\n",
              "    </tr>\n",
              "    <tr>\n",
              "      <th>min</th>\n",
              "      <td>66.000000</td>\n",
              "      <td>0.000000</td>\n",
              "      <td>-0.305000</td>\n",
              "      <td>0.000000</td>\n",
              "      <td>0.000000</td>\n",
              "    </tr>\n",
              "    <tr>\n",
              "      <th>25%</th>\n",
              "      <td>2016.250000</td>\n",
              "      <td>3.013670</td>\n",
              "      <td>-0.016250</td>\n",
              "      <td>38.889000</td>\n",
              "      <td>0.782000</td>\n",
              "    </tr>\n",
              "    <tr>\n",
              "      <th>50%</th>\n",
              "      <td>8038.500000</td>\n",
              "      <td>4.523089</td>\n",
              "      <td>0.033500</td>\n",
              "      <td>50.000000</td>\n",
              "      <td>0.942000</td>\n",
              "    </tr>\n",
              "    <tr>\n",
              "      <th>75%</th>\n",
              "      <td>21602.500000</td>\n",
              "      <td>6.988888</td>\n",
              "      <td>0.091000</td>\n",
              "      <td>61.564500</td>\n",
              "      <td>1.130000</td>\n",
              "    </tr>\n",
              "    <tr>\n",
              "      <th>max</th>\n",
              "      <td>22614.000000</td>\n",
              "      <td>44.393783</td>\n",
              "      <td>0.564000</td>\n",
              "      <td>150.000000</td>\n",
              "      <td>2.298000</td>\n",
              "    </tr>\n",
              "  </tbody>\n",
              "</table>\n",
              "</div>"
            ],
            "text/plain": [
              "                TID           VI        Omega   one_to_one      shen_F1\n",
              "count   1000.000000  1000.000000  1000.000000  1000.000000  1000.000000\n",
              "mean   10570.267000     5.791321     0.040897    50.798530     0.966490\n",
              "std     9136.185749     4.589073     0.094611    18.236499     0.306344\n",
              "min       66.000000     0.000000    -0.305000     0.000000     0.000000\n",
              "25%     2016.250000     3.013670    -0.016250    38.889000     0.782000\n",
              "50%     8038.500000     4.523089     0.033500    50.000000     0.942000\n",
              "75%    21602.500000     6.988888     0.091000    61.564500     1.130000\n",
              "max    22614.000000    44.393783     0.564000   150.000000     2.298000"
            ]
          },
          "metadata": {},
          "execution_count": 57
        }
      ]
    },
    {
      "cell_type": "code",
      "metadata": {
        "colab": {
          "base_uri": "https://localhost:8080/",
          "height": 419
        },
        "id": "fk67e20Qm_7I",
        "outputId": "d4667055-937b-458e-d9ab-08e37ac077f1"
      },
      "source": [
        "metrics"
      ],
      "execution_count": 58,
      "outputs": [
        {
          "output_type": "execute_result",
          "data": {
            "text/html": [
              "<div>\n",
              "<style scoped>\n",
              "    .dataframe tbody tr th:only-of-type {\n",
              "        vertical-align: middle;\n",
              "    }\n",
              "\n",
              "    .dataframe tbody tr th {\n",
              "        vertical-align: top;\n",
              "    }\n",
              "\n",
              "    .dataframe thead th {\n",
              "        text-align: right;\n",
              "    }\n",
              "</style>\n",
              "<table border=\"1\" class=\"dataframe\">\n",
              "  <thead>\n",
              "    <tr style=\"text-align: right;\">\n",
              "      <th></th>\n",
              "      <th>TID</th>\n",
              "      <th>VI</th>\n",
              "      <th>Omega</th>\n",
              "      <th>one_to_one</th>\n",
              "      <th>shen_F1</th>\n",
              "    </tr>\n",
              "  </thead>\n",
              "  <tbody>\n",
              "    <tr>\n",
              "      <th>0</th>\n",
              "      <td>2052</td>\n",
              "      <td>5.526692</td>\n",
              "      <td>0.063</td>\n",
              "      <td>91.667</td>\n",
              "      <td>1.272</td>\n",
              "    </tr>\n",
              "    <tr>\n",
              "      <th>1</th>\n",
              "      <td>22535</td>\n",
              "      <td>3.636932</td>\n",
              "      <td>-0.006</td>\n",
              "      <td>70.000</td>\n",
              "      <td>0.934</td>\n",
              "    </tr>\n",
              "    <tr>\n",
              "      <th>2</th>\n",
              "      <td>22540</td>\n",
              "      <td>7.281291</td>\n",
              "      <td>0.164</td>\n",
              "      <td>78.571</td>\n",
              "      <td>1.095</td>\n",
              "    </tr>\n",
              "    <tr>\n",
              "      <th>3</th>\n",
              "      <td>12301</td>\n",
              "      <td>3.399190</td>\n",
              "      <td>-0.046</td>\n",
              "      <td>46.154</td>\n",
              "      <td>0.938</td>\n",
              "    </tr>\n",
              "    <tr>\n",
              "      <th>4</th>\n",
              "      <td>2063</td>\n",
              "      <td>2.796022</td>\n",
              "      <td>0.071</td>\n",
              "      <td>50.000</td>\n",
              "      <td>0.856</td>\n",
              "    </tr>\n",
              "    <tr>\n",
              "      <th>...</th>\n",
              "      <td>...</td>\n",
              "      <td>...</td>\n",
              "      <td>...</td>\n",
              "      <td>...</td>\n",
              "      <td>...</td>\n",
              "    </tr>\n",
              "    <tr>\n",
              "      <th>995</th>\n",
              "      <td>2036</td>\n",
              "      <td>6.471145</td>\n",
              "      <td>0.029</td>\n",
              "      <td>55.556</td>\n",
              "      <td>0.953</td>\n",
              "    </tr>\n",
              "    <tr>\n",
              "      <th>996</th>\n",
              "      <td>22522</td>\n",
              "      <td>1.315363</td>\n",
              "      <td>0.028</td>\n",
              "      <td>40.000</td>\n",
              "      <td>0.632</td>\n",
              "    </tr>\n",
              "    <tr>\n",
              "      <th>997</th>\n",
              "      <td>22524</td>\n",
              "      <td>11.794742</td>\n",
              "      <td>0.139</td>\n",
              "      <td>71.429</td>\n",
              "      <td>1.095</td>\n",
              "    </tr>\n",
              "    <tr>\n",
              "      <th>998</th>\n",
              "      <td>2046</td>\n",
              "      <td>7.816494</td>\n",
              "      <td>-0.067</td>\n",
              "      <td>42.857</td>\n",
              "      <td>0.949</td>\n",
              "    </tr>\n",
              "    <tr>\n",
              "      <th>999</th>\n",
              "      <td>2047</td>\n",
              "      <td>3.874915</td>\n",
              "      <td>0.159</td>\n",
              "      <td>54.545</td>\n",
              "      <td>0.873</td>\n",
              "    </tr>\n",
              "  </tbody>\n",
              "</table>\n",
              "<p>1000 rows × 5 columns</p>\n",
              "</div>"
            ],
            "text/plain": [
              "       TID         VI  Omega  one_to_one  shen_F1\n",
              "0     2052   5.526692  0.063      91.667    1.272\n",
              "1    22535   3.636932 -0.006      70.000    0.934\n",
              "2    22540   7.281291  0.164      78.571    1.095\n",
              "3    12301   3.399190 -0.046      46.154    0.938\n",
              "4     2063   2.796022  0.071      50.000    0.856\n",
              "..     ...        ...    ...         ...      ...\n",
              "995   2036   6.471145  0.029      55.556    0.953\n",
              "996  22522   1.315363  0.028      40.000    0.632\n",
              "997  22524  11.794742  0.139      71.429    1.095\n",
              "998   2046   7.816494 -0.067      42.857    0.949\n",
              "999   2047   3.874915  0.159      54.545    0.873\n",
              "\n",
              "[1000 rows x 5 columns]"
            ]
          },
          "metadata": {},
          "execution_count": 58
        }
      ]
    },
    {
      "cell_type": "code",
      "metadata": {
        "colab": {
          "base_uri": "https://localhost:8080/"
        },
        "id": "zi1-L0sgsEuu",
        "outputId": "37227980-75d9-471a-9d18-d6f23d17b4f5"
      },
      "source": [
        "gt[0]"
      ],
      "execution_count": 59,
      "outputs": [
        {
          "output_type": "execute_result",
          "data": {
            "text/plain": [
              "{'C0': {0, 1},\n",
              " 'C1': {0, 2, 3, 4, 5, 6, 7, 8},\n",
              " 'C2': {0, 2, 3, 4, 5, 6, 7, 9, 10},\n",
              " 'C3': {0, 2, 3, 4, 5, 6, 7, 11}}"
            ]
          },
          "metadata": {},
          "execution_count": 59
        }
      ]
    },
    {
      "cell_type": "code",
      "metadata": {
        "colab": {
          "base_uri": "https://localhost:8080/"
        },
        "id": "wgNLbd0_4Yim",
        "outputId": "6e97d8cd-86e1-4b6e-e573-7774a5d8f9ec"
      },
      "source": [
        "pr[0]"
      ],
      "execution_count": 60,
      "outputs": [
        {
          "output_type": "execute_result",
          "data": {
            "text/plain": [
              "{'C0': {0, 2}, 'C1': {0, 4, 6}, 'C2': {0, 4, 8, 9}, 'C3': {3, 5, 7, 10}}"
            ]
          },
          "metadata": {},
          "execution_count": 60
        }
      ]
    },
    {
      "cell_type": "code",
      "metadata": {
        "colab": {
          "base_uri": "https://localhost:8080/",
          "height": 421
        },
        "id": "OQZcbiLM4aa7",
        "outputId": "68cf82db-9e27-4147-e55e-a6b8ab9c697d"
      },
      "source": [
        "df[df['ThreadID']==2052]"
      ],
      "execution_count": 61,
      "outputs": [
        {
          "output_type": "execute_result",
          "data": {
            "text/html": [
              "<div>\n",
              "<style scoped>\n",
              "    .dataframe tbody tr th:only-of-type {\n",
              "        vertical-align: middle;\n",
              "    }\n",
              "\n",
              "    .dataframe tbody tr th {\n",
              "        vertical-align: top;\n",
              "    }\n",
              "\n",
              "    .dataframe thead th {\n",
              "        text-align: right;\n",
              "    }\n",
              "</style>\n",
              "<table border=\"1\" class=\"dataframe\">\n",
              "  <thead>\n",
              "    <tr style=\"text-align: right;\">\n",
              "      <th></th>\n",
              "      <th>Thread</th>\n",
              "      <th>ThreadID</th>\n",
              "      <th>PostID</th>\n",
              "      <th>DateTime</th>\n",
              "      <th>Author</th>\n",
              "      <th>Post</th>\n",
              "      <th>ParentID_List</th>\n",
              "    </tr>\n",
              "  </thead>\n",
              "  <tbody>\n",
              "    <tr>\n",
              "      <th>9456</th>\n",
              "      <td>highlighted text</td>\n",
              "      <td>2052</td>\n",
              "      <td>9456</td>\n",
              "      <td>2012-04-26 00:08:09</td>\n",
              "      <td>Jean Menzies</td>\n",
              "      <td>Maybe someone here can shed some light on this...</td>\n",
              "      <td>-1</td>\n",
              "    </tr>\n",
              "    <tr>\n",
              "      <th>9457</th>\n",
              "      <td>highlighted text</td>\n",
              "      <td>2052</td>\n",
              "      <td>9457</td>\n",
              "      <td>2012-04-26 00:37:36</td>\n",
              "      <td>Dave...</td>\n",
              "      <td>Jean, Ask them to be more specific. Some peopl...</td>\n",
              "      <td>[9456]</td>\n",
              "    </tr>\n",
              "    <tr>\n",
              "      <th>9459</th>\n",
              "      <td>highlighted text</td>\n",
              "      <td>2052</td>\n",
              "      <td>9459</td>\n",
              "      <td>2012-04-26 00:43:16</td>\n",
              "      <td>Jean Menzies</td>\n",
              "      <td>Thanks Dave, I'll pass that along and inquire ...</td>\n",
              "      <td>[9456]</td>\n",
              "    </tr>\n",
              "    <tr>\n",
              "      <th>9461</th>\n",
              "      <td>highlighted text</td>\n",
              "      <td>2052</td>\n",
              "      <td>9461</td>\n",
              "      <td>2012-04-26 05:41:01</td>\n",
              "      <td>Marquette, Ed</td>\n",
              "      <td>Jean:Dave is correct.  The sighted world will ...</td>\n",
              "      <td>[9459]</td>\n",
              "    </tr>\n",
              "    <tr>\n",
              "      <th>9472</th>\n",
              "      <td>highlighted text</td>\n",
              "      <td>2052</td>\n",
              "      <td>9472</td>\n",
              "      <td>2012-04-26 13:29:44</td>\n",
              "      <td>Jean Menzies</td>\n",
              "      <td>Ed, This sounds very promising.  Your descript...</td>\n",
              "      <td>[9461]</td>\n",
              "    </tr>\n",
              "    <tr>\n",
              "      <th>9473</th>\n",
              "      <td>highlighted text</td>\n",
              "      <td>2052</td>\n",
              "      <td>9473</td>\n",
              "      <td>2012-04-26 13:42:22</td>\n",
              "      <td>Marquette, Ed</td>\n",
              "      <td>By the way, I just had a document with exactly...</td>\n",
              "      <td>[9472]</td>\n",
              "    </tr>\n",
              "    <tr>\n",
              "      <th>9474</th>\n",
              "      <td>highlighted text</td>\n",
              "      <td>2052</td>\n",
              "      <td>9474</td>\n",
              "      <td>2012-04-26 13:50:41</td>\n",
              "      <td>Jean Menzies</td>\n",
              "      <td>Hi Ed, So, how did you know your document had ...</td>\n",
              "      <td>[9473]</td>\n",
              "    </tr>\n",
              "    <tr>\n",
              "      <th>9475</th>\n",
              "      <td>highlighted text</td>\n",
              "      <td>2052</td>\n",
              "      <td>9475</td>\n",
              "      <td>2012-04-26 13:57:35</td>\n",
              "      <td>Marquette, Ed</td>\n",
              "      <td>Client sent document with the statement, \"Note...</td>\n",
              "      <td>[9474]</td>\n",
              "    </tr>\n",
              "    <tr>\n",
              "      <th>9476</th>\n",
              "      <td>highlighted text</td>\n",
              "      <td>2052</td>\n",
              "      <td>9476</td>\n",
              "      <td>2012-04-26 14:20:30</td>\n",
              "      <td>Jean Menzies</td>\n",
              "      <td>Hi Ed, About Paste Special.  I've always used ...</td>\n",
              "      <td>[9475]</td>\n",
              "    </tr>\n",
              "    <tr>\n",
              "      <th>9481</th>\n",
              "      <td>highlighted text</td>\n",
              "      <td>2052</td>\n",
              "      <td>9481</td>\n",
              "      <td>2012-04-26 21:10:39</td>\n",
              "      <td>Jean Menzies</td>\n",
              "      <td>Hi EdI found out where the highlighted text wa...</td>\n",
              "      <td>[9475]</td>\n",
              "    </tr>\n",
              "    <tr>\n",
              "      <th>9482</th>\n",
              "      <td>highlighted text</td>\n",
              "      <td>2052</td>\n",
              "      <td>9482</td>\n",
              "      <td>2012-04-26 21:15:01</td>\n",
              "      <td>Marquette, Ed</td>\n",
              "      <td>Brilliant to have figured that one out. I woul...</td>\n",
              "      <td>[9481]</td>\n",
              "    </tr>\n",
              "    <tr>\n",
              "      <th>9488</th>\n",
              "      <td>highlighted text</td>\n",
              "      <td>2052</td>\n",
              "      <td>9488</td>\n",
              "      <td>2012-04-27 10:27:40</td>\n",
              "      <td>George Marshall</td>\n",
              "      <td>Ed:Thanks for the paste special tip, I never t...</td>\n",
              "      <td>[9475]</td>\n",
              "    </tr>\n",
              "  </tbody>\n",
              "</table>\n",
              "</div>"
            ],
            "text/plain": [
              "                Thread  ...  ParentID_List\n",
              "9456  highlighted text  ...             -1\n",
              "9457  highlighted text  ...         [9456]\n",
              "9459  highlighted text  ...         [9456]\n",
              "9461  highlighted text  ...         [9459]\n",
              "9472  highlighted text  ...         [9461]\n",
              "9473  highlighted text  ...         [9472]\n",
              "9474  highlighted text  ...         [9473]\n",
              "9475  highlighted text  ...         [9474]\n",
              "9476  highlighted text  ...         [9475]\n",
              "9481  highlighted text  ...         [9475]\n",
              "9482  highlighted text  ...         [9481]\n",
              "9488  highlighted text  ...         [9475]\n",
              "\n",
              "[12 rows x 7 columns]"
            ]
          },
          "metadata": {},
          "execution_count": 61
        }
      ]
    },
    {
      "cell_type": "code",
      "metadata": {
        "id": "5_y3jdvu4q4Q"
      },
      "source": [
        "def get_metrics(s1,s2):\n",
        "  VI_list = []\n",
        "  omega_list = []\n",
        "  one_one_list = []\n",
        "  shen_f1_list = []\n",
        "\n",
        "  for i in range(len(s1)):\n",
        "    if (len(s1[i]) == 0) or (len(s2[i]) == 0):\n",
        "      print(i)\n",
        "      VI_list.append(0)\n",
        "      omega_list.append(0)\n",
        "      one_one_list.append(0)\n",
        "      shen_f1_list.append(0)\n",
        "    else:\n",
        "      VI = get_vi(s1[i],s2[i])\n",
        "      OM = get_omega_score(s1[i],s2[i])\n",
        "      OVO = get_one_to_one(s1[i],s2[i])\n",
        "      SF1 = get_shen_f1(s1[i],s2[i])\n",
        "      VI_list.append(VI)\n",
        "      omega_list.append(OM)\n",
        "      one_one_list.append(OVO)\n",
        "      shen_f1_list.append(SF1)\n",
        "  metrics = pd.DataFrame()\n",
        "  metrics['TID'] = list(test_threads)\n",
        "  metrics['VI'] = VI_list\n",
        "  metrics['Omega'] = omega_list\n",
        "  metrics['one_to_one'] = one_one_list\n",
        "  metrics['shen_F1'] = shen_f1_list\n",
        "  return metrics"
      ],
      "execution_count": 62,
      "outputs": []
    },
    {
      "cell_type": "code",
      "metadata": {
        "id": "fZjSPTzGZXkR"
      },
      "source": [
        "metrics2 = get_metrics(gt,pr2)"
      ],
      "execution_count": 63,
      "outputs": []
    },
    {
      "cell_type": "code",
      "metadata": {
        "colab": {
          "base_uri": "https://localhost:8080/",
          "height": 419
        },
        "id": "je1y-p3dZbv6",
        "outputId": "5af8e177-6fe8-4094-8f6a-795e7df8427c"
      },
      "source": [
        "metrics2"
      ],
      "execution_count": 64,
      "outputs": [
        {
          "output_type": "execute_result",
          "data": {
            "text/html": [
              "<div>\n",
              "<style scoped>\n",
              "    .dataframe tbody tr th:only-of-type {\n",
              "        vertical-align: middle;\n",
              "    }\n",
              "\n",
              "    .dataframe tbody tr th {\n",
              "        vertical-align: top;\n",
              "    }\n",
              "\n",
              "    .dataframe thead th {\n",
              "        text-align: right;\n",
              "    }\n",
              "</style>\n",
              "<table border=\"1\" class=\"dataframe\">\n",
              "  <thead>\n",
              "    <tr style=\"text-align: right;\">\n",
              "      <th></th>\n",
              "      <th>TID</th>\n",
              "      <th>VI</th>\n",
              "      <th>Omega</th>\n",
              "      <th>one_to_one</th>\n",
              "      <th>shen_F1</th>\n",
              "    </tr>\n",
              "  </thead>\n",
              "  <tbody>\n",
              "    <tr>\n",
              "      <th>0</th>\n",
              "      <td>2052</td>\n",
              "      <td>5.669467</td>\n",
              "      <td>0.161</td>\n",
              "      <td>133.333</td>\n",
              "      <td>1.851</td>\n",
              "    </tr>\n",
              "    <tr>\n",
              "      <th>1</th>\n",
              "      <td>22535</td>\n",
              "      <td>2.213854</td>\n",
              "      <td>-0.116</td>\n",
              "      <td>100.000</td>\n",
              "      <td>1.375</td>\n",
              "    </tr>\n",
              "    <tr>\n",
              "      <th>2</th>\n",
              "      <td>22540</td>\n",
              "      <td>11.980412</td>\n",
              "      <td>0.222</td>\n",
              "      <td>107.143</td>\n",
              "      <td>1.341</td>\n",
              "    </tr>\n",
              "    <tr>\n",
              "      <th>3</th>\n",
              "      <td>12301</td>\n",
              "      <td>16.673916</td>\n",
              "      <td>0.577</td>\n",
              "      <td>138.462</td>\n",
              "      <td>1.533</td>\n",
              "    </tr>\n",
              "    <tr>\n",
              "      <th>4</th>\n",
              "      <td>2063</td>\n",
              "      <td>12.970281</td>\n",
              "      <td>0.257</td>\n",
              "      <td>106.250</td>\n",
              "      <td>1.193</td>\n",
              "    </tr>\n",
              "    <tr>\n",
              "      <th>...</th>\n",
              "      <td>...</td>\n",
              "      <td>...</td>\n",
              "      <td>...</td>\n",
              "      <td>...</td>\n",
              "      <td>...</td>\n",
              "    </tr>\n",
              "    <tr>\n",
              "      <th>995</th>\n",
              "      <td>2036</td>\n",
              "      <td>31.503143</td>\n",
              "      <td>0.293</td>\n",
              "      <td>144.444</td>\n",
              "      <td>1.390</td>\n",
              "    </tr>\n",
              "    <tr>\n",
              "      <th>996</th>\n",
              "      <td>22522</td>\n",
              "      <td>4.432252</td>\n",
              "      <td>0.680</td>\n",
              "      <td>120.000</td>\n",
              "      <td>1.371</td>\n",
              "    </tr>\n",
              "    <tr>\n",
              "      <th>997</th>\n",
              "      <td>22524</td>\n",
              "      <td>19.923741</td>\n",
              "      <td>0.302</td>\n",
              "      <td>133.333</td>\n",
              "      <td>1.529</td>\n",
              "    </tr>\n",
              "    <tr>\n",
              "      <th>998</th>\n",
              "      <td>2046</td>\n",
              "      <td>42.853334</td>\n",
              "      <td>0.445</td>\n",
              "      <td>120.000</td>\n",
              "      <td>1.645</td>\n",
              "    </tr>\n",
              "    <tr>\n",
              "      <th>999</th>\n",
              "      <td>2047</td>\n",
              "      <td>9.856548</td>\n",
              "      <td>0.370</td>\n",
              "      <td>109.091</td>\n",
              "      <td>1.181</td>\n",
              "    </tr>\n",
              "  </tbody>\n",
              "</table>\n",
              "<p>1000 rows × 5 columns</p>\n",
              "</div>"
            ],
            "text/plain": [
              "       TID         VI  Omega  one_to_one  shen_F1\n",
              "0     2052   5.669467  0.161     133.333    1.851\n",
              "1    22535   2.213854 -0.116     100.000    1.375\n",
              "2    22540  11.980412  0.222     107.143    1.341\n",
              "3    12301  16.673916  0.577     138.462    1.533\n",
              "4     2063  12.970281  0.257     106.250    1.193\n",
              "..     ...        ...    ...         ...      ...\n",
              "995   2036  31.503143  0.293     144.444    1.390\n",
              "996  22522   4.432252  0.680     120.000    1.371\n",
              "997  22524  19.923741  0.302     133.333    1.529\n",
              "998   2046  42.853334  0.445     120.000    1.645\n",
              "999   2047   9.856548  0.370     109.091    1.181\n",
              "\n",
              "[1000 rows x 5 columns]"
            ]
          },
          "metadata": {},
          "execution_count": 64
        }
      ]
    },
    {
      "cell_type": "code",
      "metadata": {
        "colab": {
          "base_uri": "https://localhost:8080/",
          "height": 297
        },
        "id": "6rWv_4__ZdVr",
        "outputId": "6557c03c-7637-4d56-a6ec-0d1179616fb0"
      },
      "source": [
        "metrics2.describe() #model 2"
      ],
      "execution_count": 66,
      "outputs": [
        {
          "output_type": "execute_result",
          "data": {
            "text/html": [
              "<div>\n",
              "<style scoped>\n",
              "    .dataframe tbody tr th:only-of-type {\n",
              "        vertical-align: middle;\n",
              "    }\n",
              "\n",
              "    .dataframe tbody tr th {\n",
              "        vertical-align: top;\n",
              "    }\n",
              "\n",
              "    .dataframe thead th {\n",
              "        text-align: right;\n",
              "    }\n",
              "</style>\n",
              "<table border=\"1\" class=\"dataframe\">\n",
              "  <thead>\n",
              "    <tr style=\"text-align: right;\">\n",
              "      <th></th>\n",
              "      <th>TID</th>\n",
              "      <th>VI</th>\n",
              "      <th>Omega</th>\n",
              "      <th>one_to_one</th>\n",
              "      <th>shen_F1</th>\n",
              "    </tr>\n",
              "  </thead>\n",
              "  <tbody>\n",
              "    <tr>\n",
              "      <th>count</th>\n",
              "      <td>1000.000000</td>\n",
              "      <td>1000.000000</td>\n",
              "      <td>1000.000000</td>\n",
              "      <td>1000.000000</td>\n",
              "      <td>1000.000000</td>\n",
              "    </tr>\n",
              "    <tr>\n",
              "      <th>mean</th>\n",
              "      <td>10570.267000</td>\n",
              "      <td>21.566533</td>\n",
              "      <td>0.316285</td>\n",
              "      <td>122.850094</td>\n",
              "      <td>1.424375</td>\n",
              "    </tr>\n",
              "    <tr>\n",
              "      <th>std</th>\n",
              "      <td>9136.185749</td>\n",
              "      <td>27.804545</td>\n",
              "      <td>0.190010</td>\n",
              "      <td>27.833744</td>\n",
              "      <td>0.329036</td>\n",
              "    </tr>\n",
              "    <tr>\n",
              "      <th>min</th>\n",
              "      <td>66.000000</td>\n",
              "      <td>2.213854</td>\n",
              "      <td>-0.333000</td>\n",
              "      <td>45.455000</td>\n",
              "      <td>0.537000</td>\n",
              "    </tr>\n",
              "    <tr>\n",
              "      <th>25%</th>\n",
              "      <td>2016.250000</td>\n",
              "      <td>8.993516</td>\n",
              "      <td>0.187750</td>\n",
              "      <td>106.667000</td>\n",
              "      <td>1.210750</td>\n",
              "    </tr>\n",
              "    <tr>\n",
              "      <th>50%</th>\n",
              "      <td>8038.500000</td>\n",
              "      <td>12.942674</td>\n",
              "      <td>0.299000</td>\n",
              "      <td>120.000000</td>\n",
              "      <td>1.390500</td>\n",
              "    </tr>\n",
              "    <tr>\n",
              "      <th>75%</th>\n",
              "      <td>21602.500000</td>\n",
              "      <td>22.864126</td>\n",
              "      <td>0.430500</td>\n",
              "      <td>135.073500</td>\n",
              "      <td>1.580000</td>\n",
              "    </tr>\n",
              "    <tr>\n",
              "      <th>max</th>\n",
              "      <td>22614.000000</td>\n",
              "      <td>371.993184</td>\n",
              "      <td>1.000000</td>\n",
              "      <td>334.783000</td>\n",
              "      <td>3.927000</td>\n",
              "    </tr>\n",
              "  </tbody>\n",
              "</table>\n",
              "</div>"
            ],
            "text/plain": [
              "                TID           VI        Omega   one_to_one      shen_F1\n",
              "count   1000.000000  1000.000000  1000.000000  1000.000000  1000.000000\n",
              "mean   10570.267000    21.566533     0.316285   122.850094     1.424375\n",
              "std     9136.185749    27.804545     0.190010    27.833744     0.329036\n",
              "min       66.000000     2.213854    -0.333000    45.455000     0.537000\n",
              "25%     2016.250000     8.993516     0.187750   106.667000     1.210750\n",
              "50%     8038.500000    12.942674     0.299000   120.000000     1.390500\n",
              "75%    21602.500000    22.864126     0.430500   135.073500     1.580000\n",
              "max    22614.000000   371.993184     1.000000   334.783000     3.927000"
            ]
          },
          "metadata": {},
          "execution_count": 66
        }
      ]
    },
    {
      "cell_type": "code",
      "metadata": {
        "colab": {
          "base_uri": "https://localhost:8080/",
          "height": 297
        },
        "id": "lJFPjoMxaf8i",
        "outputId": "36bc6166-bd73-4744-b7dd-7c0638d819f5"
      },
      "source": [
        "metrics.describe() #model 1"
      ],
      "execution_count": 68,
      "outputs": [
        {
          "output_type": "execute_result",
          "data": {
            "text/html": [
              "<div>\n",
              "<style scoped>\n",
              "    .dataframe tbody tr th:only-of-type {\n",
              "        vertical-align: middle;\n",
              "    }\n",
              "\n",
              "    .dataframe tbody tr th {\n",
              "        vertical-align: top;\n",
              "    }\n",
              "\n",
              "    .dataframe thead th {\n",
              "        text-align: right;\n",
              "    }\n",
              "</style>\n",
              "<table border=\"1\" class=\"dataframe\">\n",
              "  <thead>\n",
              "    <tr style=\"text-align: right;\">\n",
              "      <th></th>\n",
              "      <th>TID</th>\n",
              "      <th>VI</th>\n",
              "      <th>Omega</th>\n",
              "      <th>one_to_one</th>\n",
              "      <th>shen_F1</th>\n",
              "    </tr>\n",
              "  </thead>\n",
              "  <tbody>\n",
              "    <tr>\n",
              "      <th>count</th>\n",
              "      <td>1000.000000</td>\n",
              "      <td>1000.000000</td>\n",
              "      <td>1000.000000</td>\n",
              "      <td>1000.000000</td>\n",
              "      <td>1000.000000</td>\n",
              "    </tr>\n",
              "    <tr>\n",
              "      <th>mean</th>\n",
              "      <td>10570.267000</td>\n",
              "      <td>5.791321</td>\n",
              "      <td>0.040897</td>\n",
              "      <td>50.798530</td>\n",
              "      <td>0.966490</td>\n",
              "    </tr>\n",
              "    <tr>\n",
              "      <th>std</th>\n",
              "      <td>9136.185749</td>\n",
              "      <td>4.589073</td>\n",
              "      <td>0.094611</td>\n",
              "      <td>18.236499</td>\n",
              "      <td>0.306344</td>\n",
              "    </tr>\n",
              "    <tr>\n",
              "      <th>min</th>\n",
              "      <td>66.000000</td>\n",
              "      <td>0.000000</td>\n",
              "      <td>-0.305000</td>\n",
              "      <td>0.000000</td>\n",
              "      <td>0.000000</td>\n",
              "    </tr>\n",
              "    <tr>\n",
              "      <th>25%</th>\n",
              "      <td>2016.250000</td>\n",
              "      <td>3.013670</td>\n",
              "      <td>-0.016250</td>\n",
              "      <td>38.889000</td>\n",
              "      <td>0.782000</td>\n",
              "    </tr>\n",
              "    <tr>\n",
              "      <th>50%</th>\n",
              "      <td>8038.500000</td>\n",
              "      <td>4.523089</td>\n",
              "      <td>0.033500</td>\n",
              "      <td>50.000000</td>\n",
              "      <td>0.942000</td>\n",
              "    </tr>\n",
              "    <tr>\n",
              "      <th>75%</th>\n",
              "      <td>21602.500000</td>\n",
              "      <td>6.988888</td>\n",
              "      <td>0.091000</td>\n",
              "      <td>61.564500</td>\n",
              "      <td>1.130000</td>\n",
              "    </tr>\n",
              "    <tr>\n",
              "      <th>max</th>\n",
              "      <td>22614.000000</td>\n",
              "      <td>44.393783</td>\n",
              "      <td>0.564000</td>\n",
              "      <td>150.000000</td>\n",
              "      <td>2.298000</td>\n",
              "    </tr>\n",
              "  </tbody>\n",
              "</table>\n",
              "</div>"
            ],
            "text/plain": [
              "                TID           VI        Omega   one_to_one      shen_F1\n",
              "count   1000.000000  1000.000000  1000.000000  1000.000000  1000.000000\n",
              "mean   10570.267000     5.791321     0.040897    50.798530     0.966490\n",
              "std     9136.185749     4.589073     0.094611    18.236499     0.306344\n",
              "min       66.000000     0.000000    -0.305000     0.000000     0.000000\n",
              "25%     2016.250000     3.013670    -0.016250    38.889000     0.782000\n",
              "50%     8038.500000     4.523089     0.033500    50.000000     0.942000\n",
              "75%    21602.500000     6.988888     0.091000    61.564500     1.130000\n",
              "max    22614.000000    44.393783     0.564000   150.000000     2.298000"
            ]
          },
          "metadata": {},
          "execution_count": 68
        }
      ]
    },
    {
      "cell_type": "code",
      "metadata": {
        "id": "QexTRW54ajXX"
      },
      "source": [
        ""
      ],
      "execution_count": null,
      "outputs": []
    }
  ]
}