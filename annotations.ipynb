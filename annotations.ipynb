{
  "nbformat": 4,
  "nbformat_minor": 0,
  "metadata": {
    "colab": {
      "name": "annotations.ipynb",
      "provenance": [],
      "collapsed_sections": [],
      "authorship_tag": "ABX9TyMtnYHYFN8vvHDLt23oQUAU",
      "include_colab_link": true
    },
    "kernelspec": {
      "name": "python3",
      "display_name": "Python 3"
    },
    "language_info": {
      "name": "python"
    }
  },
  "cells": [
    {
      "cell_type": "markdown",
      "metadata": {
        "id": "view-in-github",
        "colab_type": "text"
      },
      "source": [
        "<a href=\"https://colab.research.google.com/github/anandraiyer/access_forums_eval/blob/main/annotations.ipynb\" target=\"_parent\"><img src=\"https://colab.research.google.com/assets/colab-badge.svg\" alt=\"Open In Colab\"/></a>"
      ]
    },
    {
      "cell_type": "code",
      "execution_count": null,
      "metadata": {
        "id": "nz-YKHrv_azp"
      },
      "outputs": [],
      "source": [
        "import pandas as pd\n",
        "import numpy as np\n",
        "from datetime import datetime"
      ]
    },
    {
      "cell_type": "code",
      "source": [
        "data = pd.read_csv('/content/drive/MyDrive/final.csv')"
      ],
      "metadata": {
        "id": "7VgwYm8xBMin"
      },
      "execution_count": null,
      "outputs": []
    },
    {
      "cell_type": "code",
      "source": [
        "data.columns"
      ],
      "metadata": {
        "id": "VFe76keuBTJo"
      },
      "execution_count": null,
      "outputs": []
    },
    {
      "cell_type": "code",
      "source": [
        "#Clean up post text attribute\n",
        "#TODO : Check if this causes any inline parent post / quoted text to be lost\n",
        "data['Post'] = data['Post'].str.split('-------------- next part --------------').str[0]\n",
        "data['Post'] = data['Post'].str.split('An HTML attachment was scrubbed').str[0]\n",
        "data['Post'] = data['Post'].str.split('--------------------------------------------------').str[0]"
      ],
      "metadata": {
        "id": "j9OpgYT-BUF-"
      },
      "execution_count": null,
      "outputs": []
    },
    {
      "cell_type": "code",
      "source": [
        "%pip install fuzzywuzzy\n",
        "%pip install python-Levenshtein"
      ],
      "metadata": {
        "id": "GDDFC74_BYG1"
      },
      "execution_count": null,
      "outputs": []
    },
    {
      "cell_type": "code",
      "source": [
        "from fuzzywuzzy import fuzz\n",
        "#helps with partial text matching"
      ],
      "metadata": {
        "id": "kUn6r34JBbhH"
      },
      "execution_count": null,
      "outputs": []
    },
    {
      "cell_type": "code",
      "source": [
        "dic_parentpost = {}\n",
        "min_threads = min(list(data['ThreadID']))\n",
        "max_threads = max(list(data['ThreadID']))\n",
        "\n",
        "#Iterate through every Thread\n",
        "for i in range(min_threads,max_threads+1):\n",
        "  if i%1000 == 0:\n",
        "      print(i)\n",
        "      #Prints an update once every 1000 threads\n",
        "  \n",
        "  #Every Thread is loaded into temp dataframe\n",
        "  temp = data[data['ThreadID']==i]\n",
        "\n",
        "  thread_name = list(temp['Thread'])[0] #Thread Name Text\n",
        "  #Attributes of a post in a Thread\n",
        "  datetime = list(temp['DateTime']) # Datetime of Post\n",
        "  authors = list(temp['Author']) # Author name of a Post\n",
        "  posts = list(temp['Post']) # Body of the Post / Message Text of a Post\n",
        "  parents = list(temp['ParentPosts']) #Quoted Text in a Post\n",
        "  postid = list(temp['PostID']) # Global PostID\n",
        "\n",
        "  #Dictionary with PostID as key and Post Attribute as Value\n",
        "  dic_datetime = {}\n",
        "  dic_authors = {}\n",
        "  dic_posts = {}\n",
        "  dic_parents = {}\n",
        "  dic_postid = {}\n",
        "\n",
        "  #Load Dictionary for the Thread so we can identify attributes of a post with relative postID (eg: Post 0 of a Thread has the following Date etc.)\n",
        "  for j in range(len(postid)):\n",
        "    dic_datetime[j] = datetime[j]\n",
        "    dic_authors[j] = authors[j]\n",
        "    dic_posts[j] = posts[j]\n",
        "    dic_parents[j] = parents[j]\n",
        "    dic_postid[j] = postid[j]\n",
        "\n",
        "  #j identifies the current post id we are trying to find the post ID of the Parent for, from the data in ParentPost Text or data in Post Text if no ParentPost exists\n",
        "  for j in range(1,len(postid)):\n",
        "    if (type(dic_parents.get(j)) == float):\n",
        "      #If no parent post / quoted text field for post j exists ie. it is a nan (data type is float)\n",
        "      PARENTS_NULL = True\n",
        "      if (type(dic_posts.get(j)) == float):\n",
        "        #If the post j is nan / null \n",
        "        POSTS_NULL = True\n",
        "        #print('Null Values for both parents and post : ',i,j)\n",
        "        po = ''\n",
        "        pp = ''\n",
        "      else:\n",
        "        #Parent Post text field for post j is Null / Nan but Post j is not null\n",
        "        po = dic_posts.get(j)\n",
        "        pp = ''\n",
        "    else:\n",
        "      #Parent Post Text field for post j is not Null / Nan\n",
        "      if (type(dic_posts.get(j)) == float):\n",
        "        #Parent Post Text Field is not Null but the Post j is Null\n",
        "        POSTS_NULL = True\n",
        "        po = ''\n",
        "        pp = dic_parents.get(j).replace('-----','').replace('Original Message','')\n",
        "      else:\n",
        "        #Post j and Parent Post text field are not null\n",
        "        po = dic_posts.get(j)\n",
        "        pp = dic_parents.get(j).replace('-----','').replace('Original Message','')\n",
        "    #For every post j, we iterate over all previous posts in the thread in reverse order from j-1 to 0 \n",
        "    #to check if post k is parent of j based on matching post attributes of k and j\n",
        "    for k in range(j-1,-1,-1):\n",
        "      #We use the dictionary to get Post Attributes for post k\n",
        "      cpost = dic_posts.get(k)\n",
        "      cauthor = dic_authors.get(k)\n",
        "      cdate = dic_datetime.get(k)\n",
        "      #2021-12-13 11:01:33.123456 -> format for date time attribute (it is stored as a string)\n",
        "      chours = cdate[10:14].strip()\n",
        "      cminutes = cdate[13:16].strip()\n",
        "      #print(cdate,chours,cminutes)\n",
        "\n",
        "      if type(cpost) == float:\n",
        "        #print('Post is Null.',i,j,k)\n",
        "        continue\n",
        "      if type(cauthor) == float:\n",
        "        #print('Author is Null.',i,j,k)\n",
        "        continue\n",
        "      #Attributes we will match between post j and post k to check if post k is the parent to post j\n",
        "      #Based on the text in the ParentPost field of post j and if no ParentPost field available the Post field of post j\n",
        "      POST_MATCH = False \n",
        "      AUTHOR_MATCH = False\n",
        "      AUTHOR_POST = False\n",
        "      TIME_MATCH = False\n",
        "\n",
        "      #Check if Parent Post field is atleast greater than 3 chars long 'Nan' \n",
        "      if len(pp) > 3:\n",
        "        #Check if the message body of post k is in the ParentPost field of post j\n",
        "        #Set Flag POST_MATCH true if this is the case\n",
        "        if cpost.lower() in pp.lower():\n",
        "          POST_MATCH = True\n",
        "        #Check if Hour attribute or Minutes attribute from time stamp of post k are present in ParentPost field of post j\n",
        "        #We use the first word in the author name to test in case of a coincidence where another post may have similar timestamp\n",
        "        #We also check if there is atleast an 80% fuzzy match between message body of post k and ParentPost text in post j\n",
        "        #Set Flag TIME_MATCH true if this is the case\n",
        "        #TODO : Check if chours match is accurate for cases of TimeZone difference between post k and post j\n",
        "        if ((chours in pp) or (cminutes in pp)) and (cauthor.split()[0].lower() in pp.lower()) and (fuzz.token_set_ratio(cpost.lower()[:len(cpost)//2],pp.lower().split('From:')[0])>80):\n",
        "          TIME_MATCH = True\n",
        "\n",
        "        #Get word tokens from ParentPost text field of post j\n",
        "        words = pp.split()\n",
        "\n",
        "        #For Author Name of post k\n",
        "        for u in cauthor.lower():\n",
        "          #Break author name into tokens and check if any token is in the ParentPost field. eg 'Brian Vogel' becomes 'brian' and 'vogel'\n",
        "          #Set AUTHOR_MATCH as True\n",
        "          if u in pp.lower():\n",
        "            AUTHOR_MATCH = True\n",
        "        #Parent Posts that Start with the token / word 'From:'    \n",
        "        if words[0] == 'From:':\n",
        "          #If the first token in Author Name of post k is present in the Parent Post text of post j before the word 'sent' and is atleast 2 chars long\n",
        "          #Set AUTHOR_MATCH token as true\n",
        "          if (cauthor.split()[0].lower() in pp.lower().split('sent')[0]) and len(cauthor.split()[0])>2:\n",
        "            AUTHOR_MATCH = True\n",
        "        #Parent Posts that Start with the token / word 'On'\n",
        "        elif words[0] == 'On':\n",
        "          #Check if first token in Author Name of post k is present in the Parent Post text of post j before the word 'wrote'\n",
        "          #Set AUTHOR_MATCH as true \n",
        "          if (cauthor.split()[0].lower() in pp.lower().split('wrote')[0]) and len(cauthor.split()[0])>2:\n",
        "            AUTHOR_MATCH = True\n",
        "        else:\n",
        "          #All other types of Parent Post text field for post j\n",
        "          #Check if author name of post k is in parent post text field of post j\n",
        "          if cauthor.lower() in pp.lower():\n",
        "            AUTHOR_MATCH = True\n",
        "      else:\n",
        "        #Case that Prof IV was interested in during the meeting on Dec 12,2021 <---- ATTN!!!\n",
        "        #If there is no Parent Post text for post j we check if Quoted Text is present in the Post body of post j\n",
        "        #TODO : Test this case -> look for examples and how the code identifies the annotation\n",
        "        if cauthor.lower() in po.lower():\n",
        "          #If the author name of post k is in the post message text of post j then set AUTHOR_POST flag true\n",
        "          AUTHOR_POST = True\n",
        "\n",
        "      #If we have AUTHOR_MATCH flag true but the TIME_MATCH and AUTHOR_POST flag do not match (so that we do not match another post by same author as parent)\n",
        "      #We use the costlier (in terms of time) / slower fuzzy matching step \n",
        "      if AUTHOR_MATCH == True and TIME_MATCH == False and AUTHOR_POST == False:\n",
        "        # lev_ratio = fuzz.partial_ratio(cpost.lower(),pp.lower())\n",
        "        lev_ratio_1 = fuzz.token_set_ratio(cpost.lower()[:len(cpost)//2],pp.lower().split('From:')[0])\n",
        "        #It matches the tokens in the post body of post k as a set and the parent post text in post j prior to From: token as a set\n",
        "\n",
        "        if lev_ratio_1 < 85:\n",
        "          #If this ratio is less than 85% match we cannot say we have an author match\n",
        "          #TODO find examples where this threshold fails\n",
        "          AUTHOR_MATCH = False\n",
        "\n",
        "      #Finally we can assign values\n",
        "      #If atleast one of the 4 test flags are true we can assign post k as the parent of post j\n",
        "      if POST_MATCH == True or AUTHOR_MATCH == True or TIME_MATCH == True or AUTHOR_POST == True:\n",
        "        #print('Match : ',i,j,k)\n",
        "        dic_parentpost[dic_postid.get(j)] = dic_postid.get(k)\n",
        "        #For the key postid j we assign parent postid k and we break to go to next post j in search of a parent\n",
        "        break\n",
        "\n",
        "    #DEFAULT CASE : Assign the previous post j-1 as the parent post for post j if there is no match for any previous post 0,...,j-1 for post j\n",
        "    #TODO : Discuss with Vikas if this case can be removed\n",
        "    if POST_MATCH == False and AUTHOR_MATCH == False and TIME_MATCH == False and AUTHOR_POST == False:\n",
        "      #print('Default : ',i,j,j-1)\n",
        "      dic_parentpost[dic_postid.get(j)] = dic_postid.get(j-1)"
      ],
      "metadata": {
        "id": "srgtJ51uBevQ"
      },
      "execution_count": null,
      "outputs": []
    },
    {
      "cell_type": "code",
      "source": [
        "parent_id_list = []\n",
        "a = list(data['PostID'])\n",
        "for i in range(len(a)):\n",
        "  parent_id_list.append(dic_parentpost.get(a[i],-1))"
      ],
      "metadata": {
        "id": "9SGbQe84BuYP"
      },
      "execution_count": null,
      "outputs": []
    },
    {
      "cell_type": "code",
      "source": [
        "data['ParentID_List'] = parent_id_list"
      ],
      "metadata": {
        "id": "OolSYMNyB0nw"
      },
      "execution_count": null,
      "outputs": []
    },
    {
      "cell_type": "code",
      "source": [
        "#Final Forum Dataset with annotations\n",
        "data"
      ],
      "metadata": {
        "id": "FU7K07z-B58j"
      },
      "execution_count": null,
      "outputs": []
    }
  ]
}